{
 "cells": [
  {
   "cell_type": "markdown",
   "metadata": {},
   "source": [
    "# Average method, Naive method, Seasonal naive method, Drift method\n",
    "\n",
    "위 메소드들을 적용해보기 위해 train 데이터셋과 test 데이터셋을 나눠 실습을 진행할겁니다. 우리가 가지고 있는 전체 데이터셋에서 나누는 것이므로 test 데이터셋 전체 데이터 개수를 보고 h를 정해서 명시해줘야 합니다.<br/>\n",
    "학습데이터와 테스트데이터(마지막h=10)를 나누어 계산한 것입니다.<br/>\n",
    "\n",
    "테스트시의 RMSE값이 더 작으니 이상한 결과를 얻었습니다.ㅎㅎ<br/>"
   ]
  },
  {
   "cell_type": "code",
   "execution_count": 1,
   "metadata": {},
   "outputs": [
    {
     "name": "stderr",
     "output_type": "stream",
     "text": [
      "Warning message:\n",
      "\"package 'forecast' was built under R version 3.6.3\"\n",
      "Registered S3 methods overwritten by 'ggplot2':\n",
      "  method         from \n",
      "  [.quosures     rlang\n",
      "  c.quosures     rlang\n",
      "  print.quosures rlang\n",
      "\n",
      "Registered S3 method overwritten by 'xts':\n",
      "  method     from\n",
      "  as.zoo.xts zoo \n",
      "\n",
      "Registered S3 method overwritten by 'quantmod':\n",
      "  method            from\n",
      "  as.zoo.data.frame zoo \n",
      "\n",
      "Warning message:\n",
      "\"package 'fpp2' was built under R version 3.6.3\"\n",
      "Loading required package: ggplot2\n",
      "\n",
      "Loading required package: fma\n",
      "\n",
      "Warning message:\n",
      "\"package 'fma' was built under R version 3.6.3\"\n",
      "Loading required package: expsmooth\n",
      "\n",
      "Warning message:\n",
      "\"package 'expsmooth' was built under R version 3.6.3\"\n"
     ]
    },
    {
     "data": {
      "text/html": [
       "<table>\n",
       "<caption>A matrix: 2 × 8 of type dbl</caption>\n",
       "<thead>\n",
       "\t<tr><th></th><th scope=col>ME</th><th scope=col>RMSE</th><th scope=col>MAE</th><th scope=col>MPE</th><th scope=col>MAPE</th><th scope=col>MASE</th><th scope=col>ACF1</th><th scope=col>Theil's U</th></tr>\n",
       "</thead>\n",
       "<tbody>\n",
       "\t<tr><th scope=row>Training set</th><td>  0.000</td><td>43.62858</td><td>35.23438</td><td>-0.9365102</td><td>7.886776</td><td>2.463942</td><td>-0.10915105</td><td>      NA</td></tr>\n",
       "\t<tr><th scope=row>Test set</th><td>-13.775</td><td>38.44724</td><td>34.82500</td><td>-3.9698659</td><td>8.283390</td><td>2.435315</td><td>-0.06905715</td><td>0.801254</td></tr>\n",
       "</tbody>\n",
       "</table>\n"
      ],
      "text/latex": [
       "A matrix: 2 × 8 of type dbl\n",
       "\\begin{tabular}{r|llllllll}\n",
       "  & ME & RMSE & MAE & MPE & MAPE & MASE & ACF1 & Theil's U\\\\\n",
       "\\hline\n",
       "\tTraining set &   0.000 & 43.62858 & 35.23438 & -0.9365102 & 7.886776 & 2.463942 & -0.10915105 &       NA\\\\\n",
       "\tTest set & -13.775 & 38.44724 & 34.82500 & -3.9698659 & 8.283390 & 2.435315 & -0.06905715 & 0.801254\\\\\n",
       "\\end{tabular}\n"
      ],
      "text/markdown": [
       "\n",
       "A matrix: 2 × 8 of type dbl\n",
       "\n",
       "| <!--/--> | ME | RMSE | MAE | MPE | MAPE | MASE | ACF1 | Theil's U |\n",
       "|---|---|---|---|---|---|---|---|---|\n",
       "| Training set |   0.000 | 43.62858 | 35.23438 | -0.9365102 | 7.886776 | 2.463942 | -0.10915105 |       NA |\n",
       "| Test set | -13.775 | 38.44724 | 34.82500 | -3.9698659 | 8.283390 | 2.435315 | -0.06905715 | 0.801254 |\n",
       "\n"
      ],
      "text/plain": [
       "             ME      RMSE     MAE      MPE        MAPE     MASE     ACF1       \n",
       "Training set   0.000 43.62858 35.23438 -0.9365102 7.886776 2.463942 -0.10915105\n",
       "Test set     -13.775 38.44724 34.82500 -3.9698659 8.283390 2.435315 -0.06905715\n",
       "             Theil's U\n",
       "Training set       NA \n",
       "Test set     0.801254 "
      ]
     },
     "metadata": {},
     "output_type": "display_data"
    },
    {
     "data": {
      "text/html": [
       "<table>\n",
       "<caption>A matrix: 2 × 8 of type dbl</caption>\n",
       "<thead>\n",
       "\t<tr><th></th><th scope=col>ME</th><th scope=col>RMSE</th><th scope=col>MAE</th><th scope=col>MPE</th><th scope=col>MAPE</th><th scope=col>MASE</th><th scope=col>ACF1</th><th scope=col>Theil's U</th></tr>\n",
       "</thead>\n",
       "<tbody>\n",
       "\t<tr><th scope=row>Training set</th><td>  0.4761905</td><td>65.31511</td><td>54.73016</td><td> -0.9162496</td><td>12.16415</td><td>3.827284</td><td>-0.24098292</td><td>      NA</td></tr>\n",
       "\t<tr><th scope=row>Test set</th><td>-51.4000000</td><td>62.69290</td><td>57.40000</td><td>-12.9549160</td><td>14.18442</td><td>4.013986</td><td>-0.06905715</td><td>1.254009</td></tr>\n",
       "</tbody>\n",
       "</table>\n"
      ],
      "text/latex": [
       "A matrix: 2 × 8 of type dbl\n",
       "\\begin{tabular}{r|llllllll}\n",
       "  & ME & RMSE & MAE & MPE & MAPE & MASE & ACF1 & Theil's U\\\\\n",
       "\\hline\n",
       "\tTraining set &   0.4761905 & 65.31511 & 54.73016 &  -0.9162496 & 12.16415 & 3.827284 & -0.24098292 &       NA\\\\\n",
       "\tTest set & -51.4000000 & 62.69290 & 57.40000 & -12.9549160 & 14.18442 & 4.013986 & -0.06905715 & 1.254009\\\\\n",
       "\\end{tabular}\n"
      ],
      "text/markdown": [
       "\n",
       "A matrix: 2 × 8 of type dbl\n",
       "\n",
       "| <!--/--> | ME | RMSE | MAE | MPE | MAPE | MASE | ACF1 | Theil's U |\n",
       "|---|---|---|---|---|---|---|---|---|\n",
       "| Training set |   0.4761905 | 65.31511 | 54.73016 |  -0.9162496 | 12.16415 | 3.827284 | -0.24098292 |       NA |\n",
       "| Test set | -51.4000000 | 62.69290 | 57.40000 | -12.9549160 | 14.18442 | 4.013986 | -0.06905715 | 1.254009 |\n",
       "\n"
      ],
      "text/plain": [
       "             ME          RMSE     MAE      MPE         MAPE     MASE    \n",
       "Training set   0.4761905 65.31511 54.73016  -0.9162496 12.16415 3.827284\n",
       "Test set     -51.4000000 62.69290 57.40000 -12.9549160 14.18442 4.013986\n",
       "             ACF1        Theil's U\n",
       "Training set -0.24098292       NA \n",
       "Test set     -0.06905715 1.254009 "
      ]
     },
     "metadata": {},
     "output_type": "display_data"
    },
    {
     "data": {
      "text/html": [
       "<table>\n",
       "<caption>A matrix: 2 × 8 of type dbl</caption>\n",
       "<thead>\n",
       "\t<tr><th></th><th scope=col>ME</th><th scope=col>RMSE</th><th scope=col>MAE</th><th scope=col>MPE</th><th scope=col>MAPE</th><th scope=col>MASE</th><th scope=col>ACF1</th><th scope=col>Theil's U</th></tr>\n",
       "</thead>\n",
       "<tbody>\n",
       "\t<tr><th scope=row>Training set</th><td>-2.133333</td><td>16.78193</td><td>14.3</td><td>-0.5537713</td><td>3.313685</td><td>1.0000000</td><td>-0.2876333</td><td>      NA</td></tr>\n",
       "\t<tr><th scope=row>Test set</th><td> 5.200000</td><td>14.31084</td><td>13.4</td><td> 1.1475536</td><td>3.168503</td><td>0.9370629</td><td> 0.1318407</td><td>0.298728</td></tr>\n",
       "</tbody>\n",
       "</table>\n"
      ],
      "text/latex": [
       "A matrix: 2 × 8 of type dbl\n",
       "\\begin{tabular}{r|llllllll}\n",
       "  & ME & RMSE & MAE & MPE & MAPE & MASE & ACF1 & Theil's U\\\\\n",
       "\\hline\n",
       "\tTraining set & -2.133333 & 16.78193 & 14.3 & -0.5537713 & 3.313685 & 1.0000000 & -0.2876333 &       NA\\\\\n",
       "\tTest set &  5.200000 & 14.31084 & 13.4 &  1.1475536 & 3.168503 & 0.9370629 &  0.1318407 & 0.298728\\\\\n",
       "\\end{tabular}\n"
      ],
      "text/markdown": [
       "\n",
       "A matrix: 2 × 8 of type dbl\n",
       "\n",
       "| <!--/--> | ME | RMSE | MAE | MPE | MAPE | MASE | ACF1 | Theil's U |\n",
       "|---|---|---|---|---|---|---|---|---|\n",
       "| Training set | -2.133333 | 16.78193 | 14.3 | -0.5537713 | 3.313685 | 1.0000000 | -0.2876333 |       NA |\n",
       "| Test set |  5.200000 | 14.31084 | 13.4 |  1.1475536 | 3.168503 | 0.9370629 |  0.1318407 | 0.298728 |\n",
       "\n"
      ],
      "text/plain": [
       "             ME        RMSE     MAE  MPE        MAPE     MASE      ACF1      \n",
       "Training set -2.133333 16.78193 14.3 -0.5537713 3.313685 1.0000000 -0.2876333\n",
       "Test set      5.200000 14.31084 13.4  1.1475536 3.168503 0.9370629  0.1318407\n",
       "             Theil's U\n",
       "Training set       NA \n",
       "Test set     0.298728 "
      ]
     },
     "metadata": {},
     "output_type": "display_data"
    },
    {
     "data": {
      "image/png": "[encoded data removed]",
      "text/plain": [
       "plot without title"
      ]
     },
     "metadata": {
      "image/png": {
       "height": 420,
       "width": 420
      }
     },
     "output_type": "display_data"
    }
   ],
   "source": [
    "library(forecast)\n",
    "library(fpp2)\n",
    "beer2 <- window(ausbeer,start=1992,end=c(2007,4))\n",
    "beerfit1 <- meanf(beer2,h=10)\n",
    "beerfit2 <- rwf(beer2,h=10)\n",
    "beerfit3 <- snaive(beer2,h=10)\n",
    "autoplot(window(ausbeer, start=1992)) +\n",
    "autolayer(beerfit1, series=\"Mean\", PI=FALSE) + autolayer(beerfit2, series=\"Naive\",PI=FALSE) + autolayer(beerfit3, series=\"Seasonal naive\", PI=FALSE) + xlab(\"Year\") + ylab(\"Megalitres\") + ggtitle(\"Forecasts for quarterly beer production\") + guides(colour=guide_legend(title=\"Forecast\"))\n",
    "beer3 <- window(ausbeer, start=2008)\n",
    "accuracy(beerfit1, beer3)\n",
    "accuracy(beerfit2, beer3)\n",
    "accuracy(beerfit3, beer3)"
   ]
  }
 ],
 "metadata": {
  "kernelspec": {
   "display_name": "R",
   "language": "R",
   "name": "ir"
  },
  "language_info": {
   "codemirror_mode": "r",
   "file_extension": ".r",
   "mimetype": "text/x-r-source",
   "name": "R",
   "pygments_lexer": "r",
   "version": "3.6.1"
  }
 },
 "nbformat": 4,
 "nbformat_minor": 4
}
