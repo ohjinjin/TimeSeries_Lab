{
 "cells": [
  {
   "cell_type": "code",
   "execution_count": 1,
   "metadata": {},
   "outputs": [
    {
     "name": "stderr",
     "output_type": "stream",
     "text": [
      "Warning message:\n",
      "\"package 'forecast' was built under R version 3.6.3\"\n",
      "Registered S3 methods overwritten by 'ggplot2':\n",
      "  method         from \n",
      "  [.quosures     rlang\n",
      "  c.quosures     rlang\n",
      "  print.quosures rlang\n",
      "\n",
      "Registered S3 method overwritten by 'xts':\n",
      "  method     from\n",
      "  as.zoo.xts zoo \n",
      "\n",
      "Registered S3 method overwritten by 'quantmod':\n",
      "  method            from\n",
      "  as.zoo.data.frame zoo \n",
      "\n",
      "Warning message:\n",
      "\"package 'fpp2' was built under R version 3.6.3\"\n",
      "Loading required package: ggplot2\n",
      "\n",
      "Loading required package: fma\n",
      "\n",
      "Warning message:\n",
      "\"package 'fma' was built under R version 3.6.3\"\n",
      "Loading required package: expsmooth\n",
      "\n",
      "Warning message:\n",
      "\"package 'expsmooth' was built under R version 3.6.3\"\n"
     ]
    }
   ],
   "source": [
    "library(forecast)\n",
    "library(fpp2)\n",
    "\n",
    "train <- window(auscafe, end=c(2012,9))\n",
    "h <- length(auscafe)-length(train)\n",
    "\n",
    "ETS <- forecast(ets(train),h=h)\n",
    "ARIMA <- forecast(auto.arima(train, lambda=0), h=h)\n",
    "STL <- stlf(train,lambda=0,h=h)\n",
    "NNAR <- forecast(nnetar(train),h=h)\n",
    "Combination <- (ETS[[\"mean\"]]+ARIMA[[\"mean\"]]+STL[[\"mean\"]]+NNAR[[\"mean\"]])/4"
   ]
  },
  {
   "cell_type": "code",
   "execution_count": 2,
   "metadata": {},
   "outputs": [
    {
     "data": {
      "text/html": [
       "<style>\n",
       ".dl-inline {width: auto; margin:0; padding: 0}\n",
       ".dl-inline>dt, .dl-inline>dd {float: none; width: auto; display: inline-block}\n",
       ".dl-inline>dt::after {content: \":\\0020\"; padding-right: .5ex}\n",
       ".dl-inline>dt:not(:first-of-type) {padding-left: .5ex}\n",
       "</style><dl class=dl-inline><dt>ETS</dt><dd>0.136996961902769</dd><dt>ARIMA</dt><dd>0.120691089786877</dd><dt>STLETS</dt><dd>0.201227236317767</dd><dt>NNAR</dt><dd>0.30974339519088</dd><dt>Combination</dt><dd>0.0768261448651161</dd></dl>\n"
      ],
      "text/latex": [
       "\\begin{description*}\n",
       "\\item[ETS] 0.136996961902769\n",
       "\\item[ARIMA] 0.120691089786877\n",
       "\\item[STLETS] 0.201227236317767\n",
       "\\item[NNAR] 0.30974339519088\n",
       "\\item[Combination] 0.0768261448651161\n",
       "\\end{description*}\n"
      ],
      "text/markdown": [
       "ETS\n",
       ":   0.136996961902769ARIMA\n",
       ":   0.120691089786877STLETS\n",
       ":   0.201227236317767NNAR\n",
       ":   0.30974339519088Combination\n",
       ":   0.0768261448651161\n",
       "\n"
      ],
      "text/plain": [
       "        ETS       ARIMA      STLETS        NNAR Combination \n",
       " 0.13699696  0.12069109  0.20122724  0.30974340  0.07682614 "
      ]
     },
     "metadata": {},
     "output_type": "display_data"
    }
   ],
   "source": [
    "c(ETS=accuracy(ETS,auscafe)[\"Test set\",\"RMSE\"], ARIMA=accuracy(ARIMA,auscafe)[\"Test set\",\"RMSE\"],STLETS=accuracy(STL,auscafe)[\"Test set\",\"RMSE\"], NNAR=accuracy(NNAR,auscafe)[\"Test set\",\"RMSE\"], Combination=accuracy(Combination,auscafe)[\"Test set\",\"RMSE\"])"
   ]
  },
  {
   "cell_type": "code",
   "execution_count": 3,
   "metadata": {},
   "outputs": [
    {
     "data": {
      "image/png": "[encoded data removed]",
      "text/plain": [
       "plot without title"
      ]
     },
     "metadata": {
      "image/png": {
       "height": 420,
       "width": 420
      }
     },
     "output_type": "display_data"
    }
   ],
   "source": [
    "library(ggplot2)\n",
    "\n",
    "autoplot(auscafe) + autolayer(ETS,series=\"ETS\",PI=FALSE) + autolayer(ARIMA,series=\"ARIMA\",PI=FALSE) + autolayer(STL,series=\"STL\",PI=FALSE) + autolayer(NNAR,series=\"NNAR\",PI=FALSE) + autolayer(Combination, series=\"Combination\") + xlab(\"Year\") + ylab(\"$ billion\") + ggtitle(\"Austrailian monthly expenditure on eating on eating out\")"
   ]
  },
  {
   "cell_type": "code",
   "execution_count": null,
   "metadata": {},
   "outputs": [],
   "source": []
  }
 ],
 "metadata": {
  "kernelspec": {
   "display_name": "R",
   "language": "R",
   "name": "ir"
  },
  "language_info": {
   "codemirror_mode": "r",
   "file_extension": ".r",
   "mimetype": "text/x-r-source",
   "name": "R",
   "pygments_lexer": "r",
   "version": "3.6.1"
  }
 },
 "nbformat": 4,
 "nbformat_minor": 4
}
