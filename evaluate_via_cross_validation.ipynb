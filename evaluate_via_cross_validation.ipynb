{
 "cells": [
  {
   "cell_type": "code",
   "execution_count": 1,
   "metadata": {},
   "outputs": [
    {
     "name": "stderr",
     "output_type": "stream",
     "text": [
      "Warning message:\n",
      "\"package 'forecast' was built under R version 3.6.3\"\n",
      "Registered S3 methods overwritten by 'ggplot2':\n",
      "  method         from \n",
      "  [.quosures     rlang\n",
      "  c.quosures     rlang\n",
      "  print.quosures rlang\n",
      "\n",
      "Registered S3 method overwritten by 'xts':\n",
      "  method     from\n",
      "  as.zoo.xts zoo \n",
      "\n",
      "Registered S3 method overwritten by 'quantmod':\n",
      "  method            from\n",
      "  as.zoo.data.frame zoo \n",
      "\n",
      "Warning message:\n",
      "\"package 'fpp2' was built under R version 3.6.3\"\n",
      "Loading required package: ggplot2\n",
      "\n",
      "Loading required package: fma\n",
      "\n",
      "Warning message:\n",
      "\"package 'fma' was built under R version 3.6.3\"\n",
      "Loading required package: expsmooth\n",
      "\n",
      "Warning message:\n",
      "\"package 'expsmooth' was built under R version 3.6.3\"\n"
     ]
    },
    {
     "data": {
      "text/html": [
       "-11.4107549409821"
      ],
      "text/latex": [
       "-11.4107549409821"
      ],
      "text/markdown": [
       "-11.4107549409821"
      ],
      "text/plain": [
       "[1] -11.41075"
      ]
     },
     "metadata": {},
     "output_type": "display_data"
    },
    {
     "data": {
      "text/html": [
       "-11.4107549409821"
      ],
      "text/latex": [
       "-11.4107549409821"
      ],
      "text/markdown": [
       "-11.4107549409821"
      ],
      "text/plain": [
       "[1] -11.41075"
      ]
     },
     "metadata": {},
     "output_type": "display_data"
    }
   ],
   "source": [
    "library(forecast)\n",
    "library(fpp2)\n",
    "\n",
    "far2 <- function(x,h){forecast(Arima(x, order=c(2,0,0)), h=h)}\n",
    "e <- tsCV(lynx, far2, h=1, window=30)\n",
    "\n",
    "fit1 <- Arima(lynx[1:30], order=c(2,0,0))\n",
    "fcast1 <- forecast(fit1, h=1)\n",
    "lynx[31] - fcast1$mean[1]; e[30]"
   ]
  },
  {
   "cell_type": "code",
   "execution_count": 2,
   "metadata": {},
   "outputs": [
    {
     "data": {
      "text/html": [
       "-578.658037945765"
      ],
      "text/latex": [
       "-578.658037945765"
      ],
      "text/markdown": [
       "-578.658037945765"
      ],
      "text/plain": [
       "[1] -578.658"
      ]
     },
     "metadata": {},
     "output_type": "display_data"
    },
    {
     "data": {
      "text/html": [
       "-578.658037945765"
      ],
      "text/latex": [
       "-578.658037945765"
      ],
      "text/markdown": [
       "-578.658037945765"
      ],
      "text/plain": [
       "[1] -578.658"
      ]
     },
     "metadata": {},
     "output_type": "display_data"
    }
   ],
   "source": [
    "fit2 <- Arima(lynx[2:31], order=c(2,0,0))\n",
    "fcast2 <- forecast(fit2, h=1)\n",
    "lynx[32] - fcast2$mean[1]; e[31]"
   ]
  },
  {
   "cell_type": "code",
   "execution_count": null,
   "metadata": {},
   "outputs": [],
   "source": []
  }
 ],
 "metadata": {
  "kernelspec": {
   "display_name": "R",
   "language": "R",
   "name": "ir"
  },
  "language_info": {
   "codemirror_mode": "r",
   "file_extension": ".r",
   "mimetype": "text/x-r-source",
   "name": "R",
   "pygments_lexer": "r",
   "version": "3.6.1"
  }
 },
 "nbformat": 4,
 "nbformat_minor": 4
}
