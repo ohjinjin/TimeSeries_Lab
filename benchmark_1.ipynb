{
 "cells": [
  {
   "cell_type": "markdown",
   "metadata": {},
   "source": [
    "# Average method, Naive method, Seasonal naive method, Drift method\n",
    "\n",
    "위 메소드들을 적용해보기 위해 train 데이터셋과 test 데이터셋을 나눠 실습을 진행할겁니다.\n",
    "goog 데이터는 일별데이터(주말제외)로 h=40으로 설정하게되면 총 200일의 데이터를 학습용으로 사용한 셈이 됩니다.\n",
    "\n",
    "여기에서는 average method와 naive method, drift method를 확인해볼 겁니다.\n",
    "naive method는 naive()메소드로도 사용가능하지만, rwf()에서 drift 값을 FALSE로 두니 정말로 naive method가 나오는 것을 확인하실 수 있습니다."
   ]
  },
  {
   "cell_type": "code",
   "execution_count": 1,
   "metadata": {},
   "outputs": [
    {
     "name": "stderr",
     "output_type": "stream",
     "text": [
      "Warning message:\n",
      "\"package 'forecast' was built under R version 3.6.3\"\n",
      "Registered S3 methods overwritten by 'ggplot2':\n",
      "  method         from \n",
      "  [.quosures     rlang\n",
      "  c.quosures     rlang\n",
      "  print.quosures rlang\n",
      "\n",
      "Registered S3 method overwritten by 'xts':\n",
      "  method     from\n",
      "  as.zoo.xts zoo \n",
      "\n",
      "Registered S3 method overwritten by 'quantmod':\n",
      "  method            from\n",
      "  as.zoo.data.frame zoo \n",
      "\n",
      "Warning message:\n",
      "\"package 'fpp2' was built under R version 3.6.3\"\n",
      "Loading required package: ggplot2\n",
      "\n",
      "Loading required package: fma\n",
      "\n",
      "Warning message:\n",
      "\"package 'fma' was built under R version 3.6.3\"\n",
      "Loading required package: expsmooth\n",
      "\n",
      "Warning message:\n",
      "\"package 'expsmooth' was built under R version 3.6.3\"\n"
     ]
    },
    {
     "data": {
      "text/html": [
       "<table>\n",
       "<caption>A matrix: 2 × 8 of type dbl</caption>\n",
       "<thead>\n",
       "\t<tr><th></th><th scope=col>ME</th><th scope=col>RMSE</th><th scope=col>MAE</th><th scope=col>MPE</th><th scope=col>MAPE</th><th scope=col>MASE</th><th scope=col>ACF1</th><th scope=col>Theil's U</th></tr>\n",
       "</thead>\n",
       "<tbody>\n",
       "\t<tr><th scope=row>Training set</th><td>-4.296286e-15</td><td> 36.91961</td><td> 26.86941</td><td>-0.6596884</td><td> 5.95376</td><td> 7.182995</td><td>0.9668981</td><td>      NA</td></tr>\n",
       "\t<tr><th scope=row>Test set</th><td> 1.132697e+02</td><td>114.21375</td><td>113.26971</td><td>20.3222979</td><td>20.32230</td><td>30.280376</td><td>0.8104340</td><td>13.92142</td></tr>\n",
       "</tbody>\n",
       "</table>\n"
      ],
      "text/latex": [
       "A matrix: 2 × 8 of type dbl\n",
       "\\begin{tabular}{r|llllllll}\n",
       "  & ME & RMSE & MAE & MPE & MAPE & MASE & ACF1 & Theil's U\\\\\n",
       "\\hline\n",
       "\tTraining set & -4.296286e-15 &  36.91961 &  26.86941 & -0.6596884 &  5.95376 &  7.182995 & 0.9668981 &       NA\\\\\n",
       "\tTest set &  1.132697e+02 & 114.21375 & 113.26971 & 20.3222979 & 20.32230 & 30.280376 & 0.8104340 & 13.92142\\\\\n",
       "\\end{tabular}\n"
      ],
      "text/markdown": [
       "\n",
       "A matrix: 2 × 8 of type dbl\n",
       "\n",
       "| <!--/--> | ME | RMSE | MAE | MPE | MAPE | MASE | ACF1 | Theil's U |\n",
       "|---|---|---|---|---|---|---|---|---|\n",
       "| Training set | -4.296286e-15 |  36.91961 |  26.86941 | -0.6596884 |  5.95376 |  7.182995 | 0.9668981 |       NA |\n",
       "| Test set |  1.132697e+02 | 114.21375 | 113.26971 | 20.3222979 | 20.32230 | 30.280376 | 0.8104340 | 13.92142 |\n",
       "\n"
      ],
      "text/plain": [
       "             ME            RMSE      MAE       MPE        MAPE     MASE     \n",
       "Training set -4.296286e-15  36.91961  26.86941 -0.6596884  5.95376  7.182995\n",
       "Test set      1.132697e+02 114.21375 113.26971 20.3222979 20.32230 30.280376\n",
       "             ACF1      Theil's U\n",
       "Training set 0.9668981       NA \n",
       "Test set     0.8104340 13.92142 "
      ]
     },
     "metadata": {},
     "output_type": "display_data"
    },
    {
     "data": {
      "text/html": [
       "<table>\n",
       "<caption>A matrix: 2 × 8 of type dbl</caption>\n",
       "<thead>\n",
       "\t<tr><th></th><th scope=col>ME</th><th scope=col>RMSE</th><th scope=col>MAE</th><th scope=col>MPE</th><th scope=col>MAPE</th><th scope=col>MASE</th><th scope=col>ACF1</th><th scope=col>Theil's U</th></tr>\n",
       "</thead>\n",
       "<tbody>\n",
       "\t<tr><th scope=row>Training set</th><td> 0.6967249</td><td> 6.208148</td><td> 3.740697</td><td>0.1426616</td><td>0.8437137</td><td>1.000000</td><td>-0.06038617</td><td>      NA</td></tr>\n",
       "\t<tr><th scope=row>Test set</th><td>24.3677328</td><td>28.434837</td><td>24.593517</td><td>4.3171356</td><td>4.3599811</td><td>6.574582</td><td> 0.81043397</td><td>3.451903</td></tr>\n",
       "</tbody>\n",
       "</table>\n"
      ],
      "text/latex": [
       "A matrix: 2 × 8 of type dbl\n",
       "\\begin{tabular}{r|llllllll}\n",
       "  & ME & RMSE & MAE & MPE & MAPE & MASE & ACF1 & Theil's U\\\\\n",
       "\\hline\n",
       "\tTraining set &  0.6967249 &  6.208148 &  3.740697 & 0.1426616 & 0.8437137 & 1.000000 & -0.06038617 &       NA\\\\\n",
       "\tTest set & 24.3677328 & 28.434837 & 24.593517 & 4.3171356 & 4.3599811 & 6.574582 &  0.81043397 & 3.451903\\\\\n",
       "\\end{tabular}\n"
      ],
      "text/markdown": [
       "\n",
       "A matrix: 2 × 8 of type dbl\n",
       "\n",
       "| <!--/--> | ME | RMSE | MAE | MPE | MAPE | MASE | ACF1 | Theil's U |\n",
       "|---|---|---|---|---|---|---|---|---|\n",
       "| Training set |  0.6967249 |  6.208148 |  3.740697 | 0.1426616 | 0.8437137 | 1.000000 | -0.06038617 |       NA |\n",
       "| Test set | 24.3677328 | 28.434837 | 24.593517 | 4.3171356 | 4.3599811 | 6.574582 |  0.81043397 | 3.451903 |\n",
       "\n"
      ],
      "text/plain": [
       "             ME         RMSE      MAE       MPE       MAPE      MASE    \n",
       "Training set  0.6967249  6.208148  3.740697 0.1426616 0.8437137 1.000000\n",
       "Test set     24.3677328 28.434837 24.593517 4.3171356 4.3599811 6.574582\n",
       "             ACF1        Theil's U\n",
       "Training set -0.06038617       NA \n",
       "Test set      0.81043397 3.451903 "
      ]
     },
     "metadata": {},
     "output_type": "display_data"
    },
    {
     "data": {
      "text/html": [
       "<table>\n",
       "<caption>A matrix: 2 × 8 of type dbl</caption>\n",
       "<thead>\n",
       "\t<tr><th></th><th scope=col>ME</th><th scope=col>RMSE</th><th scope=col>MAE</th><th scope=col>MPE</th><th scope=col>MAPE</th><th scope=col>MASE</th><th scope=col>ACF1</th><th scope=col>Theil's U</th></tr>\n",
       "</thead>\n",
       "<tbody>\n",
       "\t<tr><th scope=row>Training set</th><td>-5.998536e-15</td><td> 6.168928</td><td> 3.824406</td><td>-0.01570676</td><td>0.8630093</td><td>1.022378</td><td>-0.06038617</td><td>      NA</td></tr>\n",
       "\t<tr><th scope=row>Test set</th><td> 1.008487e+01</td><td>14.077291</td><td>11.667241</td><td> 1.77566103</td><td>2.0700918</td><td>3.119002</td><td> 0.64732736</td><td>1.709275</td></tr>\n",
       "</tbody>\n",
       "</table>\n"
      ],
      "text/latex": [
       "A matrix: 2 × 8 of type dbl\n",
       "\\begin{tabular}{r|llllllll}\n",
       "  & ME & RMSE & MAE & MPE & MAPE & MASE & ACF1 & Theil's U\\\\\n",
       "\\hline\n",
       "\tTraining set & -5.998536e-15 &  6.168928 &  3.824406 & -0.01570676 & 0.8630093 & 1.022378 & -0.06038617 &       NA\\\\\n",
       "\tTest set &  1.008487e+01 & 14.077291 & 11.667241 &  1.77566103 & 2.0700918 & 3.119002 &  0.64732736 & 1.709275\\\\\n",
       "\\end{tabular}\n"
      ],
      "text/markdown": [
       "\n",
       "A matrix: 2 × 8 of type dbl\n",
       "\n",
       "| <!--/--> | ME | RMSE | MAE | MPE | MAPE | MASE | ACF1 | Theil's U |\n",
       "|---|---|---|---|---|---|---|---|---|\n",
       "| Training set | -5.998536e-15 |  6.168928 |  3.824406 | -0.01570676 | 0.8630093 | 1.022378 | -0.06038617 |       NA |\n",
       "| Test set |  1.008487e+01 | 14.077291 | 11.667241 |  1.77566103 | 2.0700918 | 3.119002 |  0.64732736 | 1.709275 |\n",
       "\n"
      ],
      "text/plain": [
       "             ME            RMSE      MAE       MPE         MAPE      MASE    \n",
       "Training set -5.998536e-15  6.168928  3.824406 -0.01570676 0.8630093 1.022378\n",
       "Test set      1.008487e+01 14.077291 11.667241  1.77566103 2.0700918 3.119002\n",
       "             ACF1        Theil's U\n",
       "Training set -0.06038617       NA \n",
       "Test set      0.64732736 1.709275 "
      ]
     },
     "metadata": {},
     "output_type": "display_data"
    },
    {
     "data": {
      "image/png": "[encoded data removed]",
      "text/plain": [
       "plot without title"
      ]
     },
     "metadata": {
      "image/png": {
       "height": 420,
       "width": 420
      }
     },
     "output_type": "display_data"
    }
   ],
   "source": [
    "library(forecast)\n",
    "library(fpp2)\n",
    "\n",
    "googfc1 <- meanf(goog200, h=40)\n",
    "googfc2 <- rwf(goog200, h=40)\n",
    "googfc3 <- rwf(goog200, drift=TRUE, h=40)\n",
    "autoplot(subset(goog, end = 240)) + autolayer(googfc1, PI=FALSE, series=\"Mean\") + autolayer(googfc2, PI=FALSE, series=\"Naive\") + autolayer(googfc3, PI=FALSE, series=\"Drift\") + xlab(\"Day\") + ylab(\"Closing Price (US$)\") + ggtitle(\"Google stock price (daily ending 6 Dec 13)\") + guides(colour=guide_legend(title=\"Forecast\"))\n",
    "googtest <- window(goog, start=201, end=240)\n",
    "accuracy(googfc1, googtest)\n",
    "accuracy(googfc2, googtest)\n",
    "accuracy(googfc3, googtest)"
   ]
  }
 ],
 "metadata": {
  "kernelspec": {
   "display_name": "R",
   "language": "R",
   "name": "ir"
  },
  "language_info": {
   "codemirror_mode": "r",
   "file_extension": ".r",
   "mimetype": "text/x-r-source",
   "name": "R",
   "pygments_lexer": "r",
   "version": "3.6.1"
  }
 },
 "nbformat": 4,
 "nbformat_minor": 4
}
