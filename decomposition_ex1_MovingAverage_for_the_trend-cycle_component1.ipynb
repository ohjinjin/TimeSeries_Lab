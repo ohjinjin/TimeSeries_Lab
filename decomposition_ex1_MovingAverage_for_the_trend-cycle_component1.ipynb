{
 "cells": [
  {
   "cell_type": "code",
   "execution_count": 1,
   "metadata": {},
   "outputs": [
    {
     "name": "stderr",
     "output_type": "stream",
     "text": [
      "Warning message:\n",
      "\"package 'forecast' was built under R version 3.6.3\"\n",
      "Registered S3 methods overwritten by 'ggplot2':\n",
      "  method         from \n",
      "  [.quosures     rlang\n",
      "  c.quosures     rlang\n",
      "  print.quosures rlang\n",
      "\n",
      "Registered S3 method overwritten by 'xts':\n",
      "  method     from\n",
      "  as.zoo.xts zoo \n",
      "\n",
      "Registered S3 method overwritten by 'quantmod':\n",
      "  method            from\n",
      "  as.zoo.data.frame zoo \n",
      "\n"
     ]
    },
    {
     "data": {
      "text/html": [
       "A Time Series:<br><style>\n",
       ".list-inline {list-style: none; margin:0; padding: 0}\n",
       ".list-inline>li {display: inline-block}\n",
       ".list-inline>li:not(:last-child)::after {content: \"\\00b7\"; padding: 0 .5ex}\n",
       "</style>\n",
       "<ol class=list-inline><li>20</li><li>10</li><li>30</li><li>35</li><li>10</li><li>60</li><li>50</li><li>40</li><li>90</li><li>65</li><li>55</li><li>120</li></ol>\n"
      ],
      "text/latex": [
       "A Time Series:\\\\\\begin{enumerate*}\n",
       "\\item 20\n",
       "\\item 10\n",
       "\\item 30\n",
       "\\item 35\n",
       "\\item 10\n",
       "\\item 60\n",
       "\\item 50\n",
       "\\item 40\n",
       "\\item 90\n",
       "\\item 65\n",
       "\\item 55\n",
       "\\item 120\n",
       "\\end{enumerate*}\n"
      ],
      "text/markdown": [
       "A Time Series:  \n",
       "1. 20\n",
       "2. 10\n",
       "3. 30\n",
       "4. 35\n",
       "5. 10\n",
       "6. 60\n",
       "7. 50\n",
       "8. 40\n",
       "9. 90\n",
       "10. 65\n",
       "11. 55\n",
       "12. 120\n",
       "\n",
       "\n"
      ],
      "text/plain": [
       "A Time Series:\n",
       " [1]  20  10  30  35  10  60  50  40  90  65  55 120"
      ]
     },
     "metadata": {},
     "output_type": "display_data"
    },
    {
     "data": {
      "text/html": [
       "A Time Series:<br><style>\n",
       ".list-inline {list-style: none; margin:0; padding: 0}\n",
       ".list-inline>li {display: inline-block}\n",
       ".list-inline>li:not(:last-child)::after {content: \"\\00b7\"; padding: 0 .5ex}\n",
       "</style>\n",
       "<ol class=list-inline><li>&lt;NA&gt;</li><li>20</li><li>25</li><li>25</li><li>35</li><li>40</li><li>50</li><li>60</li><li>65</li><li>70</li><li>80</li><li>&lt;NA&gt;</li></ol>\n"
      ],
      "text/latex": [
       "A Time Series:\\\\\\begin{enumerate*}\n",
       "\\item <NA>\n",
       "\\item 20\n",
       "\\item 25\n",
       "\\item 25\n",
       "\\item 35\n",
       "\\item 40\n",
       "\\item 50\n",
       "\\item 60\n",
       "\\item 65\n",
       "\\item 70\n",
       "\\item 80\n",
       "\\item <NA>\n",
       "\\end{enumerate*}\n"
      ],
      "text/markdown": [
       "A Time Series:  \n",
       "1. &lt;NA&gt;\n",
       "2. 20\n",
       "3. 25\n",
       "4. 25\n",
       "5. 35\n",
       "6. 40\n",
       "7. 50\n",
       "8. 60\n",
       "9. 65\n",
       "10. 70\n",
       "11. 80\n",
       "12. &lt;NA&gt;\n",
       "\n",
       "\n"
      ],
      "text/plain": [
       "A Time Series:\n",
       " [1] NA 20 25 25 35 40 50 60 65 70 80 NA"
      ]
     },
     "metadata": {},
     "output_type": "display_data"
    },
    {
     "data": {
      "text/html": [
       "A Time Series:<br><style>\n",
       ".list-inline {list-style: none; margin:0; padding: 0}\n",
       ".list-inline>li {display: inline-block}\n",
       ".list-inline>li:not(:last-child)::after {content: \"\\00b7\"; padding: 0 .5ex}\n",
       "</style>\n",
       "<ol class=list-inline><li>&lt;NA&gt;</li><li>23.75</li><li>21.25</li><li>33.75</li><li>38.75</li><li>40</li><li>60</li><li>61.25</li><li>62.5</li><li>82.5</li><li>&lt;NA&gt;</li><li>&lt;NA&gt;</li></ol>\n"
      ],
      "text/latex": [
       "A Time Series:\\\\\\begin{enumerate*}\n",
       "\\item <NA>\n",
       "\\item 23.75\n",
       "\\item 21.25\n",
       "\\item 33.75\n",
       "\\item 38.75\n",
       "\\item 40\n",
       "\\item 60\n",
       "\\item 61.25\n",
       "\\item 62.5\n",
       "\\item 82.5\n",
       "\\item <NA>\n",
       "\\item <NA>\n",
       "\\end{enumerate*}\n"
      ],
      "text/markdown": [
       "A Time Series:  \n",
       "1. &lt;NA&gt;\n",
       "2. 23.75\n",
       "3. 21.25\n",
       "4. 33.75\n",
       "5. 38.75\n",
       "6. 40\n",
       "7. 60\n",
       "8. 61.25\n",
       "9. 62.5\n",
       "10. 82.5\n",
       "11. &lt;NA&gt;\n",
       "12. &lt;NA&gt;\n",
       "\n",
       "\n"
      ],
      "text/plain": [
       "A Time Series:\n",
       " [1]    NA 23.75 21.25 33.75 38.75 40.00 60.00 61.25 62.50 82.50    NA    NA"
      ]
     },
     "metadata": {},
     "output_type": "display_data"
    },
    {
     "data": {
      "text/html": [
       "A Time Series:<br><style>\n",
       ".list-inline {list-style: none; margin:0; padding: 0}\n",
       ".list-inline>li {display: inline-block}\n",
       ".list-inline>li:not(:last-child)::after {content: \"\\00b7\"; padding: 0 .5ex}\n",
       "</style>\n",
       "<ol class=list-inline><li>&lt;NA&gt;</li><li>&lt;NA&gt;</li><li>22.5</li><li>27.5</li><li>36.25</li><li>39.375</li><li>50</li><li>60.625</li><li>61.875</li><li>72.5</li><li>&lt;NA&gt;</li><li>&lt;NA&gt;</li></ol>\n"
      ],
      "text/latex": [
       "A Time Series:\\\\\\begin{enumerate*}\n",
       "\\item <NA>\n",
       "\\item <NA>\n",
       "\\item 22.5\n",
       "\\item 27.5\n",
       "\\item 36.25\n",
       "\\item 39.375\n",
       "\\item 50\n",
       "\\item 60.625\n",
       "\\item 61.875\n",
       "\\item 72.5\n",
       "\\item <NA>\n",
       "\\item <NA>\n",
       "\\end{enumerate*}\n"
      ],
      "text/markdown": [
       "A Time Series:  \n",
       "1. &lt;NA&gt;\n",
       "2. &lt;NA&gt;\n",
       "3. 22.5\n",
       "4. 27.5\n",
       "5. 36.25\n",
       "6. 39.375\n",
       "7. 50\n",
       "8. 60.625\n",
       "9. 61.875\n",
       "10. 72.5\n",
       "11. &lt;NA&gt;\n",
       "12. &lt;NA&gt;\n",
       "\n",
       "\n"
      ],
      "text/plain": [
       "A Time Series:\n",
       " [1]     NA     NA 22.500 27.500 36.250 39.375 50.000 60.625 61.875 72.500\n",
       "[11]     NA     NA"
      ]
     },
     "metadata": {},
     "output_type": "display_data"
    }
   ],
   "source": [
    "library(forecast)\n",
    "\n",
    "ma.ts <- ts(c(20,10,30,35,10,60,50,40,90,65,55,120), frequency = 1)\n",
    "\n",
    "ma.ts\n",
    "\n",
    "ma(ma.ts, order = 3)\n",
    "\n",
    "ma(ma.ts, order = 4, centre = FALSE)\n",
    "\n",
    "ma(ma.ts, order = 4, centre = TRUE)\n",
    "\n",
    "#SMA(ma.ts, n = 3) 평활법때 배운 이동평균"
   ]
  },
  {
   "cell_type": "code",
   "execution_count": null,
   "metadata": {},
   "outputs": [],
   "source": []
  }
 ],
 "metadata": {
  "kernelspec": {
   "display_name": "R",
   "language": "R",
   "name": "ir"
  },
  "language_info": {
   "codemirror_mode": "r",
   "file_extension": ".r",
   "mimetype": "text/x-r-source",
   "name": "R",
   "pygments_lexer": "r",
   "version": "3.6.1"
  }
 },
 "nbformat": 4,
 "nbformat_minor": 4
}
