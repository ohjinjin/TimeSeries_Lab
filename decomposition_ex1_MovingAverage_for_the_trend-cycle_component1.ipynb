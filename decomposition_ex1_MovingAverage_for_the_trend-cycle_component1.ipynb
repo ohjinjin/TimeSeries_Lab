{
 "cells": [
  {
   "cell_type": "markdown",
   "metadata": {},
   "source": [
    "# 분해법_추세순환성분 추정을 위한 이동평균방법 적용 실습1\n",
    "\n",
    "시계열 데이터 분석의 예측 방법의 고전적 방법에는 앞서 배웠던 평활법과 분해분석법이 있습니다. <br/>\n",
    "이번 시간에는 분해분석법에 대해 학습합니다.<br/>\n",
    "\n",
    "평활법에 의한 예측방법의 경우 특정 패턴이 시계열에 내재되어 있을 때, 이 패턴은 원계열을 평활하여 불규칙변동을 제거함으로써 추정이 가능하다는 것이 전제되어 있습니다.<br/>\n",
    "\n",
    "분해법에 의한 예측방법의 경우엔 시계열의 패턴을 부분패턴으로 분해합니다.<br/>\n",
    "이를테면 패턴(혹은 변동요인)을 개별 성분으로 분해하여 시계열의 특성을 분석합니다.<br/>\n",
    "\n",
    "여기서 개별 성분은 앞서 배웠던 추세변동, 순환변동, 계절변동, 불규칙변동으로 구성됩니다.<br/>\n",
    "\n",
    "분해된 각 성분들을 개별적으로 예측한 후에 이들을 다시 결합시켜 예측을 실행합니다.<br/>\n",
    "\n",
    "참고로 순환변동은 장시간에 거쳐 확인할 수 있는 변동으로 추세변동과 합쳐서 함께 성분으로 두고 분해하곤 합니다.<br/>\n",
    "\n",
    "계절성분은 S로 표기하며, T는 추세순환성분, R은 불규칙성분입니다.<br/>\n",
    "\n",
    "분해법의 목적은 예측에도 사용될 수는 있지만 계절조정입니다.<br/>\n",
    "\n",
    "이 세 텀을 모두 더하여 타겟 변수 y를 계산한다면 가법 모형(additive decomposition)을 적용하는 것이며, 모두 곱하여 타겟 변수를 계산한다면 승법 모형(multiplicative decomposition)을 적용한 것입니다.<br/>\n",
    "\n",
    "\n",
    "시계열 데이터의 변동 성분들을 추세순환성분과 계절성분 불규칙 성분으로 나누기로 했는데, 이 중 이동평균방법을 활용해 추세순환성분을 추정합니다.<br/>\n",
    "\n",
    "대칭이동평균은 m이 홀수인 경우에 사용하며 중심화이동평균은 m이 짝수인 경우에 사용합니다.<br/>\n",
    "\n",
    "예를 들어 3MA일경우 t=1, t=2, t=3의 평균을 t=2 행에 씁니다.<br/>\n",
    "짝수의 경우에는 쩜오행에 써야하는 상황이 오는데 그럴 경우는 t가 몇 일때의 적합값이라고 말해야 할까요?<br/>\n",
    "그래서 이중이동을 해주게 됩니다.<br/>"
   ]
  },
  {
   "cell_type": "code",
   "execution_count": 1,
   "metadata": {},
   "outputs": [
    {
     "name": "stderr",
     "output_type": "stream",
     "text": [
      "Warning message:\n",
      "\"package 'forecast' was built under R version 3.6.3\"\n",
      "Registered S3 methods overwritten by 'ggplot2':\n",
      "  method         from \n",
      "  [.quosures     rlang\n",
      "  c.quosures     rlang\n",
      "  print.quosures rlang\n",
      "\n",
      "Registered S3 method overwritten by 'xts':\n",
      "  method     from\n",
      "  as.zoo.xts zoo \n",
      "\n",
      "Registered S3 method overwritten by 'quantmod':\n",
      "  method            from\n",
      "  as.zoo.data.frame zoo \n",
      "\n"
     ]
    },
    {
     "data": {
      "text/html": [
       "A Time Series:<br><style>\n",
       ".list-inline {list-style: none; margin:0; padding: 0}\n",
       ".list-inline>li {display: inline-block}\n",
       ".list-inline>li:not(:last-child)::after {content: \"\\00b7\"; padding: 0 .5ex}\n",
       "</style>\n",
       "<ol class=list-inline><li>20</li><li>10</li><li>30</li><li>35</li><li>10</li><li>60</li><li>50</li><li>40</li><li>90</li><li>65</li><li>55</li><li>120</li></ol>\n"
      ],
      "text/latex": [
       "A Time Series:\\\\\\begin{enumerate*}\n",
       "\\item 20\n",
       "\\item 10\n",
       "\\item 30\n",
       "\\item 35\n",
       "\\item 10\n",
       "\\item 60\n",
       "\\item 50\n",
       "\\item 40\n",
       "\\item 90\n",
       "\\item 65\n",
       "\\item 55\n",
       "\\item 120\n",
       "\\end{enumerate*}\n"
      ],
      "text/markdown": [
       "A Time Series:  \n",
       "1. 20\n",
       "2. 10\n",
       "3. 30\n",
       "4. 35\n",
       "5. 10\n",
       "6. 60\n",
       "7. 50\n",
       "8. 40\n",
       "9. 90\n",
       "10. 65\n",
       "11. 55\n",
       "12. 120\n",
       "\n",
       "\n"
      ],
      "text/plain": [
       "A Time Series:\n",
       " [1]  20  10  30  35  10  60  50  40  90  65  55 120"
      ]
     },
     "metadata": {},
     "output_type": "display_data"
    },
    {
     "data": {
      "text/html": [
       "A Time Series:<br><style>\n",
       ".list-inline {list-style: none; margin:0; padding: 0}\n",
       ".list-inline>li {display: inline-block}\n",
       ".list-inline>li:not(:last-child)::after {content: \"\\00b7\"; padding: 0 .5ex}\n",
       "</style>\n",
       "<ol class=list-inline><li>&lt;NA&gt;</li><li>20</li><li>25</li><li>25</li><li>35</li><li>40</li><li>50</li><li>60</li><li>65</li><li>70</li><li>80</li><li>&lt;NA&gt;</li></ol>\n"
      ],
      "text/latex": [
       "A Time Series:\\\\\\begin{enumerate*}\n",
       "\\item <NA>\n",
       "\\item 20\n",
       "\\item 25\n",
       "\\item 25\n",
       "\\item 35\n",
       "\\item 40\n",
       "\\item 50\n",
       "\\item 60\n",
       "\\item 65\n",
       "\\item 70\n",
       "\\item 80\n",
       "\\item <NA>\n",
       "\\end{enumerate*}\n"
      ],
      "text/markdown": [
       "A Time Series:  \n",
       "1. &lt;NA&gt;\n",
       "2. 20\n",
       "3. 25\n",
       "4. 25\n",
       "5. 35\n",
       "6. 40\n",
       "7. 50\n",
       "8. 60\n",
       "9. 65\n",
       "10. 70\n",
       "11. 80\n",
       "12. &lt;NA&gt;\n",
       "\n",
       "\n"
      ],
      "text/plain": [
       "A Time Series:\n",
       " [1] NA 20 25 25 35 40 50 60 65 70 80 NA"
      ]
     },
     "metadata": {},
     "output_type": "display_data"
    },
    {
     "data": {
      "text/html": [
       "A Time Series:<br><style>\n",
       ".list-inline {list-style: none; margin:0; padding: 0}\n",
       ".list-inline>li {display: inline-block}\n",
       ".list-inline>li:not(:last-child)::after {content: \"\\00b7\"; padding: 0 .5ex}\n",
       "</style>\n",
       "<ol class=list-inline><li>&lt;NA&gt;</li><li>23.75</li><li>21.25</li><li>33.75</li><li>38.75</li><li>40</li><li>60</li><li>61.25</li><li>62.5</li><li>82.5</li><li>&lt;NA&gt;</li><li>&lt;NA&gt;</li></ol>\n"
      ],
      "text/latex": [
       "A Time Series:\\\\\\begin{enumerate*}\n",
       "\\item <NA>\n",
       "\\item 23.75\n",
       "\\item 21.25\n",
       "\\item 33.75\n",
       "\\item 38.75\n",
       "\\item 40\n",
       "\\item 60\n",
       "\\item 61.25\n",
       "\\item 62.5\n",
       "\\item 82.5\n",
       "\\item <NA>\n",
       "\\item <NA>\n",
       "\\end{enumerate*}\n"
      ],
      "text/markdown": [
       "A Time Series:  \n",
       "1. &lt;NA&gt;\n",
       "2. 23.75\n",
       "3. 21.25\n",
       "4. 33.75\n",
       "5. 38.75\n",
       "6. 40\n",
       "7. 60\n",
       "8. 61.25\n",
       "9. 62.5\n",
       "10. 82.5\n",
       "11. &lt;NA&gt;\n",
       "12. &lt;NA&gt;\n",
       "\n",
       "\n"
      ],
      "text/plain": [
       "A Time Series:\n",
       " [1]    NA 23.75 21.25 33.75 38.75 40.00 60.00 61.25 62.50 82.50    NA    NA"
      ]
     },
     "metadata": {},
     "output_type": "display_data"
    },
    {
     "data": {
      "text/html": [
       "A Time Series:<br><style>\n",
       ".list-inline {list-style: none; margin:0; padding: 0}\n",
       ".list-inline>li {display: inline-block}\n",
       ".list-inline>li:not(:last-child)::after {content: \"\\00b7\"; padding: 0 .5ex}\n",
       "</style>\n",
       "<ol class=list-inline><li>&lt;NA&gt;</li><li>&lt;NA&gt;</li><li>22.5</li><li>27.5</li><li>36.25</li><li>39.375</li><li>50</li><li>60.625</li><li>61.875</li><li>72.5</li><li>&lt;NA&gt;</li><li>&lt;NA&gt;</li></ol>\n"
      ],
      "text/latex": [
       "A Time Series:\\\\\\begin{enumerate*}\n",
       "\\item <NA>\n",
       "\\item <NA>\n",
       "\\item 22.5\n",
       "\\item 27.5\n",
       "\\item 36.25\n",
       "\\item 39.375\n",
       "\\item 50\n",
       "\\item 60.625\n",
       "\\item 61.875\n",
       "\\item 72.5\n",
       "\\item <NA>\n",
       "\\item <NA>\n",
       "\\end{enumerate*}\n"
      ],
      "text/markdown": [
       "A Time Series:  \n",
       "1. &lt;NA&gt;\n",
       "2. &lt;NA&gt;\n",
       "3. 22.5\n",
       "4. 27.5\n",
       "5. 36.25\n",
       "6. 39.375\n",
       "7. 50\n",
       "8. 60.625\n",
       "9. 61.875\n",
       "10. 72.5\n",
       "11. &lt;NA&gt;\n",
       "12. &lt;NA&gt;\n",
       "\n",
       "\n"
      ],
      "text/plain": [
       "A Time Series:\n",
       " [1]     NA     NA 22.500 27.500 36.250 39.375 50.000 60.625 61.875 72.500\n",
       "[11]     NA     NA"
      ]
     },
     "metadata": {},
     "output_type": "display_data"
    }
   ],
   "source": [
    "library(forecast)\n",
    "\n",
    "ma.ts <- ts(c(20,10,30,35,10,60,50,40,90,65,55,120), frequency = 1)\n",
    "\n",
    "ma.ts\n",
    "\n",
    "# 홀수, 대칭이동평균이 적용됨\n",
    "ma(ma.ts, order = 3) # 3MA\n",
    "\n",
    "# 짝수, 중심화이동평균이 적용됨\n",
    "ma(ma.ts, order = 4, centre = FALSE) # 4MA\n",
    "ma(ma.ts, order = 4, centre = TRUE)  # 2*4MA\n",
    "\n",
    "#SMA(ma.ts, n = 3) 평활법때 배운 이동평균 in TTR 패키지"
   ]
  },
  {
   "cell_type": "markdown",
   "metadata": {},
   "source": [
    "분해를 위한 이동평균을 하게되면 MA가 커짐에 따라 양끝이 줄어들어서 집약된 정보만이 가운데에 남는 형상을 띄게 됩니다.<br/>\n",
    "\n",
    "짝수로 MA를 설정할 때 발생하게 되는 이슈를 앞서 설명했습니다. 그래서 위 코드에서 centre를 FALSE로 정해줘야했던 이유를 우리는 알 수 있습니다.\n",
    "\n",
    "그리고 짝수의 경우 한번만 이동평균을 적용했을 때 양끝데이터가 줄어든 것의 총합이 3칸이라는 것을 확인하였습니다.<br/>\n",
    "\n",
    "\n",
    "이 실습을 통한 분석이 잘 이해가 되지 않았다면 아래 실습을 한번더 확인해보면 이해에 용이할 겁니다.<br/>\n",
    "실습2 링크 : [http://localhost:8888/notebooks/decomposition_ex1_MovingAverage_for_the_trend-cycle_component2.ipynb](http://localhost:8888/notebooks/decomposition_ex1_MovingAverage_for_the_trend-cycle_component2.ipynb)"
   ]
  }
 ],
 "metadata": {
  "kernelspec": {
   "display_name": "R",
   "language": "R",
   "name": "ir"
  },
  "language_info": {
   "codemirror_mode": "r",
   "file_extension": ".r",
   "mimetype": "text/x-r-source",
   "name": "R",
   "pygments_lexer": "r",
   "version": "3.6.1"
  }
 },
 "nbformat": 4,
 "nbformat_minor": 4
}
