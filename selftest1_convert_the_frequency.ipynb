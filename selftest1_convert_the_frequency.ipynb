{
 "cells": [
  {
   "cell_type": "code",
   "execution_count": 1,
   "metadata": {},
   "outputs": [
    {
     "data": {
      "text/html": [
       "<table>\n",
       "<thead><tr><th scope=col>date</th><th scope=col>exchange_rate_krw_usd</th></tr></thead>\n",
       "<tbody>\n",
       "\t<tr><td>1980 1</td><td>586.1 </td></tr>\n",
       "\t<tr><td>1980 2</td><td>603.0 </td></tr>\n",
       "\t<tr><td>1980 3</td><td>625.0 </td></tr>\n",
       "\t<tr><td>1980 4</td><td>659.9 </td></tr>\n",
       "\t<tr><td>1981 1</td><td>672.8 </td></tr>\n",
       "\t<tr><td>1981 2</td><td>685.1 </td></tr>\n",
       "</tbody>\n",
       "</table>\n"
      ],
      "text/latex": [
       "\\begin{tabular}{r|ll}\n",
       " date & exchange\\_rate\\_krw\\_usd\\\\\n",
       "\\hline\n",
       "\t 1980 1 & 586.1 \\\\\n",
       "\t 1980 2 & 603.0 \\\\\n",
       "\t 1980 3 & 625.0 \\\\\n",
       "\t 1980 4 & 659.9 \\\\\n",
       "\t 1981 1 & 672.8 \\\\\n",
       "\t 1981 2 & 685.1 \\\\\n",
       "\\end{tabular}\n"
      ],
      "text/markdown": [
       "\n",
       "| date | exchange_rate_krw_usd |\n",
       "|---|---|\n",
       "| 1980 1 | 586.1  |\n",
       "| 1980 2 | 603.0  |\n",
       "| 1980 3 | 625.0  |\n",
       "| 1980 4 | 659.9  |\n",
       "| 1981 1 | 672.8  |\n",
       "| 1981 2 | 685.1  |\n",
       "\n"
      ],
      "text/plain": [
       "  date   exchange_rate_krw_usd\n",
       "1 1980 1 586.1                \n",
       "2 1980 2 603.0                \n",
       "3 1980 3 625.0                \n",
       "4 1980 4 659.9                \n",
       "5 1981 1 672.8                \n",
       "6 1981 2 685.1                "
      ]
     },
     "metadata": {},
     "output_type": "display_data"
    },
    {
     "data": {
      "text/html": [
       "<table>\n",
       "<thead><tr><th></th><th scope=col>date</th><th scope=col>exchange_rate_krw_usd</th></tr></thead>\n",
       "<tbody>\n",
       "\t<tr><th scope=row>143</th><td>2015 3</td><td>1194.5</td></tr>\n",
       "\t<tr><th scope=row>144</th><td>2015 4</td><td>1172.0</td></tr>\n",
       "\t<tr><th scope=row>145</th><td>2016 1</td><td>1153.5</td></tr>\n",
       "\t<tr><th scope=row>146</th><td>2016 2</td><td>1164.7</td></tr>\n",
       "</tbody>\n",
       "</table>\n"
      ],
      "text/latex": [
       "\\begin{tabular}{r|ll}\n",
       "  & date & exchange\\_rate\\_krw\\_usd\\\\\n",
       "\\hline\n",
       "\t143 & 2015 3 & 1194.5\\\\\n",
       "\t144 & 2015 4 & 1172.0\\\\\n",
       "\t145 & 2016 1 & 1153.5\\\\\n",
       "\t146 & 2016 2 & 1164.7\\\\\n",
       "\\end{tabular}\n"
      ],
      "text/markdown": [
       "\n",
       "| <!--/--> | date | exchange_rate_krw_usd |\n",
       "|---|---|---|\n",
       "| 143 | 2015 3 | 1194.5 |\n",
       "| 144 | 2015 4 | 1172.0 |\n",
       "| 145 | 2016 1 | 1153.5 |\n",
       "| 146 | 2016 2 | 1164.7 |\n",
       "\n"
      ],
      "text/plain": [
       "    date   exchange_rate_krw_usd\n",
       "143 2015 3 1194.5               \n",
       "144 2015 4 1172.0               \n",
       "145 2016 1 1153.5               \n",
       "146 2016 2 1164.7               "
      ]
     },
     "metadata": {},
     "output_type": "display_data"
    }
   ],
   "source": [
    "# load data\n",
    "exchange.df <- read.csv(\"BOK_exchange_rate_krw_usd.csv\")\n",
    "# display the dataframe\n",
    "head(exchange.df)\n",
    "# ...\n",
    "# ...\n",
    "tail(exchange.df, n=4)"
   ]
  },
  {
   "cell_type": "code",
   "execution_count": 2,
   "metadata": {},
   "outputs": [],
   "source": [
    "# typecast from df to ts\n",
    "exchange.ts <- ts(exchange.df$exchange_rate_krw_usd, start=c(1980,1), frequency=4)\n",
    "# check\n",
    "#exchange.ts\n"
   ]
  },
  {
   "cell_type": "code",
   "execution_count": 3,
   "metadata": {},
   "outputs": [
    {
     "data": {
      "image/png": "[encoded data removed]",
      "text/plain": [
       "Plot with title \"Origin\""
      ]
     },
     "metadata": {
      "image/png": {
       "height": 420,
       "width": 420
      }
     },
     "output_type": "display_data"
    }
   ],
   "source": [
    "# display origin data\n",
    "par(mfrow = c(1,1))\n",
    "plot(exchange.ts, xlab=\"Time(Quarterly)\",ylab=\"rate\", main=\"Origin\")\n"
   ]
  },
  {
   "cell_type": "code",
   "execution_count": 4,
   "metadata": {},
   "outputs": [
    {
     "data": {
      "image/png": "[encoded data removed]",
      "text/plain": [
       "Plot with title \"Yearly sum of aggregation\""
      ]
     },
     "metadata": {
      "image/png": {
       "height": 420,
       "width": 420
      }
     },
     "output_type": "display_data"
    }
   ],
   "source": [
    "# test to convert the frequency from quarterly to yearly\n",
    "exchange_yearly_sum <- aggregate(exchange.ts, nfrequency = 1, FUN = sum)\n",
    "par(mfrow = c(1,1))\n",
    "plot(exchange_yearly_sum, xlab=\"Time(Yearly)\",ylab=\"rate\", main=\"Yearly sum of aggregation\")\n"
   ]
  },
  {
   "cell_type": "code",
   "execution_count": 5,
   "metadata": {},
   "outputs": [
    {
     "ename": "ERROR",
     "evalue": "Error in aggregate.ts(exchange.ts, nfrequency = 12, FUN = sum): cannot change frequency from 4 to 12\n",
     "output_type": "error",
     "traceback": [
      "Error in aggregate.ts(exchange.ts, nfrequency = 12, FUN = sum): cannot change frequency from 4 to 12\nTraceback:\n",
      "1. aggregate(exchange.ts, nfrequency = 12, FUN = sum)",
      "2. aggregate.ts(exchange.ts, nfrequency = 12, FUN = sum)",
      "3. stop(gettextf(\"cannot change frequency from %g to %g\", ofrequency, \n .     nfrequency), domain = NA)"
     ]
    }
   ],
   "source": [
    "# test to convert the frequency from quarterly to monthly\n",
    "# error caused by absence of information\n",
    "exchange_monthly_sum <- aggregate(exchange.ts, nfrequency = 12, FUN = sum)\n",
    "par(mfrow = c(1,1))\n",
    "plot(exchange_monthly_sum, xlab=\"Time(Monthly)\",ylab=\"rate\", main=\"Monthly sum of aggregation\")"
   ]
  },
  {
   "cell_type": "code",
   "execution_count": null,
   "metadata": {},
   "outputs": [],
   "source": []
  }
 ],
 "metadata": {
  "kernelspec": {
   "display_name": "R",
   "language": "R",
   "name": "ir"
  },
  "language_info": {
   "codemirror_mode": "r",
   "file_extension": ".r",
   "mimetype": "text/x-r-source",
   "name": "R",
   "pygments_lexer": "r",
   "version": "3.6.1"
  }
 },
 "nbformat": 4,
 "nbformat_minor": 4
}
