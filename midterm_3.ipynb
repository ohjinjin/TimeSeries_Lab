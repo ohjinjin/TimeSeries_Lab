{
 "cells": [
  {
   "cell_type": "code",
   "execution_count": 1,
   "metadata": {
    "scrolled": false
   },
   "outputs": [
    {
     "name": "stderr",
     "output_type": "stream",
     "text": [
      "Warning message:\n",
      "\"package 'forecast' was built under R version 3.6.3\"\n",
      "Registered S3 methods overwritten by 'ggplot2':\n",
      "  method         from \n",
      "  [.quosures     rlang\n",
      "  c.quosures     rlang\n",
      "  print.quosures rlang\n",
      "\n",
      "Registered S3 method overwritten by 'xts':\n",
      "  method     from\n",
      "  as.zoo.xts zoo \n",
      "\n",
      "Registered S3 method overwritten by 'quantmod':\n",
      "  method            from\n",
      "  as.zoo.data.frame zoo \n",
      "\n",
      "Warning message:\n",
      "\"package 'fpp2' was built under R version 3.6.3\"\n",
      "Loading required package: ggplot2\n",
      "\n",
      "Loading required package: fma\n",
      "\n",
      "Warning message:\n",
      "\"package 'fma' was built under R version 3.6.3\"\n",
      "Loading required package: expsmooth\n",
      "\n",
      "Warning message:\n",
      "\"package 'expsmooth' was built under R version 3.6.3\"\n"
     ]
    },
    {
     "data": {
      "text/html": [
       "A Time Series:<br><style>\n",
       ".list-inline {list-style: none; margin:0; padding: 0}\n",
       ".list-inline>li {display: inline-block}\n",
       ".list-inline>li:not(:last-child)::after {content: \"\\00b7\"; padding: 0 .5ex}\n",
       "</style>\n",
       "<ol class=list-inline><li>232.288994</li><li>229.536258</li><li>233.145936</li><li>243.763684</li><li>252.602916</li><li>259.677371</li><li>260.766892</li><li>269.784084</li><li>266.414974</li><li>263.917747</li><li>268.307222</li><li>260.662556</li><li>266.639419</li><li>277.515778</li><li>283.834045</li><li>290.309028</li><li>292.474198</li><li>300.830694</li><li>309.286657</li><li>318.331081</li><li>329.37239</li><li>338.883998</li><li>339.244126</li><li>328.600632</li><li>314.255385</li><li>314.459695</li><li>321.413779</li><li>329.789292</li><li>346.385165</li><li>352.297882</li><li>348.370515</li><li>417.562922</li><li>417.12357</li><li>417.749459</li><li>412.233904</li><li>411.946817</li><li>394.697075</li><li>401.49927</li><li>408.270468</li><li>414.2428</li><li>407.997978</li><li>403.460832</li><li>413.824928</li><li>428.104959</li><li>445.338742</li><li>452.994173</li><li>455.74017</li></ol>\n"
      ],
      "text/latex": [
       "A Time Series:\\\\\\begin{enumerate*}\n",
       "\\item 232.288994\n",
       "\\item 229.536258\n",
       "\\item 233.145936\n",
       "\\item 243.763684\n",
       "\\item 252.602916\n",
       "\\item 259.677371\n",
       "\\item 260.766892\n",
       "\\item 269.784084\n",
       "\\item 266.414974\n",
       "\\item 263.917747\n",
       "\\item 268.307222\n",
       "\\item 260.662556\n",
       "\\item 266.639419\n",
       "\\item 277.515778\n",
       "\\item 283.834045\n",
       "\\item 290.309028\n",
       "\\item 292.474198\n",
       "\\item 300.830694\n",
       "\\item 309.286657\n",
       "\\item 318.331081\n",
       "\\item 329.37239\n",
       "\\item 338.883998\n",
       "\\item 339.244126\n",
       "\\item 328.600632\n",
       "\\item 314.255385\n",
       "\\item 314.459695\n",
       "\\item 321.413779\n",
       "\\item 329.789292\n",
       "\\item 346.385165\n",
       "\\item 352.297882\n",
       "\\item 348.370515\n",
       "\\item 417.562922\n",
       "\\item 417.12357\n",
       "\\item 417.749459\n",
       "\\item 412.233904\n",
       "\\item 411.946817\n",
       "\\item 394.697075\n",
       "\\item 401.49927\n",
       "\\item 408.270468\n",
       "\\item 414.2428\n",
       "\\item 407.997978\n",
       "\\item 403.460832\n",
       "\\item 413.824928\n",
       "\\item 428.104959\n",
       "\\item 445.338742\n",
       "\\item 452.994173\n",
       "\\item 455.74017\n",
       "\\end{enumerate*}\n"
      ],
      "text/markdown": [
       "A Time Series:  \n",
       "1. 232.288994\n",
       "2. 229.536258\n",
       "3. 233.145936\n",
       "4. 243.763684\n",
       "5. 252.602916\n",
       "6. 259.677371\n",
       "7. 260.766892\n",
       "8. 269.784084\n",
       "9. 266.414974\n",
       "10. 263.917747\n",
       "11. 268.307222\n",
       "12. 260.662556\n",
       "13. 266.639419\n",
       "14. 277.515778\n",
       "15. 283.834045\n",
       "16. 290.309028\n",
       "17. 292.474198\n",
       "18. 300.830694\n",
       "19. 309.286657\n",
       "20. 318.331081\n",
       "21. 329.37239\n",
       "22. 338.883998\n",
       "23. 339.244126\n",
       "24. 328.600632\n",
       "25. 314.255385\n",
       "26. 314.459695\n",
       "27. 321.413779\n",
       "28. 329.789292\n",
       "29. 346.385165\n",
       "30. 352.297882\n",
       "31. 348.370515\n",
       "32. 417.562922\n",
       "33. 417.12357\n",
       "34. 417.749459\n",
       "35. 412.233904\n",
       "36. 411.946817\n",
       "37. 394.697075\n",
       "38. 401.49927\n",
       "39. 408.270468\n",
       "40. 414.2428\n",
       "41. 407.997978\n",
       "42. 403.460832\n",
       "43. 413.824928\n",
       "44. 428.104959\n",
       "45. 445.338742\n",
       "46. 452.994173\n",
       "47. 455.74017\n",
       "\n",
       "\n"
      ],
      "text/plain": [
       "A Time Series:\n",
       " [1] 232.2890 229.5363 233.1459 243.7637 252.6029 259.6774 260.7669 269.7841\n",
       " [9] 266.4150 263.9177 268.3072 260.6626 266.6394 277.5158 283.8340 290.3090\n",
       "[17] 292.4742 300.8307 309.2867 318.3311 329.3724 338.8840 339.2441 328.6006\n",
       "[25] 314.2554 314.4597 321.4138 329.7893 346.3852 352.2979 348.3705 417.5629\n",
       "[33] 417.1236 417.7495 412.2339 411.9468 394.6971 401.4993 408.2705 414.2428\n",
       "[41] 407.9980 403.4608 413.8249 428.1050 445.3387 452.9942 455.7402"
      ]
     },
     "metadata": {},
     "output_type": "display_data"
    },
    {
     "data": {
      "text/html": [
       "12.9294553495888"
      ],
      "text/latex": [
       "12.9294553495888"
      ],
      "text/markdown": [
       "12.9294553495888"
      ],
      "text/plain": [
       "[1] 12.92946"
      ]
     },
     "metadata": {},
     "output_type": "display_data"
    },
    {
     "data": {
      "text/html": [
       "1"
      ],
      "text/latex": [
       "1"
      ],
      "text/markdown": [
       "1"
      ],
      "text/plain": [
       "[1] 1"
      ]
     },
     "metadata": {},
     "output_type": "display_data"
    },
    {
     "data": {
      "image/png": "[encoded data removed]",
      "text/plain": [
       "plot without title"
      ]
     },
     "metadata": {
      "image/png": {
       "height": 420,
       "width": 420
      }
     },
     "output_type": "display_data"
    },
    {
     "name": "stdout",
     "output_type": "stream",
     "text": [
      "\n",
      "Forecast method: Simple exponential smoothing\n",
      "\n",
      "Model Information:\n",
      "Simple exponential smoothing \n",
      "\n",
      "Call:\n",
      " ses(y = livestock, initial = \"simple\", alpha = opt_alpha) \n",
      "\n",
      "  Smoothing parameters:\n",
      "    alpha = 1 \n",
      "\n",
      "  Initial states:\n",
      "    l = 232.289 \n",
      "\n",
      "  sigma:  12.9295\n",
      "Error measures:\n",
      "                  ME     RMSE      MAE    MPE     MAPE      MASE       ACF1\n",
      "Training set 4.75428 12.92946 8.135283 1.3711 2.384403 0.9787234 0.02366811\n",
      "\n",
      "Forecasts:\n",
      "     Point Forecast    Lo 80    Hi 80    Lo 95    Hi 95\n",
      "2008       455.7402 439.1704 472.3099 430.3989 481.0814\n",
      "2009       455.7402 432.3070 479.1734 419.9022 491.5781\n",
      "2010       455.7402 427.0405 484.4398 411.8478 499.6325\n",
      "2011       455.7402 422.6006 488.8797 405.0576 506.4227\n",
      "2012       455.7402 418.6891 492.7913 399.0754 512.4050\n",
      "2013       455.7402 415.1527 496.3276 393.6670 517.8133\n",
      "2014       455.7402 411.9007 499.5796 388.6935 522.7869\n",
      "2015       455.7402 408.8738 502.6065 384.0642 527.4161\n",
      "2016       455.7402 406.0309 505.4495 379.7164 531.7640\n",
      "2017       455.7402 403.3420 508.1384 375.6040 535.8763\n",
      "\n",
      "Forecast method: Simple exponential smoothing\n",
      "\n",
      "Model Information:\n",
      "Simple exponential smoothing \n",
      "\n",
      "Call:\n",
      " ses(y = livestock, initial = \"simple\") \n",
      "\n",
      "  Smoothing parameters:\n",
      "    alpha = 1 \n",
      "\n",
      "  Initial states:\n",
      "    l = 232.289 \n",
      "\n",
      "  sigma:  12.9295\n",
      "Error measures:\n",
      "                  ME     RMSE      MAE    MPE     MAPE      MASE       ACF1\n",
      "Training set 4.75428 12.92946 8.135283 1.3711 2.384403 0.9787234 0.02366811\n",
      "\n",
      "Forecasts:\n",
      "     Point Forecast    Lo 80    Hi 80    Lo 95    Hi 95\n",
      "2008       455.7402 439.1704 472.3099 430.3989 481.0814\n",
      "2009       455.7402 432.3070 479.1734 419.9022 491.5781\n",
      "2010       455.7402 427.0405 484.4398 411.8478 499.6325\n",
      "2011       455.7402 422.6006 488.8797 405.0576 506.4227\n",
      "2012       455.7402 418.6891 492.7913 399.0754 512.4050\n",
      "2013       455.7402 415.1527 496.3276 393.6670 517.8133\n",
      "2014       455.7402 411.9007 499.5796 388.6935 522.7869\n",
      "2015       455.7402 408.8738 502.6065 384.0642 527.4161\n",
      "2016       455.7402 406.0309 505.4495 379.7164 531.7640\n",
      "2017       455.7402 403.3420 508.1384 375.6040 535.8763\n"
     ]
    },
    {
     "data": {
      "image/png": "[encoded data removed]",
      "text/plain": [
       "plot without title"
      ]
     },
     "metadata": {
      "image/png": {
       "height": 420,
       "width": 420
      }
     },
     "output_type": "display_data"
    }
   ],
   "source": [
    "library(forecast)\n",
    "library(fpp2)\n",
    "\n",
    "# load data\n",
    "livestock\n",
    "autoplot(livestock)\n",
    "\n",
    "# apply ses by increaments 0.01\n",
    "list_rmse <- c()\n",
    "list_alpha <- c()\n",
    "tmp_alpha <- 0.00\n",
    "\n",
    "while (tmp_alpha <= 1.0){\n",
    "    ses_livestock <- ses(livestock, initial=\"simple\", alpha = tmp_alpha)\n",
    "    list_rmse <- append(list_rmse, sqrt(mean(ses_livestock$residuals^2)))\n",
    "    list_alpha <- append(list_alpha, tmp_alpha)\n",
    "    tmp_alpha <- tmp_alpha + 0.01\n",
    "    tmp_alpha <- round(tmp_alpha, 2) # to eliminate floating point errors\n",
    "}\n",
    "\n",
    "# No3. figure out minimal rmse and optimal alpha\n",
    "min_rmse_idx <- which.min(list_rmse)\n",
    "min_rmse <- list_rmse[min_rmse_idx]\n",
    "opt_alpha <- list_alpha[min_rmse_idx]\n",
    "\n",
    "min_rmse\n",
    "opt_alpha\n",
    "\n",
    "plot(list_alpha, list_rmse, type = \"l\")\n",
    "\n",
    "ses_livestock <- ses(livestock, initial=\"simple\", alpha = opt_alpha)\n",
    "ses_optima_livestock <- ses(livestock, initial=\"simple\")\n",
    "summary(ses_livestock)\n",
    "summary(ses_optima_livestock)"
   ]
  }
 ],
 "metadata": {
  "kernelspec": {
   "display_name": "R",
   "language": "R",
   "name": "ir"
  },
  "language_info": {
   "codemirror_mode": "r",
   "file_extension": ".r",
   "mimetype": "text/x-r-source",
   "name": "R",
   "pygments_lexer": "r",
   "version": "3.6.1"
  }
 },
 "nbformat": 4,
 "nbformat_minor": 4
}
