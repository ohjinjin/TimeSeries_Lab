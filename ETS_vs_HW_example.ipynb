{
 "cells": [
  {
   "cell_type": "code",
   "execution_count": null,
   "metadata": {},
   "outputs": [
    {
     "name": "stderr",
     "output_type": "stream",
     "text": [
      "Warning message:\n",
      "\"package 'forecast' was built under R version 3.6.3\"\n",
      "Registered S3 methods overwritten by 'ggplot2':\n",
      "  method         from \n",
      "  [.quosures     rlang\n",
      "  c.quosures     rlang\n",
      "  print.quosures rlang\n",
      "\n"
     ]
    }
   ],
   "source": [
    "library(forecast)\n",
    "library(fpp2)\n",
    "\n",
    "austourists_train_data <- window(austourists, start=c(2000,1), end=c(2013,4))\n",
    "austourists_test_data <- window(austourists, start=c(2014,1), end=c(2015,4))\n",
    "\n",
    "austourists_ets <- ets(austourists_train_data, model=\"MAM\")\n",
    "\n",
    "summary(austourists_ets)\n",
    "autoplot(austourists_ets)"
   ]
  },
  {
   "cell_type": "markdown",
   "metadata": {},
   "source": [
    "austourists 데이터를 train을 위한 데이터와 test를 위한 데이터로 쪼갭니다.<br/>\n",
    "train용 데이터를 이용해 ETS로 먼저 적합시킵니다.<br/>\n",
    "\n",
    "적합된 모형에 대해 요약해 살펴보며, 관측이나 slope(추세)등을 차트로 도식화해보는 코드입니다.<br/>"
   ]
  },
  {
   "cell_type": "code",
   "execution_count": null,
   "metadata": {},
   "outputs": [],
   "source": [
    "# ets 예측하기\n",
    "austourists_ets_fore <- forecast(austourists_ets, h=8)\n",
    "autoplot(austourists_ets_fore, xlab=\"Time\",ylab=\"visitor\")"
   ]
  },
  {
   "cell_type": "markdown",
   "metadata": {},
   "source": [
    "R의 forecast 패키지에서 제공하는 ETS의 경우 forecast()함수를 통해 예측을 별도로 시행해야합니다.<br/>\n",
    "두 주기를 살펴보았네요.<br/>"
   ]
  },
  {
   "cell_type": "code",
   "execution_count": null,
   "metadata": {},
   "outputs": [],
   "source": [
    "austourists_hw <- hw(austourists_train_data, seasonal=\"multiplicative\")\n",
    "summary(austourists_hw)\n",
    "# autoplot(austourists_hw)"
   ]
  },
  {
   "cell_type": "markdown",
   "metadata": {},
   "source": [
    "ETS를 MAM으로 설정했으니, 이번에는 비교를 위하여 train용 데이터를 이용해 홀트계절지수 **승법** 모형으로 적합시키고 적합된 모형을 요약해봅니다.<br/>"
   ]
  },
  {
   "cell_type": "code",
   "execution_count": null,
   "metadata": {},
   "outputs": [],
   "source": [
    "# hw 예측하기\n",
    "austourists_hw_fore <- forecast(austourists_hw, h=8)\n",
    "autoplot(austourists_hw_fore, xlab=\"Time\",ylab=\"visitor\")"
   ]
  },
  {
   "cell_type": "markdown",
   "metadata": {},
   "source": [
    "홀트 계절지수평활법 역시 굳이 별도로 예측을 시행해보았습니다.<br/>"
   ]
  },
  {
   "cell_type": "code",
   "execution_count": null,
   "metadata": {},
   "outputs": [],
   "source": [
    "# 평가\n",
    "accuracy(austourists_ets_fore,austourists_test_data)\n",
    "accuracy(austourists_hw_fore,austourists_test_data)"
   ]
  },
  {
   "cell_type": "markdown",
   "metadata": {},
   "source": [
    "예측을 시행했으니 test 데이터와 accuracy() 함수로 두 모형에 대한 예측 평가를 해봅니다.<br/>\n",
    "RMSE 측도를 기준으로 보았을 때 간발의 차이로 ets가 더 적합이 잘 되었지만, test 데이터에 대해서는 오차가 크네요?<br/>\n",
    "\n",
    "이런 경우 홀트계절지수모형을 적합시킨 경우 보다 학습용 데이터에 과하게 적합되었다 판단하여 저라면 홀트계절지수모형이 더 좋은 모형이다 라고 결론을 내리겠습니다.<br/>"
   ]
  }
 ],
 "metadata": {
  "kernelspec": {
   "display_name": "R",
   "language": "R",
   "name": "ir"
  },
  "language_info": {
   "codemirror_mode": "r",
   "file_extension": ".r",
   "mimetype": "text/x-r-source",
   "name": "R",
   "pygments_lexer": "r",
   "version": "3.6.1"
  }
 },
 "nbformat": 4,
 "nbformat_minor": 4
}
