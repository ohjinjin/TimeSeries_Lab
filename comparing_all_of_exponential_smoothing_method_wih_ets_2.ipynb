{
 "cells": [
  {
   "cell_type": "markdown",
   "metadata": {},
   "source": [
    "# 여러 지수평활법과 ETS 비교 실습\n",
    "\n",
    "여태까지 이동평균평활 이후 우리가 배웠던 지수평활법은 **단순지수평활법(simple exponential smoothing)**과 **홀트의선형지수평활법(holt's linear trend method)**와 **홀트의계절지수평활법(holt winters' seasonal method)**가 있었습니다.<br/>\n",
    "각각을 통계적 기법을 적용한 **ETS 모형**과 비교해보는 실습을 진행합니다.<br/>\n",
    "\n",
    "ETS는 앞서 배웠던 분해분석 위주의 고전모형들과는 다르게 확률적 방법의 시간영역의 한 모형으로 분류됩니다.<br/>\n",
    "\n",
    "실습에 주어진 조건은 아래와 같습니다.<br/>\n",
    "* holt의 감쇠효과 또는 hw에서 가법/승법 선택은 분석자가 각자 판단해서 사용 가능\n",
    "* 학습데이터와 테스트데이터를 바탕으로 RMSE 값을 비교분석하여 더 나은 모형을 선정\n",
    "* 학습데이터에서 각 모형의 파라미터 값들은 최적화된 값을 찾아서 사용 가능\n",
    "* 실제값과 적합된 값, 예측값을 구분하여 차트로 표현하기"
   ]
  },
  {
   "cell_type": "code",
   "execution_count": 1,
   "metadata": {
    "scrolled": false
   },
   "outputs": [
    {
     "name": "stderr",
     "output_type": "stream",
     "text": [
      "Warning message:\n",
      "\"package 'forecast' was built under R version 3.6.3\"\n",
      "Registered S3 methods overwritten by 'ggplot2':\n",
      "  method         from \n",
      "  [.quosures     rlang\n",
      "  c.quosures     rlang\n",
      "  print.quosures rlang\n",
      "\n",
      "Registered S3 method overwritten by 'xts':\n",
      "  method     from\n",
      "  as.zoo.xts zoo \n",
      "\n",
      "Registered S3 method overwritten by 'quantmod':\n",
      "  method            from\n",
      "  as.zoo.data.frame zoo \n",
      "\n",
      "Warning message:\n",
      "\"package 'fpp2' was built under R version 3.6.3\"\n",
      "Loading required package: ggplot2\n",
      "\n",
      "Loading required package: fma\n",
      "\n",
      "Warning message:\n",
      "\"package 'fma' was built under R version 3.6.3\"\n",
      "Loading required package: expsmooth\n",
      "\n",
      "Warning message:\n",
      "\"package 'expsmooth' was built under R version 3.6.3\"\n"
     ]
    },
    {
     "name": "stdout",
     "output_type": "stream",
     "text": [
      "\n",
      "Forecast method: Simple exponential smoothing\n",
      "\n",
      "Model Information:\n",
      "Simple exponential smoothing \n",
      "\n",
      "Call:\n",
      " ses(y = oil_train_data) \n",
      "\n",
      "  Smoothing parameters:\n",
      "    alpha = 0.9999 \n",
      "\n",
      "  Initial states:\n",
      "    l = 192.1571 \n",
      "\n",
      "  sigma:  58.4811\n",
      "\n",
      "     AIC     AICc      BIC \n",
      "362.6458 363.5347 366.9478 \n",
      "\n",
      "Error measures:\n",
      "                   ME     RMSE      MAE      MPE     MAPE      MASE      ACF1\n",
      "Training set 8.513001 56.56321 42.74775 1.237038 13.11413 0.9677709 0.1888919\n",
      "\n",
      "Forecasts:\n",
      "     Point Forecast    Lo 80    Hi 80     Lo 95    Hi 95\n",
      "2001       456.0338 381.0872 530.9804 341.41282 570.6547\n",
      "2002       456.0338 350.0486 562.0190 293.94338 618.1241\n",
      "2003       456.0338 326.2311 585.8364 257.51771 654.5498\n",
      "2004       456.0338 306.1518 605.9157 226.80909 685.2584\n",
      "2005       456.0338 288.4615 623.6060 199.75407 712.3134\n",
      "2006       456.0338 272.4681 639.5994 175.29436 736.7731\n",
      "2007       456.0338 257.7607 654.3068 152.80127 759.2662\n",
      "2008       456.0338 244.0713 667.9962 131.86518 780.2023\n",
      "2009       456.0338 231.2139 680.8536 112.20153 799.8660\n",
      "2010       456.0338 219.0531 693.0144  93.60317 818.4643\n",
      "ETS(A,N,N) \n",
      "\n",
      "Call:\n",
      " ets(y = oil_train_data) \n",
      "\n",
      "  Smoothing parameters:\n",
      "    alpha = 0.9999 \n",
      "\n",
      "  Initial states:\n",
      "    l = 192.1187 \n",
      "\n",
      "  sigma:  58.4811\n",
      "\n",
      "     AIC     AICc      BIC \n",
      "362.6458 363.5347 366.9478 \n",
      "\n",
      "Training set error measures:\n",
      "                   ME     RMSE      MAE      MPE     MAPE     MASE      ACF1\n",
      "Training set 8.514241 56.56321 42.74899 1.237683 13.11478 0.967799 0.1889093\n"
     ]
    },
    {
     "data": {
      "image/png": "[encoded data removed]",
      "text/plain": [
       "Plot with title \"Forecasts from Simple exponential smoothing\""
      ]
     },
     "metadata": {
      "image/png": {
       "height": 420,
       "width": 420
      }
     },
     "output_type": "display_data"
    },
    {
     "data": {
      "text/html": [
       "<table>\n",
       "<caption>A matrix: 2 × 8 of type dbl</caption>\n",
       "<thead>\n",
       "\t<tr><th></th><th scope=col>ME</th><th scope=col>RMSE</th><th scope=col>MAE</th><th scope=col>MPE</th><th scope=col>MAPE</th><th scope=col>MASE</th><th scope=col>ACF1</th><th scope=col>Theil's U</th></tr>\n",
       "</thead>\n",
       "<tbody>\n",
       "\t<tr><th scope=row>Training set</th><td> 8.513001</td><td>56.56321</td><td>42.74775</td><td>1.237038</td><td>13.114133</td><td>0.9677709</td><td>0.1888919</td><td>     NA</td></tr>\n",
       "\t<tr><th scope=row>Test set</th><td>25.140017</td><td>39.27867</td><td>34.43732</td><td>4.836675</td><td> 6.997886</td><td>0.7796302</td><td>0.4280158</td><td>1.24966</td></tr>\n",
       "</tbody>\n",
       "</table>\n"
      ],
      "text/latex": [
       "A matrix: 2 × 8 of type dbl\n",
       "\\begin{tabular}{r|llllllll}\n",
       "  & ME & RMSE & MAE & MPE & MAPE & MASE & ACF1 & Theil's U\\\\\n",
       "\\hline\n",
       "\tTraining set &  8.513001 & 56.56321 & 42.74775 & 1.237038 & 13.114133 & 0.9677709 & 0.1888919 &      NA\\\\\n",
       "\tTest set & 25.140017 & 39.27867 & 34.43732 & 4.836675 &  6.997886 & 0.7796302 & 0.4280158 & 1.24966\\\\\n",
       "\\end{tabular}\n"
      ],
      "text/markdown": [
       "\n",
       "A matrix: 2 × 8 of type dbl\n",
       "\n",
       "| <!--/--> | ME | RMSE | MAE | MPE | MAPE | MASE | ACF1 | Theil's U |\n",
       "|---|---|---|---|---|---|---|---|---|\n",
       "| Training set |  8.513001 | 56.56321 | 42.74775 | 1.237038 | 13.114133 | 0.9677709 | 0.1888919 |      NA |\n",
       "| Test set | 25.140017 | 39.27867 | 34.43732 | 4.836675 |  6.997886 | 0.7796302 | 0.4280158 | 1.24966 |\n",
       "\n"
      ],
      "text/plain": [
       "             ME        RMSE     MAE      MPE      MAPE      MASE      ACF1     \n",
       "Training set  8.513001 56.56321 42.74775 1.237038 13.114133 0.9677709 0.1888919\n",
       "Test set     25.140017 39.27867 34.43732 4.836675  6.997886 0.7796302 0.4280158\n",
       "             Theil's U\n",
       "Training set      NA  \n",
       "Test set     1.24966  "
      ]
     },
     "metadata": {},
     "output_type": "display_data"
    },
    {
     "data": {
      "text/html": [
       "<table>\n",
       "<caption>A matrix: 2 × 8 of type dbl</caption>\n",
       "<thead>\n",
       "\t<tr><th></th><th scope=col>ME</th><th scope=col>RMSE</th><th scope=col>MAE</th><th scope=col>MPE</th><th scope=col>MAPE</th><th scope=col>MASE</th><th scope=col>ACF1</th><th scope=col>Theil's U</th></tr>\n",
       "</thead>\n",
       "<tbody>\n",
       "\t<tr><th scope=row>Training set</th><td> 8.514241</td><td>56.56321</td><td>42.74899</td><td>1.237683</td><td>13.114778</td><td>0.9677990</td><td>0.1889093</td><td>     NA</td></tr>\n",
       "\t<tr><th scope=row>Test set</th><td>25.140020</td><td>39.27868</td><td>34.43733</td><td>4.836676</td><td> 6.997887</td><td>0.7796303</td><td>0.4280158</td><td>1.24966</td></tr>\n",
       "</tbody>\n",
       "</table>\n"
      ],
      "text/latex": [
       "A matrix: 2 × 8 of type dbl\n",
       "\\begin{tabular}{r|llllllll}\n",
       "  & ME & RMSE & MAE & MPE & MAPE & MASE & ACF1 & Theil's U\\\\\n",
       "\\hline\n",
       "\tTraining set &  8.514241 & 56.56321 & 42.74899 & 1.237683 & 13.114778 & 0.9677990 & 0.1889093 &      NA\\\\\n",
       "\tTest set & 25.140020 & 39.27868 & 34.43733 & 4.836676 &  6.997887 & 0.7796303 & 0.4280158 & 1.24966\\\\\n",
       "\\end{tabular}\n"
      ],
      "text/markdown": [
       "\n",
       "A matrix: 2 × 8 of type dbl\n",
       "\n",
       "| <!--/--> | ME | RMSE | MAE | MPE | MAPE | MASE | ACF1 | Theil's U |\n",
       "|---|---|---|---|---|---|---|---|---|\n",
       "| Training set |  8.514241 | 56.56321 | 42.74899 | 1.237683 | 13.114778 | 0.9677990 | 0.1889093 |      NA |\n",
       "| Test set | 25.140020 | 39.27868 | 34.43733 | 4.836676 |  6.997887 | 0.7796303 | 0.4280158 | 1.24966 |\n",
       "\n"
      ],
      "text/plain": [
       "             ME        RMSE     MAE      MPE      MAPE      MASE      ACF1     \n",
       "Training set  8.514241 56.56321 42.74899 1.237683 13.114778 0.9677990 0.1889093\n",
       "Test set     25.140020 39.27868 34.43733 4.836676  6.997887 0.7796303 0.4280158\n",
       "             Theil's U\n",
       "Training set      NA  \n",
       "Test set     1.24966  "
      ]
     },
     "metadata": {},
     "output_type": "display_data"
    },
    {
     "data": {
      "image/png": "[encoded data removed]",
      "text/plain": [
       "Plot with title \"Forecasts from ETS(A,N,N)\""
      ]
     },
     "metadata": {
      "image/png": {
       "height": 420,
       "width": 420
      }
     },
     "output_type": "display_data"
    }
   ],
   "source": [
    "library(forecast)\n",
    "library(fpp2)\n",
    "\n",
    "\n",
    "# data for ses() vs ets()\n",
    "oil_train_data <- window(oil, start=1970, end=2000)\n",
    "oil_test_data <- window(oil, start=2001, end=2013)\n",
    "\n",
    "# fit ses\n",
    "fit_ses_oil <- ses(oil_train_data)\n",
    "summary(fit_ses_oil)\n",
    "\n",
    "# forecast ses\n",
    "fore_ses_oil <- forecast(fit_ses_oil)\n",
    "plot(fore_ses_oil)\n",
    "lines(fitted(fit_ses_oil), type=\"o\", col=\"red\")\n",
    "lines(oil_test_data, col = \"red\", type = \"l\")\n",
    "\n",
    "# fit ets\n",
    "fit_ets_oil <- ets(oil_train_data)\n",
    "summary(fit_ets_oil)\n",
    "\n",
    "# forecast ets\n",
    "fore_ets_oil <- forecast(fit_ets_oil)\n",
    "plot(fore_ets_oil)\n",
    "lines(fitted(fit_ets_oil), type=\"o\", col=\"red\")\n",
    "lines(oil_test_data, col = \"red\", type = \"l\")\n",
    "#lines(simulate(fit_ets_oil, 12), col=\"red\") # 한번 simulate\n",
    "\n",
    "\n",
    "# 평가\n",
    "accuracy(fore_ses_oil,oil_test_data)\n",
    "accuracy(fore_ets_oil,oil_test_data)"
   ]
  },
  {
   "cell_type": "markdown",
   "metadata": {},
   "source": [
    "앞서 먼저 해본 실습에서도 설명한 바와 같이 ETS의 인수를 ZZZ로 두었습니다. ETS의 세 인수는 순서대로 error, trend, seasonal term에 각각 해당합니다.<br/>\n",
    "제가 이렇게 자동으로 최적 모형을 찾아주는 ZZZ로 둔 이유는 이렇습니다.<br/>\n",
    "\n",
    "이 실습에서 이용하는 데이터들이 전부 해당 단원을 배울 때 \"이런 데이터\"에는 \"이 모형이 적합하다\"하고 배울 때 써먹었던 데이터들이기 때문에, 이 첫 번째 데이터인 oil의 경우 ses가 적합할 것 입니다.<br/>\n",
    "실제로도 최적의 모형이 맞을지 확인해보기 위해서 <br/>일부러 자동으로 두었습니다.<br/>\n",
    "\n",
    "window()함수를 이용해서 원하는 구간인 1970년\\~2000년까지는 train 데이터로 두어 적합시키도록 합니다.<br/>\n",
    "그리고 2001년\\~2013년까지는 test 데이터로 둡니다.<br/>\n",
    "\n",
    "어떤 모형으로든 적합시키기 이전에 원본 데이터를 가장 먼저 찍어보았습니다.<br/>\n",
    "\n",
    "각 메소드에 대한 설명은 앞선 실습들에서 설명했으므로 생략합니다.<br/>\n",
    "\n",
    "현재 ses 모형의 초기값과 알파값은 최적으로 찾도록 설정하고 호출하였기 때문에 + 앞전실습과는 데이터구간이 바뀌었으니 새롭게 확인해줄 필요가 있습니다. 적합시킨 모형을 요약해보면 각각 초기값이  192.1571, 알파값이 0.9999로 확인됩니다.<br/>\n",
    "\n",
    "ses 모형의 RMSE 값은 56.56321로 확인되었습니다.<br/>\n",
    "\n",
    "이후 ETS 모형으로 적합시키는데, 위에서 설명했듯이 최적값을 자동으로 찾도록 호출하였지요.<br/>\n",
    "마찬가지로 ANN모델이 확인되었네요, ses 모델에 에러텀만 additive하게 설정된 모형으로 적합시킨 것입니다!<br/>\n",
    "\n",
    "심지어는 주관적이기는 하나 알파값(0.9999)과 초기값(192.1187)도 크게 차이가 안나요! 에러텀이 들어갔으니 아예 차이가 안날 수는 없겠지요.<br/>\n",
    "\n",
    "참고로 ANN과 MNN 모형 비교를 위해서 스무딩파라미터 값이 동일하게준다면 RMSE값이 동일하게 나옵니다.<br/>\n",
    "왜냐면 y를 정의하는 수식을 보면 알 수 있습니다. 에러텀이 승법이든 가법이든 간에 수식에서 익스펙테이션을 (분배)를 해보면 똑같아지기 때문에 RMSE 값이 같은 겁니다.<br/>\n",
    "평균이 0이니까 확률변수가 0값으로 곱해져버리니까 동일한모형으로 되어버립니다. 그래서 테스트를 해서 확인해보려했는데, alpha값은 지정해줄 수 있었지만, initial value도 지정해주려고하니까 잘 되지않아서 내용을 싣지를 못했습니다.<br/>\n",
    "이 내용과 관련된 추가 실습 링크를 [여기](https://github.com/ohjinjin/TimeSeries_Lab/blob/master/compare_ses_vs_ets_via_same_parameter.ipynb)에 걸어두겠습니다.<br/>\n",
    "\n",
    "ETS 모형의 RMSE값은 56.56321입니다.<br/>\n",
    "ses모형으로 적합시켰을 때나 ets 모형으로 적합시켰을 때의 결과가 거의 대동소이하다는 것을 알 수 있습니다.<br/>\n",
    "\n",
    "하지만 테스트 시의 RMSE 도 확인해볼 필요가 있습니다.<br/>\n",
    "ses 모형은 39.27867로, ets는 39.27868로 확인되었습니다.<br/>\n",
    "\n",
    "미세한 차이지만 ses 모형이 테스트 시에 더 적은 오차를 갖는다는 것을 알 수 있습니다.<br/>\n",
    "\n",
    "그런데 이 실습에서는 신기한 현상이 나왔습니다.<br/>\n",
    "바로 학습 시보다 테스트 시의 RMSE가 더 작다는 것이죠.<br/>\n",
    "이런 경우는 흔히 볼 수 있는 사례가 아니니 기억에 남을 것 같습니다.<br/>\n",
    "\n",
    "테스트 시의 예측실제값을 함께 그려주었습니다.<br/>"
   ]
  },
  {
   "cell_type": "code",
   "execution_count": 2,
   "metadata": {
    "scrolled": false
   },
   "outputs": [
    {
     "name": "stdout",
     "output_type": "stream",
     "text": [
      "\n",
      "Forecast method: Holt's method\n",
      "\n",
      "Model Information:\n",
      "Holt's method \n",
      "\n",
      "Call:\n",
      " holt(y = ausair_train_data) \n",
      "\n",
      "  Smoothing parameters:\n",
      "    alpha = 0.9999 \n",
      "    beta  = 1e-04 \n",
      "\n",
      "  Initial states:\n",
      "    l = 9.9867 \n",
      "    b = 1.1251 \n",
      "\n",
      "  sigma:  1.736\n",
      "\n",
      "     AIC     AICc      BIC \n",
      "146.3696 148.7696 153.5396 \n",
      "\n",
      "Error measures:\n",
      "                       ME     RMSE      MAE       MPE     MAPE      MASE\n",
      "Training set -0.006195664 1.620146 1.118594 -1.591612 5.584888 0.7440821\n",
      "                  ACF1\n",
      "Training set 0.0473453\n",
      "\n",
      "Forecasts:\n",
      "     Point Forecast    Lo 80    Hi 80    Lo 95    Hi 95\n",
      "2006       45.78222 43.55743 48.00702 42.37970 49.18475\n",
      "2007       46.90732 43.76099 50.05365 42.09542 51.71921\n",
      "2008       48.03241 44.17883 51.88599 42.13887 53.92595\n",
      "2009       49.15751 44.70759 53.60742 42.35195 55.96306\n",
      "2010       50.28260 45.30722 55.25798 42.67341 57.89179\n",
      "2011       51.40769 45.95718 56.85820 43.07186 59.74353\n",
      "2012       52.53279 46.64528 58.42029 43.52863 61.53695\n",
      "2013       53.65788 47.36357 59.95219 44.03157 63.28420\n",
      "2014       54.78298 48.10653 61.45943 44.57223 64.99372\n",
      "2015       55.90807 48.87013 62.94601 45.14447 66.67167\n",
      "\n",
      "Forecast method: Damped Holt's method\n",
      "\n",
      "Model Information:\n",
      "Damped Holt's method \n",
      "\n",
      "Call:\n",
      " holt(y = ausair_train_data, damped = TRUE) \n",
      "\n",
      "  Smoothing parameters:\n",
      "    alpha = 0.9863 \n",
      "    beta  = 0.1254 \n",
      "    phi   = 0.98 \n",
      "\n",
      "  Initial states:\n",
      "    l = 10.2353 \n",
      "    b = 0.5645 \n",
      "\n",
      "  sigma:  1.8184\n",
      "\n",
      "     AIC     AICc      BIC \n",
      "150.0755 153.5755 158.6794 \n",
      "\n",
      "Error measures:\n",
      "                    ME     RMSE      MAE      MPE     MAPE      MASE\n",
      "Training set 0.3733363 1.665342 1.163677 1.075389 5.557124 0.7740711\n",
      "                    ACF1\n",
      "Training set -0.04098742\n",
      "\n",
      "Forecasts:\n",
      "     Point Forecast    Lo 80    Hi 80    Lo 95    Hi 95\n",
      "2006       46.14912 43.81870 48.47953 42.58505 49.71318\n",
      "2007       47.63413 44.15399 51.11427 42.31171 52.95654\n",
      "2008       49.08944 44.58156 53.59731 42.19524 55.98363\n",
      "2009       50.51564 45.02185 56.00943 42.11362 58.91766\n",
      "2010       51.91332 45.44746 58.37918 42.02464 61.80200\n",
      "2011       53.28305 45.84642 60.71967 41.90971 64.65639\n",
      "2012       54.62538 46.21301 63.03774 41.75978 67.49098\n",
      "2013       55.94086 46.54452 65.33721 41.57040 70.31133\n",
      "2014       57.23004 46.83979 67.62028 41.33953 73.12055\n",
      "2015       58.49343 47.09858 69.88828 41.06651 75.92035\n"
     ]
    },
    {
     "data": {
      "image/png": "[encoded data removed]",
      "text/plain": [
       "Plot with title \"Forecasts from Holt's method\""
      ]
     },
     "metadata": {
      "image/png": {
       "height": 420,
       "width": 420
      }
     },
     "output_type": "display_data"
    },
    {
     "name": "stdout",
     "output_type": "stream",
     "text": [
      "ETS(M,A,N) \n",
      "\n",
      "Call:\n",
      " ets(y = ausair_train_data) \n",
      "\n",
      "  Smoothing parameters:\n",
      "    alpha = 0.9433 \n",
      "    beta  = 1e-04 \n",
      "\n",
      "  Initial states:\n",
      "    l = 10.097 \n",
      "    b = 0.7781 \n",
      "\n",
      "  sigma:  0.0812\n",
      "\n",
      "     AIC     AICc      BIC \n",
      "143.5966 145.9966 150.7666 \n",
      "\n",
      "Training set error measures:\n",
      "                    ME     RMSE      MAE       MPE     MAPE      MASE\n",
      "Training set 0.3526798 1.664772 1.147784 0.2435318 5.407749 0.7634988\n",
      "                   ACF1\n",
      "Training set 0.09926494\n"
     ]
    },
    {
     "data": {
      "image/png": "[encoded data removed]",
      "text/plain": [
       "Plot with title \"Forecasts from Damped Holt's method\""
      ]
     },
     "metadata": {
      "image/png": {
       "height": 420,
       "width": 420
      }
     },
     "output_type": "display_data"
    },
    {
     "data": {
      "text/html": [
       "<table>\n",
       "<caption>A matrix: 2 × 8 of type dbl</caption>\n",
       "<thead>\n",
       "\t<tr><th></th><th scope=col>ME</th><th scope=col>RMSE</th><th scope=col>MAE</th><th scope=col>MPE</th><th scope=col>MAPE</th><th scope=col>MASE</th><th scope=col>ACF1</th><th scope=col>Theil's U</th></tr>\n",
       "</thead>\n",
       "<tbody>\n",
       "\t<tr><th scope=row>Training set</th><td>-0.006195664</td><td> 1.620146</td><td>1.118594</td><td>-1.591612</td><td> 5.584888</td><td>0.7440821</td><td>0.0473453</td><td>      NA</td></tr>\n",
       "\t<tr><th scope=row>Test set</th><td> 8.520156928</td><td>10.199976</td><td>8.520157</td><td>13.223788</td><td>13.223788</td><td>5.6675574</td><td>0.6966815</td><td>2.169414</td></tr>\n",
       "</tbody>\n",
       "</table>\n"
      ],
      "text/latex": [
       "A matrix: 2 × 8 of type dbl\n",
       "\\begin{tabular}{r|llllllll}\n",
       "  & ME & RMSE & MAE & MPE & MAPE & MASE & ACF1 & Theil's U\\\\\n",
       "\\hline\n",
       "\tTraining set & -0.006195664 &  1.620146 & 1.118594 & -1.591612 &  5.584888 & 0.7440821 & 0.0473453 &       NA\\\\\n",
       "\tTest set &  8.520156928 & 10.199976 & 8.520157 & 13.223788 & 13.223788 & 5.6675574 & 0.6966815 & 2.169414\\\\\n",
       "\\end{tabular}\n"
      ],
      "text/markdown": [
       "\n",
       "A matrix: 2 × 8 of type dbl\n",
       "\n",
       "| <!--/--> | ME | RMSE | MAE | MPE | MAPE | MASE | ACF1 | Theil's U |\n",
       "|---|---|---|---|---|---|---|---|---|\n",
       "| Training set | -0.006195664 |  1.620146 | 1.118594 | -1.591612 |  5.584888 | 0.7440821 | 0.0473453 |       NA |\n",
       "| Test set |  8.520156928 | 10.199976 | 8.520157 | 13.223788 | 13.223788 | 5.6675574 | 0.6966815 | 2.169414 |\n",
       "\n"
      ],
      "text/plain": [
       "             ME           RMSE      MAE      MPE       MAPE      MASE     \n",
       "Training set -0.006195664  1.620146 1.118594 -1.591612  5.584888 0.7440821\n",
       "Test set      8.520156928 10.199976 8.520157 13.223788 13.223788 5.6675574\n",
       "             ACF1      Theil's U\n",
       "Training set 0.0473453       NA \n",
       "Test set     0.6966815 2.169414 "
      ]
     },
     "metadata": {},
     "output_type": "display_data"
    },
    {
     "data": {
      "text/html": [
       "<table>\n",
       "<caption>A matrix: 2 × 8 of type dbl</caption>\n",
       "<thead>\n",
       "\t<tr><th></th><th scope=col>ME</th><th scope=col>RMSE</th><th scope=col>MAE</th><th scope=col>MPE</th><th scope=col>MAPE</th><th scope=col>MASE</th><th scope=col>ACF1</th><th scope=col>Theil's U</th></tr>\n",
       "</thead>\n",
       "<tbody>\n",
       "\t<tr><th scope=row>Training set</th><td>0.3733363</td><td>1.665342</td><td>1.163677</td><td> 1.075389</td><td> 5.557124</td><td>0.7740711</td><td>-0.04098742</td><td>      NA</td></tr>\n",
       "\t<tr><th scope=row>Test set</th><td>6.8778642</td><td>8.481858</td><td>6.975599</td><td>10.574985</td><td>10.770349</td><td>4.6401267</td><td> 0.67883776</td><td>1.803973</td></tr>\n",
       "</tbody>\n",
       "</table>\n"
      ],
      "text/latex": [
       "A matrix: 2 × 8 of type dbl\n",
       "\\begin{tabular}{r|llllllll}\n",
       "  & ME & RMSE & MAE & MPE & MAPE & MASE & ACF1 & Theil's U\\\\\n",
       "\\hline\n",
       "\tTraining set & 0.3733363 & 1.665342 & 1.163677 &  1.075389 &  5.557124 & 0.7740711 & -0.04098742 &       NA\\\\\n",
       "\tTest set & 6.8778642 & 8.481858 & 6.975599 & 10.574985 & 10.770349 & 4.6401267 &  0.67883776 & 1.803973\\\\\n",
       "\\end{tabular}\n"
      ],
      "text/markdown": [
       "\n",
       "A matrix: 2 × 8 of type dbl\n",
       "\n",
       "| <!--/--> | ME | RMSE | MAE | MPE | MAPE | MASE | ACF1 | Theil's U |\n",
       "|---|---|---|---|---|---|---|---|---|\n",
       "| Training set | 0.3733363 | 1.665342 | 1.163677 |  1.075389 |  5.557124 | 0.7740711 | -0.04098742 |       NA |\n",
       "| Test set | 6.8778642 | 8.481858 | 6.975599 | 10.574985 | 10.770349 | 4.6401267 |  0.67883776 | 1.803973 |\n",
       "\n"
      ],
      "text/plain": [
       "             ME        RMSE     MAE      MPE       MAPE      MASE     \n",
       "Training set 0.3733363 1.665342 1.163677  1.075389  5.557124 0.7740711\n",
       "Test set     6.8778642 8.481858 6.975599 10.574985 10.770349 4.6401267\n",
       "             ACF1        Theil's U\n",
       "Training set -0.04098742       NA \n",
       "Test set      0.67883776 1.803973 "
      ]
     },
     "metadata": {},
     "output_type": "display_data"
    },
    {
     "data": {
      "text/html": [
       "<table>\n",
       "<caption>A matrix: 2 × 8 of type dbl</caption>\n",
       "<thead>\n",
       "\t<tr><th></th><th scope=col>ME</th><th scope=col>RMSE</th><th scope=col>MAE</th><th scope=col>MPE</th><th scope=col>MAPE</th><th scope=col>MASE</th><th scope=col>ACF1</th><th scope=col>Theil's U</th></tr>\n",
       "</thead>\n",
       "<tbody>\n",
       "\t<tr><th scope=row>Training set</th><td> 0.3526798</td><td> 1.664772</td><td> 1.147784</td><td> 0.2435318</td><td> 5.407749</td><td>0.7634988</td><td>0.09926494</td><td>     NA</td></tr>\n",
       "\t<tr><th scope=row>Test set</th><td>10.5505752</td><td>12.401981</td><td>10.550575</td><td>16.4740364</td><td>16.474036</td><td>7.0181795</td><td>0.71169850</td><td>2.63408</td></tr>\n",
       "</tbody>\n",
       "</table>\n"
      ],
      "text/latex": [
       "A matrix: 2 × 8 of type dbl\n",
       "\\begin{tabular}{r|llllllll}\n",
       "  & ME & RMSE & MAE & MPE & MAPE & MASE & ACF1 & Theil's U\\\\\n",
       "\\hline\n",
       "\tTraining set &  0.3526798 &  1.664772 &  1.147784 &  0.2435318 &  5.407749 & 0.7634988 & 0.09926494 &      NA\\\\\n",
       "\tTest set & 10.5505752 & 12.401981 & 10.550575 & 16.4740364 & 16.474036 & 7.0181795 & 0.71169850 & 2.63408\\\\\n",
       "\\end{tabular}\n"
      ],
      "text/markdown": [
       "\n",
       "A matrix: 2 × 8 of type dbl\n",
       "\n",
       "| <!--/--> | ME | RMSE | MAE | MPE | MAPE | MASE | ACF1 | Theil's U |\n",
       "|---|---|---|---|---|---|---|---|---|\n",
       "| Training set |  0.3526798 |  1.664772 |  1.147784 |  0.2435318 |  5.407749 | 0.7634988 | 0.09926494 |      NA |\n",
       "| Test set | 10.5505752 | 12.401981 | 10.550575 | 16.4740364 | 16.474036 | 7.0181795 | 0.71169850 | 2.63408 |\n",
       "\n"
      ],
      "text/plain": [
       "             ME         RMSE      MAE       MPE        MAPE      MASE     \n",
       "Training set  0.3526798  1.664772  1.147784  0.2435318  5.407749 0.7634988\n",
       "Test set     10.5505752 12.401981 10.550575 16.4740364 16.474036 7.0181795\n",
       "             ACF1       Theil's U\n",
       "Training set 0.09926494      NA  \n",
       "Test set     0.71169850 2.63408  "
      ]
     },
     "metadata": {},
     "output_type": "display_data"
    },
    {
     "data": {
      "image/png": "[encoded data removed]",
      "text/plain": [
       "Plot with title \"Forecasts from ETS(M,A,N)\""
      ]
     },
     "metadata": {
      "image/png": {
       "height": 420,
       "width": 420
      }
     },
     "output_type": "display_data"
    }
   ],
   "source": [
    "library(forecast)\n",
    "library(fpp2)\n",
    "\n",
    "\n",
    "# data for holt() vs ets()\n",
    "ausair_train_data <- window(ausair, start=1975, end=2005)\n",
    "ausair_test_data <- window(ausair, start=2006, end=2016)\n",
    "\n",
    "# fit holt_no damped\n",
    "fit_holt_ausair_1 <- holt(ausair_train_data)\n",
    "summary(fit_holt_ausair_1)\n",
    "\n",
    "# fit holt_damped\n",
    "fit_holt_ausair_2 <- holt(ausair_train_data, damped=TRUE)\n",
    "summary(fit_holt_ausair_2)\n",
    "\n",
    "# forecast holt_no damped\n",
    "fore_holt_ausair_1 <- forecast(fit_holt_ausair_1)\n",
    "plot(fore_holt_ausair_1)\n",
    "lines(fitted(fit_holt_ausair_1), type=\"o\", col=\"red\")\n",
    "lines(ausair_test_data, col = \"red\", type = \"l\")\n",
    "\n",
    "# forecast holt_damped\n",
    "fore_holt_ausair_2 <- forecast(fit_holt_ausair_2)\n",
    "plot(fore_holt_ausair_2)\n",
    "lines(fitted(fit_holt_ausair_2), type=\"o\", col=\"red\")\n",
    "lines(ausair_test_data, col = \"red\", type = \"l\")\n",
    "\n",
    "# fit ets\n",
    "fit_ets_ausair <- ets(ausair_train_data)\n",
    "summary(fit_ets_ausair)\n",
    "\n",
    "# forecast ets\n",
    "fore_ets_ausair <- forecast(fit_ets_ausair)\n",
    "plot(fore_ets_ausair)\n",
    "lines(fitted(fit_ets_ausair), type=\"o\", col=\"red\")\n",
    "#lines(simulate(fit_ets_ausair, 12), col=\"red\") # 한번 simulate\n",
    "lines(ausair_test_data, col = \"red\", type = \"l\")\n",
    "\n",
    "\n",
    "# 평가\n",
    "accuracy(fore_holt_ausair_1,ausair_test_data)\n",
    "accuracy(fore_holt_ausair_2,ausair_test_data)\n",
    "accuracy(fore_ets_ausair,ausair_test_data)"
   ]
  },
  {
   "cell_type": "markdown",
   "metadata": {},
   "source": [
    "이번엔 홀트의 선형지수 평활과 ets 두 메소드 간의 비교 실습입니다.<br/>\n",
    "마찬가지의 이유로 ETS의 인수를 ZZZ로 두었습니다.<br/>\n",
    "\n",
    "window()함수를 이용해서 원하는 구간인 1975년\\~2006년까지는 train 데이터로 두어 적합시키도록 합니다.<br/>\n",
    "그리고 2001년\\~2013년까지는 test 데이터로 둡니다.<br/>\n",
    "\n",
    "어떤 모형으로든 적합시키기 이전에 원본 데이터를 가장 먼저 찍어보았습니다.<br/>\n",
    "\n",
    "마찬가지로 앞전 실습에서 모형에 대한 설명은 여러차례 되었으므로 생략하며, damped를 적용했을 때와 적용하지 않았을 때 모두 비교해보겠습니다.<br/>\n",
    "\n",
    "적합된 홀트 선형지수평활 모형(no damped)을 요약해보았습니다. 이 모형의 RMSE 값은 1.620146으로 확인되었습니다.<br/>\n",
    "\n",
    "그 다음 적합된 홀트 선형지수평활 모형(damped) 역시 요약해보았습니다. RMSE값은 1.665342로 잔차값이 조금 늘었네요. 적합시킬 구간은 거의 단순하게 지속적으로 상승하는 구간이다 보니까 잔차가 늘어보일 수 있을 듯합니다.<br/>\n",
    "\n",
    "이후 ETS 모형으로 적합시키는데, 위에서 설명했듯이 최적값을 자동으로 찾도록 호출하였지요.<br/>\n",
    "이번에도 역시 MAN모델이 확인되었네요, 홀트 선형 모형에 에러텀만 multiplicative하게 설정된 모형으로 적합시킨 것입니다!<br/>\n",
    "\n",
    "ETS 모형의 RMSE값은 1.664772입니다.<br/>\n",
    "RMSE값만 보아서는 에러텀이 없는 홀트 선형지수 모형(no damped)이 가장 잘 적합된 것이라고 판단할 수는 있겠지만, 과적합 문제를 피해갈 수 있을지 여부까지 확인을 위해서 test 데이터를 가지고 accuracy를 측정합니다.<br/>\n",
    "\n",
    "흥미로운 결과가 나왔습니다.<br/>\n",
    "홀트 선형지수평활 모형(no damped)의 예측 RMSE는 10.199976로 확인 되며, 홀트 선형지수평활 모형(damped)의 예측 RMSE는 8.481858으로 확인되었습니다.<br/>\n",
    "또 ETS 모형의 RMSE값은 12.401981로 확인되어 적합 RMSE 잔차하고는 상당히 다른 결과를 낳았네요.<br/>\n",
    "또 ETS 모형의 RMSE값은 12.401981로 확인되어 적합 RMSE 잔차하고는 상당히 다른 결과를 낳았네요. 심지어 적 잔차가 가장 적게 나왔던 홀트 선형지수평활 모형(no damped)는 오히려 테스트시에 신뢰구간 80 밖에 예측 실제값이 위치하기도 했습니다.<br/>\n",
    "\n",
    "적합 측도가 낮다고 해서 예측력이 좋다고 말할 수 없으며 이런 경우에는 오히려 train 데이터에 과적합된 경향이 있다는 평가를 할 수 있습니다. 따라서 최적의 모형은 홀트 선형지수 평활 모형(damped)입니다.<br/>"
   ]
  },
  {
   "cell_type": "code",
   "execution_count": 3,
   "metadata": {
    "scrolled": false
   },
   "outputs": [
    {
     "name": "stdout",
     "output_type": "stream",
     "text": [
      "\n",
      "Forecast method: Holt-Winters' additive method\n",
      "\n",
      "Model Information:\n",
      "Holt-Winters' additive method \n",
      "\n",
      "Call:\n",
      " hw(y = austourists_train_data, seasonal = \"additive\") \n",
      "\n",
      "  Smoothing parameters:\n",
      "    alpha = 0.2506 \n",
      "    beta  = 1e-04 \n",
      "    gamma = 0.4321 \n",
      "\n",
      "  Initial states:\n",
      "    l = 27.5704 \n",
      "    b = 0.4855 \n",
      "    s = 2.0887 -0.6846 -6.4459 5.0418\n",
      "\n",
      "  sigma:  2.4281\n",
      "\n",
      "     AIC     AICc      BIC \n",
      "334.1457 338.0587 352.3739 \n",
      "\n",
      "Error measures:\n",
      "                     ME     RMSE      MAE        MPE     MAPE      MASE\n",
      "Training set 0.01600417 2.248029 1.694974 -0.7700315 4.824783 0.6226225\n",
      "                   ACF1\n",
      "Training set 0.04017263\n",
      "\n",
      "Forecasts:\n",
      "        Point Forecast    Lo 80    Hi 80    Lo 95    Hi 95\n",
      "2014 Q1       67.71910 64.60730 70.83089 62.96001 72.47818\n",
      "2014 Q2       43.71151 40.50337 46.91964 38.80509 48.61792\n",
      "2014 Q3       54.92372 51.62199 58.22545 49.87416 59.97329\n",
      "2014 Q4       58.69967 55.30685 62.09250 53.51080 63.88855\n",
      "2015 Q1       69.66141 65.65756 73.66526 63.53805 75.78477\n",
      "2015 Q2       45.65382 41.57441 49.73323 39.41490 51.89274\n",
      "2015 Q3       56.86603 52.71237 61.01969 50.51356 63.21850\n",
      "2015 Q4       60.64198 56.41533 64.86864 54.17787 67.10610\n",
      "\n",
      "Forecast method: Holt-Winters' multiplicative method\n",
      "\n",
      "Model Information:\n",
      "Holt-Winters' multiplicative method \n",
      "\n",
      "Call:\n",
      " hw(y = austourists_train_data, seasonal = \"multiplicative\") \n",
      "\n",
      "  Smoothing parameters:\n",
      "    alpha = 0.247 \n",
      "    beta  = 1e-04 \n",
      "    gamma = 0.2752 \n",
      "\n",
      "  Initial states:\n",
      "    l = 29.2347 \n",
      "    b = 0.4921 \n",
      "    s = 1.047 0.9652 0.7978 1.19\n",
      "\n",
      "  sigma:  0.0666\n",
      "\n",
      "     AIC     AICc      BIC \n",
      "339.6269 343.5400 357.8551 \n",
      "\n",
      "Error measures:\n",
      "                      ME     RMSE      MAE        MPE    MAPE      MASE\n",
      "Training set -0.04120561 2.145898 1.551358 -0.8266727 4.44042 0.5698674\n",
      "                  ACF1\n",
      "Training set 0.1093837\n",
      "\n",
      "Forecasts:\n",
      "        Point Forecast    Lo 80    Hi 80    Lo 95    Hi 95\n",
      "2014 Q1       69.42268 63.49483 75.35054 60.35681 78.48856\n",
      "2014 Q2       42.95056 39.17419 46.72692 37.17510 48.72601\n",
      "2014 Q3       54.63372 49.69759 59.56986 47.08456 62.18289\n",
      "2014 Q4       58.41868 53.00468 63.83269 50.13868 66.69869\n",
      "2015 Q1       71.86556 64.49213 79.23899 60.58887 83.14225\n",
      "2015 Q2       44.44897 39.79975 49.09818 37.33860 51.55933\n",
      "2015 Q3       56.52352 50.50224 62.54481 47.31476 65.73229\n",
      "2015 Q4       60.42238 53.87284 66.97193 50.40572 70.43904\n"
     ]
    },
    {
     "data": {
      "image/png": "[encoded data removed]",
      "text/plain": [
       "Plot with title \"Forecasts from Holt-Winters' additive method\""
      ]
     },
     "metadata": {
      "image/png": {
       "height": 420,
       "width": 420
      }
     },
     "output_type": "display_data"
    },
    {
     "name": "stdout",
     "output_type": "stream",
     "text": [
      "ETS(A,A,A) \n",
      "\n",
      "Call:\n",
      " ets(y = austourists_train_data) \n",
      "\n",
      "  Smoothing parameters:\n",
      "    alpha = 0.2506 \n",
      "    beta  = 1e-04 \n",
      "    gamma = 0.4321 \n",
      "\n",
      "  Initial states:\n",
      "    l = 27.5703 \n",
      "    b = 0.4854 \n",
      "    s = 2.0887 -0.6848 -6.4457 5.0418\n",
      "\n",
      "  sigma:  2.4281\n",
      "\n",
      "     AIC     AICc      BIC \n",
      "334.1457 338.0587 352.3739 \n",
      "\n",
      "Training set error measures:\n",
      "                     ME     RMSE      MAE       MPE     MAPE      MASE\n",
      "Training set 0.01611745 2.248029 1.694969 -0.769732 4.824727 0.6226207\n",
      "                   ACF1\n",
      "Training set 0.04017056\n"
     ]
    },
    {
     "data": {
      "image/png": "[encoded data removed]",
      "text/plain": [
       "Plot with title \"Forecasts from Holt-Winters' multiplicative method\""
      ]
     },
     "metadata": {
      "image/png": {
       "height": 420,
       "width": 420
      }
     },
     "output_type": "display_data"
    },
    {
     "name": "stdout",
     "output_type": "stream",
     "text": [
      "ETS(M,A,M) \n",
      "\n",
      "Call:\n",
      " ets(y = austourists_train_data, model = \"MAM\") \n",
      "\n",
      "  Smoothing parameters:\n",
      "    alpha = 0.3223 \n",
      "    beta  = 1e-04 \n",
      "    gamma = 0.1951 \n",
      "\n",
      "  Initial states:\n",
      "    l = 27.9164 \n",
      "    b = 0.4511 \n",
      "    s = 1.059 0.9461 0.7925 1.2025\n",
      "\n",
      "  sigma:  0.0654\n",
      "\n",
      "     AIC     AICc      BIC \n",
      "336.8985 340.8116 355.1267 \n",
      "\n",
      "Training set error measures:\n",
      "                    ME     RMSE      MAE        MPE     MAPE      MASE\n",
      "Training set 0.1272526 2.132348 1.579408 -0.2918021 4.467637 0.5801713\n",
      "                   ACF1\n",
      "Training set 0.02425731\n"
     ]
    },
    {
     "data": {
      "image/png": "[encoded data removed]",
      "text/plain": [
       "Plot with title \"Forecasts from ETS(A,A,A)\""
      ]
     },
     "metadata": {
      "image/png": {
       "height": 420,
       "width": 420
      }
     },
     "output_type": "display_data"
    },
    {
     "data": {
      "text/html": [
       "<table>\n",
       "<caption>A matrix: 2 × 8 of type dbl</caption>\n",
       "<thead>\n",
       "\t<tr><th></th><th scope=col>ME</th><th scope=col>RMSE</th><th scope=col>MAE</th><th scope=col>MPE</th><th scope=col>MAPE</th><th scope=col>MASE</th><th scope=col>ACF1</th><th scope=col>Theil's U</th></tr>\n",
       "</thead>\n",
       "<tbody>\n",
       "\t<tr><th scope=row>Training set</th><td>0.01600417</td><td>2.248029</td><td>1.694974</td><td>-0.7700315</td><td>4.824783</td><td>0.6226225</td><td>0.04017263</td><td>       NA</td></tr>\n",
       "\t<tr><th scope=row>Test set</th><td>1.64223167</td><td>3.003009</td><td>2.462454</td><td> 2.5775210</td><td>3.974891</td><td>0.9045444</td><td>0.49578563</td><td>0.2129111</td></tr>\n",
       "</tbody>\n",
       "</table>\n"
      ],
      "text/latex": [
       "A matrix: 2 × 8 of type dbl\n",
       "\\begin{tabular}{r|llllllll}\n",
       "  & ME & RMSE & MAE & MPE & MAPE & MASE & ACF1 & Theil's U\\\\\n",
       "\\hline\n",
       "\tTraining set & 0.01600417 & 2.248029 & 1.694974 & -0.7700315 & 4.824783 & 0.6226225 & 0.04017263 &        NA\\\\\n",
       "\tTest set & 1.64223167 & 3.003009 & 2.462454 &  2.5775210 & 3.974891 & 0.9045444 & 0.49578563 & 0.2129111\\\\\n",
       "\\end{tabular}\n"
      ],
      "text/markdown": [
       "\n",
       "A matrix: 2 × 8 of type dbl\n",
       "\n",
       "| <!--/--> | ME | RMSE | MAE | MPE | MAPE | MASE | ACF1 | Theil's U |\n",
       "|---|---|---|---|---|---|---|---|---|\n",
       "| Training set | 0.01600417 | 2.248029 | 1.694974 | -0.7700315 | 4.824783 | 0.6226225 | 0.04017263 |        NA |\n",
       "| Test set | 1.64223167 | 3.003009 | 2.462454 |  2.5775210 | 3.974891 | 0.9045444 | 0.49578563 | 0.2129111 |\n",
       "\n"
      ],
      "text/plain": [
       "             ME         RMSE     MAE      MPE        MAPE     MASE     \n",
       "Training set 0.01600417 2.248029 1.694974 -0.7700315 4.824783 0.6226225\n",
       "Test set     1.64223167 3.003009 2.462454  2.5775210 3.974891 0.9045444\n",
       "             ACF1       Theil's U\n",
       "Training set 0.04017263        NA\n",
       "Test set     0.49578563 0.2129111"
      ]
     },
     "metadata": {},
     "output_type": "display_data"
    },
    {
     "data": {
      "text/html": [
       "<table>\n",
       "<caption>A matrix: 2 × 8 of type dbl</caption>\n",
       "<thead>\n",
       "\t<tr><th></th><th scope=col>ME</th><th scope=col>RMSE</th><th scope=col>MAE</th><th scope=col>MPE</th><th scope=col>MAPE</th><th scope=col>MASE</th><th scope=col>ACF1</th><th scope=col>Theil's U</th></tr>\n",
       "</thead>\n",
       "<tbody>\n",
       "\t<tr><th scope=row>Training set</th><td>-0.04120561</td><td>2.145898</td><td>1.551358</td><td>-0.8266727</td><td>4.440420</td><td>0.5698674</td><td>0.1093837</td><td>       NA</td></tr>\n",
       "\t<tr><th scope=row>Test set</th><td> 1.54112579</td><td>3.251422</td><td>2.583929</td><td> 2.6482491</td><td>4.246379</td><td>0.9491665</td><td>0.4227807</td><td>0.2140933</td></tr>\n",
       "</tbody>\n",
       "</table>\n"
      ],
      "text/latex": [
       "A matrix: 2 × 8 of type dbl\n",
       "\\begin{tabular}{r|llllllll}\n",
       "  & ME & RMSE & MAE & MPE & MAPE & MASE & ACF1 & Theil's U\\\\\n",
       "\\hline\n",
       "\tTraining set & -0.04120561 & 2.145898 & 1.551358 & -0.8266727 & 4.440420 & 0.5698674 & 0.1093837 &        NA\\\\\n",
       "\tTest set &  1.54112579 & 3.251422 & 2.583929 &  2.6482491 & 4.246379 & 0.9491665 & 0.4227807 & 0.2140933\\\\\n",
       "\\end{tabular}\n"
      ],
      "text/markdown": [
       "\n",
       "A matrix: 2 × 8 of type dbl\n",
       "\n",
       "| <!--/--> | ME | RMSE | MAE | MPE | MAPE | MASE | ACF1 | Theil's U |\n",
       "|---|---|---|---|---|---|---|---|---|\n",
       "| Training set | -0.04120561 | 2.145898 | 1.551358 | -0.8266727 | 4.440420 | 0.5698674 | 0.1093837 |        NA |\n",
       "| Test set |  1.54112579 | 3.251422 | 2.583929 |  2.6482491 | 4.246379 | 0.9491665 | 0.4227807 | 0.2140933 |\n",
       "\n"
      ],
      "text/plain": [
       "             ME          RMSE     MAE      MPE        MAPE     MASE     \n",
       "Training set -0.04120561 2.145898 1.551358 -0.8266727 4.440420 0.5698674\n",
       "Test set      1.54112579 3.251422 2.583929  2.6482491 4.246379 0.9491665\n",
       "             ACF1      Theil's U\n",
       "Training set 0.1093837        NA\n",
       "Test set     0.4227807 0.2140933"
      ]
     },
     "metadata": {},
     "output_type": "display_data"
    },
    {
     "data": {
      "text/html": [
       "<table>\n",
       "<caption>A matrix: 2 × 8 of type dbl</caption>\n",
       "<thead>\n",
       "\t<tr><th></th><th scope=col>ME</th><th scope=col>RMSE</th><th scope=col>MAE</th><th scope=col>MPE</th><th scope=col>MAPE</th><th scope=col>MASE</th><th scope=col>ACF1</th><th scope=col>Theil's U</th></tr>\n",
       "</thead>\n",
       "<tbody>\n",
       "\t<tr><th scope=row>Training set</th><td>0.01611745</td><td>2.248029</td><td>1.694969</td><td>-0.769732</td><td>4.824727</td><td>0.6226207</td><td>0.04017056</td><td>       NA</td></tr>\n",
       "\t<tr><th scope=row>Test set</th><td>1.64246352</td><td>3.003210</td><td>2.462588</td><td> 2.577913</td><td>3.975101</td><td>0.9045939</td><td>0.49579241</td><td>0.2129274</td></tr>\n",
       "</tbody>\n",
       "</table>\n"
      ],
      "text/latex": [
       "A matrix: 2 × 8 of type dbl\n",
       "\\begin{tabular}{r|llllllll}\n",
       "  & ME & RMSE & MAE & MPE & MAPE & MASE & ACF1 & Theil's U\\\\\n",
       "\\hline\n",
       "\tTraining set & 0.01611745 & 2.248029 & 1.694969 & -0.769732 & 4.824727 & 0.6226207 & 0.04017056 &        NA\\\\\n",
       "\tTest set & 1.64246352 & 3.003210 & 2.462588 &  2.577913 & 3.975101 & 0.9045939 & 0.49579241 & 0.2129274\\\\\n",
       "\\end{tabular}\n"
      ],
      "text/markdown": [
       "\n",
       "A matrix: 2 × 8 of type dbl\n",
       "\n",
       "| <!--/--> | ME | RMSE | MAE | MPE | MAPE | MASE | ACF1 | Theil's U |\n",
       "|---|---|---|---|---|---|---|---|---|\n",
       "| Training set | 0.01611745 | 2.248029 | 1.694969 | -0.769732 | 4.824727 | 0.6226207 | 0.04017056 |        NA |\n",
       "| Test set | 1.64246352 | 3.003210 | 2.462588 |  2.577913 | 3.975101 | 0.9045939 | 0.49579241 | 0.2129274 |\n",
       "\n"
      ],
      "text/plain": [
       "             ME         RMSE     MAE      MPE       MAPE     MASE     \n",
       "Training set 0.01611745 2.248029 1.694969 -0.769732 4.824727 0.6226207\n",
       "Test set     1.64246352 3.003210 2.462588  2.577913 3.975101 0.9045939\n",
       "             ACF1       Theil's U\n",
       "Training set 0.04017056        NA\n",
       "Test set     0.49579241 0.2129274"
      ]
     },
     "metadata": {},
     "output_type": "display_data"
    },
    {
     "data": {
      "text/html": [
       "<table>\n",
       "<caption>A matrix: 2 × 8 of type dbl</caption>\n",
       "<thead>\n",
       "\t<tr><th></th><th scope=col>ME</th><th scope=col>RMSE</th><th scope=col>MAE</th><th scope=col>MPE</th><th scope=col>MAPE</th><th scope=col>MASE</th><th scope=col>ACF1</th><th scope=col>Theil's U</th></tr>\n",
       "</thead>\n",
       "<tbody>\n",
       "\t<tr><th scope=row>Training set</th><td>0.1272526</td><td>2.132348</td><td>1.579408</td><td>-0.2918021</td><td>4.467637</td><td>0.5801713</td><td>0.02425731</td><td>       NA</td></tr>\n",
       "\t<tr><th scope=row>Test set</th><td>1.6437781</td><td>3.385200</td><td>2.707598</td><td> 2.8155332</td><td>4.445871</td><td>0.9945943</td><td>0.43513528</td><td>0.2256156</td></tr>\n",
       "</tbody>\n",
       "</table>\n"
      ],
      "text/latex": [
       "A matrix: 2 × 8 of type dbl\n",
       "\\begin{tabular}{r|llllllll}\n",
       "  & ME & RMSE & MAE & MPE & MAPE & MASE & ACF1 & Theil's U\\\\\n",
       "\\hline\n",
       "\tTraining set & 0.1272526 & 2.132348 & 1.579408 & -0.2918021 & 4.467637 & 0.5801713 & 0.02425731 &        NA\\\\\n",
       "\tTest set & 1.6437781 & 3.385200 & 2.707598 &  2.8155332 & 4.445871 & 0.9945943 & 0.43513528 & 0.2256156\\\\\n",
       "\\end{tabular}\n"
      ],
      "text/markdown": [
       "\n",
       "A matrix: 2 × 8 of type dbl\n",
       "\n",
       "| <!--/--> | ME | RMSE | MAE | MPE | MAPE | MASE | ACF1 | Theil's U |\n",
       "|---|---|---|---|---|---|---|---|---|\n",
       "| Training set | 0.1272526 | 2.132348 | 1.579408 | -0.2918021 | 4.467637 | 0.5801713 | 0.02425731 |        NA |\n",
       "| Test set | 1.6437781 | 3.385200 | 2.707598 |  2.8155332 | 4.445871 | 0.9945943 | 0.43513528 | 0.2256156 |\n",
       "\n"
      ],
      "text/plain": [
       "             ME        RMSE     MAE      MPE        MAPE     MASE     \n",
       "Training set 0.1272526 2.132348 1.579408 -0.2918021 4.467637 0.5801713\n",
       "Test set     1.6437781 3.385200 2.707598  2.8155332 4.445871 0.9945943\n",
       "             ACF1       Theil's U\n",
       "Training set 0.02425731        NA\n",
       "Test set     0.43513528 0.2256156"
      ]
     },
     "metadata": {},
     "output_type": "display_data"
    },
    {
     "data": {
      "image/png": "[encoded data removed]",
      "text/plain": [
       "Plot with title \"Forecasts from ETS(M,A,M)\""
      ]
     },
     "metadata": {
      "image/png": {
       "height": 420,
       "width": 420
      }
     },
     "output_type": "display_data"
    }
   ],
   "source": [
    "library(forecast)\n",
    "library(fpp2)\n",
    "\n",
    "# data for hw() vs ets()\n",
    "austourists_train_data <- window(austourists, start=c(2000,1), end=c(2013,4))\n",
    "austourists_test_data <- window(austourists, start=c(2014,1), end=c(2015,4))\n",
    "\n",
    "# fit hw_additive\n",
    "fit_hw_austourist_1 <- hw(austourists_train_data, seasonal=\"additive\")\n",
    "summary(fit_hw_austourist_1)\n",
    "\n",
    "# fit hw_multiplicative\n",
    "fit_hw_austourist_2 <- hw(austourists_train_data, seasonal=\"multiplicative\")\n",
    "summary(fit_hw_austourist_2)\n",
    "\n",
    "# forecast hw_additive\n",
    "fore_hw_austourist_1 <- forecast(fit_hw_austourist_1)\n",
    "plot(fore_hw_austourist_1)\n",
    "lines(fitted(fit_hw_austourist_1), type=\"o\", col=\"red\")\n",
    "lines(austourists_test_data, col = \"red\", type = \"l\")\n",
    "\n",
    "# forecast hw_additive\n",
    "fore_hw_austourist_2 <- forecast(fit_hw_austourist_2)\n",
    "plot(fore_hw_austourist_2)\n",
    "lines(fitted(fit_hw_austourist_2), type=\"o\", col=\"red\")\n",
    "lines(austourists_test_data, col = \"red\", type = \"l\")\n",
    "\n",
    "# fit ets_aaa\n",
    "fit_ets_austourist_1 <- ets(austourists_train_data)\n",
    "summary(fit_ets_austourist_1)\n",
    "\n",
    "# forecast ets_aaa\n",
    "fore_ets_austourist_1 <- forecast(fit_ets_austourist_1)\n",
    "plot(fore_ets_austourist_1)\n",
    "lines(fitted(fit_ets_austourist_1), type=\"o\", col=\"red\")\n",
    "lines(simulate(fit_ets_austourist_1, 8), col=\"red\") # 한번 simulate\n",
    "\n",
    "\n",
    "# fit ets_mam\n",
    "fit_ets_austourist_2 <- ets(austourists_train_data, model=\"MAM\")\n",
    "summary(fit_ets_austourist_2)\n",
    "\n",
    "# forecast ets_aaa\n",
    "fore_ets_austourist_2 <- forecast(fit_ets_austourist_2)\n",
    "plot(fore_ets_austourist_2)\n",
    "lines(fitted(fit_ets_austourist_2), type=\"o\", col=\"red\")\n",
    "lines(austourists_test_data, col = \"red\", type = \"l\")\n",
    "#lines(simulate(fit_ets_austourist_2, 8), col=\"red\") # 한번 simulate\n",
    "\n",
    "\n",
    "# 평가\n",
    "accuracy(fore_hw_austourist_1,austourists_test_data)\n",
    "accuracy(fore_hw_austourist_2,austourists_test_data)\n",
    "accuracy(fore_ets_austourist_1,austourists_test_data)\n",
    "accuracy(fore_ets_austourist_2,austourists_test_data)"
   ]
  },
  {
   "cell_type": "markdown",
   "metadata": {},
   "source": [
    "이번엔 홀트의 계절지수 평활과 ets 두 메소드 간의 비교 실습입니다.<br/>\n",
    "마찬가지의 이유로 ETS의 인수를 ZZZ로 두었습니다.<br/>\n",
    "\n",
    "window()함수를 이용해서 원하는 구간인 2000년\\~2014년까지는 train 데이터로 두어 적합시키도록 합니다.<br/>\n",
    "그리고 2015년\\~는 test 데이터로 둡니다.<br/>\n",
    "\n",
    "마찬가지로 앞전 실습에서 이 모형들에 대한 설명은 여러 차례 되었기 때문에 생략하며, 승법모형과 가법모형을 모두 적합시켜 비교해보겠습니다.<br/>\n",
    "\n",
    "어떤 모형으로든 적합시키기 이전에 원본 데이터를 가장 먼저 찍어보았습니다.<br/>\n",
    "\n",
    "적합된 홀트 계절지수평활 모형(가법메소드)을 요약해보았습니다. 이 모형의 적합 시 RMSE 값은 2.248029으로 확인되었습니다.<br/>\n",
    "\n",
    "그 다음 적합된 홀트 계절지수평활 모형(승법메소드) 역시 요약해보았습니다. 적합 시 RMSE값은 2.145898로 확인되었습니다.<br/>\n",
    "\n",
    "이후 ETS 모형으로 적합시키는데, 위에서 설명했듯이 최적값을 자동으로 찾도록 호출하였지요.<br/>\n",
    "신기하게도 이번에는 데이터 관측 구간이 달라져서 MAM이아닌 AAA가 최적의 모형이라고 나왔네요.<br/>\n",
    "정확한 평가를 위하여 MAM 모형으로 한 번 더 테스트를 진행하도록 합니다.<br/>\n",
    "AAA는 홀트 계절지수 모형(additive)에 에러텀도 additive로 추가한 모형이며, MAM은 홀트 계절지수 모형에 에러텀만 multiplicative하게 설정된 모형으로 적합시킨 것입니다!<br/>\n",
    "\n",
    "ETS(AAA) 모형의 적합 시 RMSE값은 2.248029입니다.<br/>\n",
    "또한 ETS(MAM) 모형의 적합 시 RMSE값은 2.132348입니다.<br/>\n",
    "적합 시 RMSE값만 보아서는 ETS(MAM)이 가장 좋은 모형같아 보입니다.<br/>\n",
    "\n",
    "테스트 시에는 어떤지도 확인해보겠습니다.<br/>\n",
    "테스트 시 홀트 계절지수평활 모형(가법메소드)의 RMSE는 3.003009이며, 홀트 계절지수평활 모형(승법메소드)의 RMSE값은 3.251422로 확인되었습니다.<br/>\n",
    "ETS(AAA) 모형의 테스트 시 RMSE값은 3.003210으로 확인되었으며, ETS(MAM)의 테스트 시 RMSE값은 3.385200으로 확인되었습니다.<br/>\n",
    "\n",
    "이번에도 역시 흥미롭게도 전혀 다른 결과가 나왔는데요, 적합은 ETS(MAM)이 가장 잘 되었지만, 테스트를 보아서는 홀트 계절지수평활 모형(가법메소드)가 가장 오차가 적네요.<br/>\n",
    "보통 성능이 좋은 모형이라함은 일반화(generalization)이 잘 되어있는 모형을 말하는데, 여기서 그 기준은 학습 시와 테스트 시의 RMSE값의 차이가 적은 경우에 해당합니다.<br/>\n",
    "고로 일반화가 잘되어있는 성능이 좋은 모형으로 저는 test에서 좋은 점수를 받은 홀트 계절지수평활 모형(가법메소드)를 가장 적합한 모형이라고 평가하겠습니다.<br/>"
   ]
  },
  {
   "cell_type": "code",
   "execution_count": null,
   "metadata": {},
   "outputs": [],
   "source": []
  }
 ],
 "metadata": {
  "kernelspec": {
   "display_name": "R",
   "language": "R",
   "name": "ir"
  },
  "language_info": {
   "codemirror_mode": "r",
   "file_extension": ".r",
   "mimetype": "text/x-r-source",
   "name": "R",
   "pygments_lexer": "r",
   "version": "3.6.1"
  }
 },
 "nbformat": 4,
 "nbformat_minor": 4
}
