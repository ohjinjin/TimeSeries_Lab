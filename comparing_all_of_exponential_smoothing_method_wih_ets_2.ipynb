{
 "cells": [
  {
   "cell_type": "code",
   "execution_count": 1,
   "metadata": {
    "scrolled": false
   },
   "outputs": [
    {
     "name": "stderr",
     "output_type": "stream",
     "text": [
      "Warning message:\n",
      "\"package 'forecast' was built under R version 3.6.3\"\n",
      "Registered S3 methods overwritten by 'ggplot2':\n",
      "  method         from \n",
      "  [.quosures     rlang\n",
      "  c.quosures     rlang\n",
      "  print.quosures rlang\n",
      "\n",
      "Registered S3 method overwritten by 'xts':\n",
      "  method     from\n",
      "  as.zoo.xts zoo \n",
      "\n",
      "Registered S3 method overwritten by 'quantmod':\n",
      "  method            from\n",
      "  as.zoo.data.frame zoo \n",
      "\n",
      "Warning message:\n",
      "\"package 'fpp2' was built under R version 3.6.3\"\n",
      "Loading required package: ggplot2\n",
      "\n",
      "Loading required package: fma\n",
      "\n",
      "Warning message:\n",
      "\"package 'fma' was built under R version 3.6.3\"\n",
      "Loading required package: expsmooth\n",
      "\n",
      "Warning message:\n",
      "\"package 'expsmooth' was built under R version 3.6.3\"\n"
     ]
    },
    {
     "name": "stdout",
     "output_type": "stream",
     "text": [
      "\n",
      "Forecast method: Simple exponential smoothing\n",
      "\n",
      "Model Information:\n",
      "Simple exponential smoothing \n",
      "\n",
      "Call:\n",
      " ses(y = oil_train_data) \n",
      "\n",
      "  Smoothing parameters:\n",
      "    alpha = 0.9999 \n",
      "\n",
      "  Initial states:\n",
      "    l = 192.1571 \n",
      "\n",
      "  sigma:  58.4811\n",
      "\n",
      "     AIC     AICc      BIC \n",
      "362.6458 363.5347 366.9478 \n",
      "\n",
      "Error measures:\n",
      "                   ME     RMSE      MAE      MPE     MAPE      MASE      ACF1\n",
      "Training set 8.513001 56.56321 42.74775 1.237038 13.11413 0.9677709 0.1888919\n",
      "\n",
      "Forecasts:\n",
      "     Point Forecast    Lo 80    Hi 80     Lo 95    Hi 95\n",
      "2001       456.0338 381.0872 530.9804 341.41282 570.6547\n",
      "2002       456.0338 350.0486 562.0190 293.94338 618.1241\n",
      "2003       456.0338 326.2311 585.8364 257.51771 654.5498\n",
      "2004       456.0338 306.1518 605.9157 226.80909 685.2584\n",
      "2005       456.0338 288.4615 623.6060 199.75407 712.3134\n",
      "2006       456.0338 272.4681 639.5994 175.29436 736.7731\n",
      "2007       456.0338 257.7607 654.3068 152.80127 759.2662\n",
      "2008       456.0338 244.0713 667.9962 131.86518 780.2023\n",
      "2009       456.0338 231.2139 680.8536 112.20153 799.8660\n",
      "2010       456.0338 219.0531 693.0144  93.60317 818.4643\n",
      "ETS(A,N,N) \n",
      "\n",
      "Call:\n",
      " ets(y = oil_train_data) \n",
      "\n",
      "  Smoothing parameters:\n",
      "    alpha = 0.9999 \n",
      "\n",
      "  Initial states:\n",
      "    l = 192.1187 \n",
      "\n",
      "  sigma:  58.4811\n",
      "\n",
      "     AIC     AICc      BIC \n",
      "362.6458 363.5347 366.9478 \n",
      "\n",
      "Training set error measures:\n",
      "                   ME     RMSE      MAE      MPE     MAPE     MASE      ACF1\n",
      "Training set 8.514241 56.56321 42.74899 1.237683 13.11478 0.967799 0.1889093\n"
     ]
    },
    {
     "data": {
      "image/png": "[encoded data removed]",
      "text/plain": [
       "Plot with title \"Forecasts from Simple exponential smoothing\""
      ]
     },
     "metadata": {
      "image/png": {
       "height": 420,
       "width": 420
      }
     },
     "output_type": "display_data"
    },
    {
     "data": {
      "text/html": [
       "<table>\n",
       "<caption>A matrix: 2 × 8 of type dbl</caption>\n",
       "<thead>\n",
       "\t<tr><th></th><th scope=col>ME</th><th scope=col>RMSE</th><th scope=col>MAE</th><th scope=col>MPE</th><th scope=col>MAPE</th><th scope=col>MASE</th><th scope=col>ACF1</th><th scope=col>Theil's U</th></tr>\n",
       "</thead>\n",
       "<tbody>\n",
       "\t<tr><th scope=row>Training set</th><td> 8.514241</td><td>56.56321</td><td>42.74899</td><td>1.237683</td><td>13.114778</td><td>0.9677990</td><td>0.1889093</td><td>     NA</td></tr>\n",
       "\t<tr><th scope=row>Test set</th><td>25.140020</td><td>39.27868</td><td>34.43733</td><td>4.836676</td><td> 6.997887</td><td>0.7796303</td><td>0.4280158</td><td>1.24966</td></tr>\n",
       "</tbody>\n",
       "</table>\n"
      ],
      "text/latex": [
       "A matrix: 2 × 8 of type dbl\n",
       "\\begin{tabular}{r|llllllll}\n",
       "  & ME & RMSE & MAE & MPE & MAPE & MASE & ACF1 & Theil's U\\\\\n",
       "\\hline\n",
       "\tTraining set &  8.514241 & 56.56321 & 42.74899 & 1.237683 & 13.114778 & 0.9677990 & 0.1889093 &      NA\\\\\n",
       "\tTest set & 25.140020 & 39.27868 & 34.43733 & 4.836676 &  6.997887 & 0.7796303 & 0.4280158 & 1.24966\\\\\n",
       "\\end{tabular}\n"
      ],
      "text/markdown": [
       "\n",
       "A matrix: 2 × 8 of type dbl\n",
       "\n",
       "| <!--/--> | ME | RMSE | MAE | MPE | MAPE | MASE | ACF1 | Theil's U |\n",
       "|---|---|---|---|---|---|---|---|---|\n",
       "| Training set |  8.514241 | 56.56321 | 42.74899 | 1.237683 | 13.114778 | 0.9677990 | 0.1889093 |      NA |\n",
       "| Test set | 25.140020 | 39.27868 | 34.43733 | 4.836676 |  6.997887 | 0.7796303 | 0.4280158 | 1.24966 |\n",
       "\n"
      ],
      "text/plain": [
       "             ME        RMSE     MAE      MPE      MAPE      MASE      ACF1     \n",
       "Training set  8.514241 56.56321 42.74899 1.237683 13.114778 0.9677990 0.1889093\n",
       "Test set     25.140020 39.27868 34.43733 4.836676  6.997887 0.7796303 0.4280158\n",
       "             Theil's U\n",
       "Training set      NA  \n",
       "Test set     1.24966  "
      ]
     },
     "metadata": {},
     "output_type": "display_data"
    },
    {
     "data": {
      "text/html": [
       "<table>\n",
       "<caption>A matrix: 2 × 8 of type dbl</caption>\n",
       "<thead>\n",
       "\t<tr><th></th><th scope=col>ME</th><th scope=col>RMSE</th><th scope=col>MAE</th><th scope=col>MPE</th><th scope=col>MAPE</th><th scope=col>MASE</th><th scope=col>ACF1</th><th scope=col>Theil's U</th></tr>\n",
       "</thead>\n",
       "<tbody>\n",
       "\t<tr><th scope=row>Training set</th><td> 8.513001</td><td>56.56321</td><td>42.74775</td><td>1.237038</td><td>13.114133</td><td>0.9677709</td><td>0.1888919</td><td>     NA</td></tr>\n",
       "\t<tr><th scope=row>Test set</th><td>25.140017</td><td>39.27867</td><td>34.43732</td><td>4.836675</td><td> 6.997886</td><td>0.7796302</td><td>0.4280158</td><td>1.24966</td></tr>\n",
       "</tbody>\n",
       "</table>\n"
      ],
      "text/latex": [
       "A matrix: 2 × 8 of type dbl\n",
       "\\begin{tabular}{r|llllllll}\n",
       "  & ME & RMSE & MAE & MPE & MAPE & MASE & ACF1 & Theil's U\\\\\n",
       "\\hline\n",
       "\tTraining set &  8.513001 & 56.56321 & 42.74775 & 1.237038 & 13.114133 & 0.9677709 & 0.1888919 &      NA\\\\\n",
       "\tTest set & 25.140017 & 39.27867 & 34.43732 & 4.836675 &  6.997886 & 0.7796302 & 0.4280158 & 1.24966\\\\\n",
       "\\end{tabular}\n"
      ],
      "text/markdown": [
       "\n",
       "A matrix: 2 × 8 of type dbl\n",
       "\n",
       "| <!--/--> | ME | RMSE | MAE | MPE | MAPE | MASE | ACF1 | Theil's U |\n",
       "|---|---|---|---|---|---|---|---|---|\n",
       "| Training set |  8.513001 | 56.56321 | 42.74775 | 1.237038 | 13.114133 | 0.9677709 | 0.1888919 |      NA |\n",
       "| Test set | 25.140017 | 39.27867 | 34.43732 | 4.836675 |  6.997886 | 0.7796302 | 0.4280158 | 1.24966 |\n",
       "\n"
      ],
      "text/plain": [
       "             ME        RMSE     MAE      MPE      MAPE      MASE      ACF1     \n",
       "Training set  8.513001 56.56321 42.74775 1.237038 13.114133 0.9677709 0.1888919\n",
       "Test set     25.140017 39.27867 34.43732 4.836675  6.997886 0.7796302 0.4280158\n",
       "             Theil's U\n",
       "Training set      NA  \n",
       "Test set     1.24966  "
      ]
     },
     "metadata": {},
     "output_type": "display_data"
    },
    {
     "data": {
      "image/png": "[encoded data removed]",
      "text/plain": [
       "Plot with title \"Forecasts from ETS(A,N,N)\""
      ]
     },
     "metadata": {
      "image/png": {
       "height": 420,
       "width": 420
      }
     },
     "output_type": "display_data"
    }
   ],
   "source": [
    "library(forecast)\n",
    "library(fpp2)\n",
    "\n",
    "\n",
    "# data for ses() vs ets()\n",
    "oil_train_data <- window(oil, start=1970, end=2000)\n",
    "oil_test_data <- window(oil, start=2001, end=2013)\n",
    "\n",
    "# fit ses\n",
    "fit_ses_oil <- ses(oil_train_data)\n",
    "summary(fit_ses_oil)\n",
    "\n",
    "# forecast ses\n",
    "fore_ses_oil <- forecast(fit_ses_oil)\n",
    "plot(fore_ses_oil)\n",
    "lines(fitted(fit_ses_oil), type=\"o\", col=\"red\")\n",
    "\n",
    "# fit ets\n",
    "fit_ets_oil <- ets(oil_train_data)\n",
    "summary(fit_ets_oil)\n",
    "\n",
    "# forecast ets\n",
    "fore_ets_oil <- forecast(fit_ets_oil)\n",
    "plot(fore_ets_oil)\n",
    "lines(fitted(fit_ets_oil), type=\"o\", col=\"red\")\n",
    "\n",
    "\n",
    "# 평가\n",
    "accuracy(fore_ets_oil,oil_test_data)\n",
    "accuracy(fore_ses_oil,oil_test_data)"
   ]
  },
  {
   "cell_type": "code",
   "execution_count": 2,
   "metadata": {
    "scrolled": false
   },
   "outputs": [
    {
     "name": "stdout",
     "output_type": "stream",
     "text": [
      "\n",
      "Forecast method: Holt's method\n",
      "\n",
      "Model Information:\n",
      "Holt's method \n",
      "\n",
      "Call:\n",
      " holt(y = ausair_train_data) \n",
      "\n",
      "  Smoothing parameters:\n",
      "    alpha = 0.9999 \n",
      "    beta  = 1e-04 \n",
      "\n",
      "  Initial states:\n",
      "    l = 9.9867 \n",
      "    b = 1.1251 \n",
      "\n",
      "  sigma:  1.736\n",
      "\n",
      "     AIC     AICc      BIC \n",
      "146.3696 148.7696 153.5396 \n",
      "\n",
      "Error measures:\n",
      "                       ME     RMSE      MAE       MPE     MAPE      MASE\n",
      "Training set -0.006195664 1.620146 1.118594 -1.591612 5.584888 0.7440821\n",
      "                  ACF1\n",
      "Training set 0.0473453\n",
      "\n",
      "Forecasts:\n",
      "     Point Forecast    Lo 80    Hi 80    Lo 95    Hi 95\n",
      "2006       45.78222 43.55743 48.00702 42.37970 49.18475\n",
      "2007       46.90732 43.76099 50.05365 42.09542 51.71921\n",
      "2008       48.03241 44.17883 51.88599 42.13887 53.92595\n",
      "2009       49.15751 44.70759 53.60742 42.35195 55.96306\n",
      "2010       50.28260 45.30722 55.25798 42.67341 57.89179\n",
      "2011       51.40769 45.95718 56.85820 43.07186 59.74353\n",
      "2012       52.53279 46.64528 58.42029 43.52863 61.53695\n",
      "2013       53.65788 47.36357 59.95219 44.03157 63.28420\n",
      "2014       54.78298 48.10653 61.45943 44.57223 64.99372\n",
      "2015       55.90807 48.87013 62.94601 45.14447 66.67167\n",
      "\n",
      "Forecast method: Damped Holt's method\n",
      "\n",
      "Model Information:\n",
      "Damped Holt's method \n",
      "\n",
      "Call:\n",
      " holt(y = ausair_train_data, damped = TRUE) \n",
      "\n",
      "  Smoothing parameters:\n",
      "    alpha = 0.9863 \n",
      "    beta  = 0.1254 \n",
      "    phi   = 0.98 \n",
      "\n",
      "  Initial states:\n",
      "    l = 10.2353 \n",
      "    b = 0.5645 \n",
      "\n",
      "  sigma:  1.8184\n",
      "\n",
      "     AIC     AICc      BIC \n",
      "150.0755 153.5755 158.6794 \n",
      "\n",
      "Error measures:\n",
      "                    ME     RMSE      MAE      MPE     MAPE      MASE\n",
      "Training set 0.3733363 1.665342 1.163677 1.075389 5.557124 0.7740711\n",
      "                    ACF1\n",
      "Training set -0.04098742\n",
      "\n",
      "Forecasts:\n",
      "     Point Forecast    Lo 80    Hi 80    Lo 95    Hi 95\n",
      "2006       46.14912 43.81870 48.47953 42.58505 49.71318\n",
      "2007       47.63413 44.15399 51.11427 42.31171 52.95654\n",
      "2008       49.08944 44.58156 53.59731 42.19524 55.98363\n",
      "2009       50.51564 45.02185 56.00943 42.11362 58.91766\n",
      "2010       51.91332 45.44746 58.37918 42.02464 61.80200\n",
      "2011       53.28305 45.84642 60.71967 41.90971 64.65639\n",
      "2012       54.62538 46.21301 63.03774 41.75978 67.49098\n",
      "2013       55.94086 46.54452 65.33721 41.57040 70.31133\n",
      "2014       57.23004 46.83979 67.62028 41.33953 73.12055\n",
      "2015       58.49343 47.09858 69.88828 41.06651 75.92035\n"
     ]
    },
    {
     "data": {
      "image/png": "[encoded data removed]",
      "text/plain": [
       "Plot with title \"Forecasts from Holt's method\""
      ]
     },
     "metadata": {
      "image/png": {
       "height": 420,
       "width": 420
      }
     },
     "output_type": "display_data"
    },
    {
     "name": "stdout",
     "output_type": "stream",
     "text": [
      "ETS(M,A,N) \n",
      "\n",
      "Call:\n",
      " ets(y = ausair_train_data) \n",
      "\n",
      "  Smoothing parameters:\n",
      "    alpha = 0.9433 \n",
      "    beta  = 1e-04 \n",
      "\n",
      "  Initial states:\n",
      "    l = 10.097 \n",
      "    b = 0.7781 \n",
      "\n",
      "  sigma:  0.0812\n",
      "\n",
      "     AIC     AICc      BIC \n",
      "143.5966 145.9966 150.7666 \n",
      "\n",
      "Training set error measures:\n",
      "                    ME     RMSE      MAE       MPE     MAPE      MASE\n",
      "Training set 0.3526798 1.664772 1.147784 0.2435318 5.407749 0.7634988\n",
      "                   ACF1\n",
      "Training set 0.09926494\n"
     ]
    },
    {
     "data": {
      "image/png": "[encoded data removed]",
      "text/plain": [
       "Plot with title \"Forecasts from Damped Holt's method\""
      ]
     },
     "metadata": {
      "image/png": {
       "height": 420,
       "width": 420
      }
     },
     "output_type": "display_data"
    },
    {
     "data": {
      "text/html": [
       "<table>\n",
       "<caption>A matrix: 2 × 8 of type dbl</caption>\n",
       "<thead>\n",
       "\t<tr><th></th><th scope=col>ME</th><th scope=col>RMSE</th><th scope=col>MAE</th><th scope=col>MPE</th><th scope=col>MAPE</th><th scope=col>MASE</th><th scope=col>ACF1</th><th scope=col>Theil's U</th></tr>\n",
       "</thead>\n",
       "<tbody>\n",
       "\t<tr><th scope=row>Training set</th><td> 0.3526798</td><td> 1.664772</td><td> 1.147784</td><td> 0.2435318</td><td> 5.407749</td><td>0.7634988</td><td>0.09926494</td><td>     NA</td></tr>\n",
       "\t<tr><th scope=row>Test set</th><td>10.5505752</td><td>12.401981</td><td>10.550575</td><td>16.4740364</td><td>16.474036</td><td>7.0181795</td><td>0.71169850</td><td>2.63408</td></tr>\n",
       "</tbody>\n",
       "</table>\n"
      ],
      "text/latex": [
       "A matrix: 2 × 8 of type dbl\n",
       "\\begin{tabular}{r|llllllll}\n",
       "  & ME & RMSE & MAE & MPE & MAPE & MASE & ACF1 & Theil's U\\\\\n",
       "\\hline\n",
       "\tTraining set &  0.3526798 &  1.664772 &  1.147784 &  0.2435318 &  5.407749 & 0.7634988 & 0.09926494 &      NA\\\\\n",
       "\tTest set & 10.5505752 & 12.401981 & 10.550575 & 16.4740364 & 16.474036 & 7.0181795 & 0.71169850 & 2.63408\\\\\n",
       "\\end{tabular}\n"
      ],
      "text/markdown": [
       "\n",
       "A matrix: 2 × 8 of type dbl\n",
       "\n",
       "| <!--/--> | ME | RMSE | MAE | MPE | MAPE | MASE | ACF1 | Theil's U |\n",
       "|---|---|---|---|---|---|---|---|---|\n",
       "| Training set |  0.3526798 |  1.664772 |  1.147784 |  0.2435318 |  5.407749 | 0.7634988 | 0.09926494 |      NA |\n",
       "| Test set | 10.5505752 | 12.401981 | 10.550575 | 16.4740364 | 16.474036 | 7.0181795 | 0.71169850 | 2.63408 |\n",
       "\n"
      ],
      "text/plain": [
       "             ME         RMSE      MAE       MPE        MAPE      MASE     \n",
       "Training set  0.3526798  1.664772  1.147784  0.2435318  5.407749 0.7634988\n",
       "Test set     10.5505752 12.401981 10.550575 16.4740364 16.474036 7.0181795\n",
       "             ACF1       Theil's U\n",
       "Training set 0.09926494      NA  \n",
       "Test set     0.71169850 2.63408  "
      ]
     },
     "metadata": {},
     "output_type": "display_data"
    },
    {
     "data": {
      "text/html": [
       "<table>\n",
       "<caption>A matrix: 2 × 8 of type dbl</caption>\n",
       "<thead>\n",
       "\t<tr><th></th><th scope=col>ME</th><th scope=col>RMSE</th><th scope=col>MAE</th><th scope=col>MPE</th><th scope=col>MAPE</th><th scope=col>MASE</th><th scope=col>ACF1</th><th scope=col>Theil's U</th></tr>\n",
       "</thead>\n",
       "<tbody>\n",
       "\t<tr><th scope=row>Training set</th><td>-0.006195664</td><td> 1.620146</td><td>1.118594</td><td>-1.591612</td><td> 5.584888</td><td>0.7440821</td><td>0.0473453</td><td>      NA</td></tr>\n",
       "\t<tr><th scope=row>Test set</th><td> 8.520156928</td><td>10.199976</td><td>8.520157</td><td>13.223788</td><td>13.223788</td><td>5.6675574</td><td>0.6966815</td><td>2.169414</td></tr>\n",
       "</tbody>\n",
       "</table>\n"
      ],
      "text/latex": [
       "A matrix: 2 × 8 of type dbl\n",
       "\\begin{tabular}{r|llllllll}\n",
       "  & ME & RMSE & MAE & MPE & MAPE & MASE & ACF1 & Theil's U\\\\\n",
       "\\hline\n",
       "\tTraining set & -0.006195664 &  1.620146 & 1.118594 & -1.591612 &  5.584888 & 0.7440821 & 0.0473453 &       NA\\\\\n",
       "\tTest set &  8.520156928 & 10.199976 & 8.520157 & 13.223788 & 13.223788 & 5.6675574 & 0.6966815 & 2.169414\\\\\n",
       "\\end{tabular}\n"
      ],
      "text/markdown": [
       "\n",
       "A matrix: 2 × 8 of type dbl\n",
       "\n",
       "| <!--/--> | ME | RMSE | MAE | MPE | MAPE | MASE | ACF1 | Theil's U |\n",
       "|---|---|---|---|---|---|---|---|---|\n",
       "| Training set | -0.006195664 |  1.620146 | 1.118594 | -1.591612 |  5.584888 | 0.7440821 | 0.0473453 |       NA |\n",
       "| Test set |  8.520156928 | 10.199976 | 8.520157 | 13.223788 | 13.223788 | 5.6675574 | 0.6966815 | 2.169414 |\n",
       "\n"
      ],
      "text/plain": [
       "             ME           RMSE      MAE      MPE       MAPE      MASE     \n",
       "Training set -0.006195664  1.620146 1.118594 -1.591612  5.584888 0.7440821\n",
       "Test set      8.520156928 10.199976 8.520157 13.223788 13.223788 5.6675574\n",
       "             ACF1      Theil's U\n",
       "Training set 0.0473453       NA \n",
       "Test set     0.6966815 2.169414 "
      ]
     },
     "metadata": {},
     "output_type": "display_data"
    },
    {
     "data": {
      "text/html": [
       "<table>\n",
       "<caption>A matrix: 2 × 8 of type dbl</caption>\n",
       "<thead>\n",
       "\t<tr><th></th><th scope=col>ME</th><th scope=col>RMSE</th><th scope=col>MAE</th><th scope=col>MPE</th><th scope=col>MAPE</th><th scope=col>MASE</th><th scope=col>ACF1</th><th scope=col>Theil's U</th></tr>\n",
       "</thead>\n",
       "<tbody>\n",
       "\t<tr><th scope=row>Training set</th><td>0.3733363</td><td>1.665342</td><td>1.163677</td><td> 1.075389</td><td> 5.557124</td><td>0.7740711</td><td>-0.04098742</td><td>      NA</td></tr>\n",
       "\t<tr><th scope=row>Test set</th><td>6.8778642</td><td>8.481858</td><td>6.975599</td><td>10.574985</td><td>10.770349</td><td>4.6401267</td><td> 0.67883776</td><td>1.803973</td></tr>\n",
       "</tbody>\n",
       "</table>\n"
      ],
      "text/latex": [
       "A matrix: 2 × 8 of type dbl\n",
       "\\begin{tabular}{r|llllllll}\n",
       "  & ME & RMSE & MAE & MPE & MAPE & MASE & ACF1 & Theil's U\\\\\n",
       "\\hline\n",
       "\tTraining set & 0.3733363 & 1.665342 & 1.163677 &  1.075389 &  5.557124 & 0.7740711 & -0.04098742 &       NA\\\\\n",
       "\tTest set & 6.8778642 & 8.481858 & 6.975599 & 10.574985 & 10.770349 & 4.6401267 &  0.67883776 & 1.803973\\\\\n",
       "\\end{tabular}\n"
      ],
      "text/markdown": [
       "\n",
       "A matrix: 2 × 8 of type dbl\n",
       "\n",
       "| <!--/--> | ME | RMSE | MAE | MPE | MAPE | MASE | ACF1 | Theil's U |\n",
       "|---|---|---|---|---|---|---|---|---|\n",
       "| Training set | 0.3733363 | 1.665342 | 1.163677 |  1.075389 |  5.557124 | 0.7740711 | -0.04098742 |       NA |\n",
       "| Test set | 6.8778642 | 8.481858 | 6.975599 | 10.574985 | 10.770349 | 4.6401267 |  0.67883776 | 1.803973 |\n",
       "\n"
      ],
      "text/plain": [
       "             ME        RMSE     MAE      MPE       MAPE      MASE     \n",
       "Training set 0.3733363 1.665342 1.163677  1.075389  5.557124 0.7740711\n",
       "Test set     6.8778642 8.481858 6.975599 10.574985 10.770349 4.6401267\n",
       "             ACF1        Theil's U\n",
       "Training set -0.04098742       NA \n",
       "Test set      0.67883776 1.803973 "
      ]
     },
     "metadata": {},
     "output_type": "display_data"
    },
    {
     "data": {
      "image/png": "[encoded data removed]",
      "text/plain": [
       "Plot with title \"Forecasts from ETS(M,A,N)\""
      ]
     },
     "metadata": {
      "image/png": {
       "height": 420,
       "width": 420
      }
     },
     "output_type": "display_data"
    }
   ],
   "source": [
    "library(forecast)\n",
    "library(fpp2)\n",
    "\n",
    "\n",
    "# data for holt() vs ets()\n",
    "ausair_train_data <- window(ausair, start=1975, end=2005)\n",
    "ausair_test_data <- window(ausair, start=2006, end=2016)\n",
    "\n",
    "# fit holt_no damped\n",
    "fit_holt_ausair_1 <- holt(ausair_train_data)\n",
    "summary(fit_holt_ausair_1)\n",
    "\n",
    "# fit holt_damped\n",
    "fit_holt_ausair_2 <- holt(ausair_train_data, damped=TRUE)\n",
    "summary(fit_holt_ausair_2)\n",
    "\n",
    "# forecast holt_no damped\n",
    "fore_holt_ausair_1 <- forecast(fit_holt_ausair_1)\n",
    "plot(fore_holt_ausair_1)\n",
    "lines(fitted(fit_holt_ausair_1), type=\"o\", col=\"red\")\n",
    "\n",
    "# forecast holt_damped\n",
    "fore_holt_ausair_2 <- forecast(fit_holt_ausair_2)\n",
    "plot(fore_holt_ausair_2)\n",
    "lines(fitted(fit_holt_ausair_2), type=\"o\", col=\"red\")\n",
    "\n",
    "# fit ets\n",
    "fit_ets_ausair <- ets(ausair_train_data)\n",
    "summary(fit_ets_ausair)\n",
    "\n",
    "# forecast ets\n",
    "fore_ets_ausair <- forecast(fit_ets_ausair)\n",
    "plot(fore_ets_ausair)\n",
    "lines(fitted(fit_ets_ausair), type=\"o\", col=\"red\")\n",
    "\n",
    "\n",
    "# 평가\n",
    "accuracy(fore_ets_ausair,ausair_test_data)\n",
    "accuracy(fore_holt_ausair_1,ausair_test_data)\n",
    "accuracy(fore_holt_ausair_2,ausair_test_data)"
   ]
  },
  {
   "cell_type": "code",
   "execution_count": 3,
   "metadata": {
    "scrolled": false
   },
   "outputs": [
    {
     "name": "stdout",
     "output_type": "stream",
     "text": [
      "\n",
      "Forecast method: Holt-Winters' additive method\n",
      "\n",
      "Model Information:\n",
      "Holt-Winters' additive method \n",
      "\n",
      "Call:\n",
      " hw(y = austourists_train_data, seasonal = \"additive\") \n",
      "\n",
      "  Smoothing parameters:\n",
      "    alpha = 0.2506 \n",
      "    beta  = 1e-04 \n",
      "    gamma = 0.4321 \n",
      "\n",
      "  Initial states:\n",
      "    l = 27.5704 \n",
      "    b = 0.4855 \n",
      "    s = 2.0887 -0.6846 -6.4459 5.0418\n",
      "\n",
      "  sigma:  2.4281\n",
      "\n",
      "     AIC     AICc      BIC \n",
      "334.1457 338.0587 352.3739 \n",
      "\n",
      "Error measures:\n",
      "                     ME     RMSE      MAE        MPE     MAPE      MASE\n",
      "Training set 0.01600417 2.248029 1.694974 -0.7700315 4.824783 0.6226225\n",
      "                   ACF1\n",
      "Training set 0.04017263\n",
      "\n",
      "Forecasts:\n",
      "        Point Forecast    Lo 80    Hi 80    Lo 95    Hi 95\n",
      "2014 Q1       67.71910 64.60730 70.83089 62.96001 72.47818\n",
      "2014 Q2       43.71151 40.50337 46.91964 38.80509 48.61792\n",
      "2014 Q3       54.92372 51.62199 58.22545 49.87416 59.97329\n",
      "2014 Q4       58.69967 55.30685 62.09250 53.51080 63.88855\n",
      "2015 Q1       69.66141 65.65756 73.66526 63.53805 75.78477\n",
      "2015 Q2       45.65382 41.57441 49.73323 39.41490 51.89274\n",
      "2015 Q3       56.86603 52.71237 61.01969 50.51356 63.21850\n",
      "2015 Q4       60.64198 56.41533 64.86864 54.17787 67.10610\n",
      "\n",
      "Forecast method: Holt-Winters' multiplicative method\n",
      "\n",
      "Model Information:\n",
      "Holt-Winters' multiplicative method \n",
      "\n",
      "Call:\n",
      " hw(y = austourists_train_data, seasonal = \"multiplicative\") \n",
      "\n",
      "  Smoothing parameters:\n",
      "    alpha = 0.247 \n",
      "    beta  = 1e-04 \n",
      "    gamma = 0.2752 \n",
      "\n",
      "  Initial states:\n",
      "    l = 29.2347 \n",
      "    b = 0.4921 \n",
      "    s = 1.047 0.9652 0.7978 1.19\n",
      "\n",
      "  sigma:  0.0666\n",
      "\n",
      "     AIC     AICc      BIC \n",
      "339.6269 343.5400 357.8551 \n",
      "\n",
      "Error measures:\n",
      "                      ME     RMSE      MAE        MPE    MAPE      MASE\n",
      "Training set -0.04120561 2.145898 1.551358 -0.8266727 4.44042 0.5698674\n",
      "                  ACF1\n",
      "Training set 0.1093837\n",
      "\n",
      "Forecasts:\n",
      "        Point Forecast    Lo 80    Hi 80    Lo 95    Hi 95\n",
      "2014 Q1       69.42268 63.49483 75.35054 60.35681 78.48856\n",
      "2014 Q2       42.95056 39.17419 46.72692 37.17510 48.72601\n",
      "2014 Q3       54.63372 49.69759 59.56986 47.08456 62.18289\n",
      "2014 Q4       58.41868 53.00468 63.83269 50.13868 66.69869\n",
      "2015 Q1       71.86556 64.49213 79.23899 60.58887 83.14225\n",
      "2015 Q2       44.44897 39.79975 49.09818 37.33860 51.55933\n",
      "2015 Q3       56.52352 50.50224 62.54481 47.31476 65.73229\n",
      "2015 Q4       60.42238 53.87284 66.97193 50.40572 70.43904\n"
     ]
    },
    {
     "data": {
      "image/png": "[encoded data removed]",
      "text/plain": [
       "Plot with title \"Forecasts from Holt-Winters' additive method\""
      ]
     },
     "metadata": {
      "image/png": {
       "height": 420,
       "width": 420
      }
     },
     "output_type": "display_data"
    },
    {
     "name": "stdout",
     "output_type": "stream",
     "text": [
      "ETS(A,A,A) \n",
      "\n",
      "Call:\n",
      " ets(y = austourists_train_data) \n",
      "\n",
      "  Smoothing parameters:\n",
      "    alpha = 0.2506 \n",
      "    beta  = 1e-04 \n",
      "    gamma = 0.4321 \n",
      "\n",
      "  Initial states:\n",
      "    l = 27.5703 \n",
      "    b = 0.4854 \n",
      "    s = 2.0887 -0.6848 -6.4457 5.0418\n",
      "\n",
      "  sigma:  2.4281\n",
      "\n",
      "     AIC     AICc      BIC \n",
      "334.1457 338.0587 352.3739 \n",
      "\n",
      "Training set error measures:\n",
      "                     ME     RMSE      MAE       MPE     MAPE      MASE\n",
      "Training set 0.01611745 2.248029 1.694969 -0.769732 4.824727 0.6226207\n",
      "                   ACF1\n",
      "Training set 0.04017056\n"
     ]
    },
    {
     "data": {
      "image/png": "[encoded data removed]",
      "text/plain": [
       "Plot with title \"Forecasts from Holt-Winters' multiplicative method\""
      ]
     },
     "metadata": {
      "image/png": {
       "height": 420,
       "width": 420
      }
     },
     "output_type": "display_data"
    },
    {
     "data": {
      "text/html": [
       "<table>\n",
       "<caption>A matrix: 2 × 8 of type dbl</caption>\n",
       "<thead>\n",
       "\t<tr><th></th><th scope=col>ME</th><th scope=col>RMSE</th><th scope=col>MAE</th><th scope=col>MPE</th><th scope=col>MAPE</th><th scope=col>MASE</th><th scope=col>ACF1</th><th scope=col>Theil's U</th></tr>\n",
       "</thead>\n",
       "<tbody>\n",
       "\t<tr><th scope=row>Training set</th><td>0.01611745</td><td>2.248029</td><td>1.694969</td><td>-0.769732</td><td>4.824727</td><td>0.6226207</td><td>0.04017056</td><td>       NA</td></tr>\n",
       "\t<tr><th scope=row>Test set</th><td>1.64246352</td><td>3.003210</td><td>2.462588</td><td> 2.577913</td><td>3.975101</td><td>0.9045939</td><td>0.49579241</td><td>0.2129274</td></tr>\n",
       "</tbody>\n",
       "</table>\n"
      ],
      "text/latex": [
       "A matrix: 2 × 8 of type dbl\n",
       "\\begin{tabular}{r|llllllll}\n",
       "  & ME & RMSE & MAE & MPE & MAPE & MASE & ACF1 & Theil's U\\\\\n",
       "\\hline\n",
       "\tTraining set & 0.01611745 & 2.248029 & 1.694969 & -0.769732 & 4.824727 & 0.6226207 & 0.04017056 &        NA\\\\\n",
       "\tTest set & 1.64246352 & 3.003210 & 2.462588 &  2.577913 & 3.975101 & 0.9045939 & 0.49579241 & 0.2129274\\\\\n",
       "\\end{tabular}\n"
      ],
      "text/markdown": [
       "\n",
       "A matrix: 2 × 8 of type dbl\n",
       "\n",
       "| <!--/--> | ME | RMSE | MAE | MPE | MAPE | MASE | ACF1 | Theil's U |\n",
       "|---|---|---|---|---|---|---|---|---|\n",
       "| Training set | 0.01611745 | 2.248029 | 1.694969 | -0.769732 | 4.824727 | 0.6226207 | 0.04017056 |        NA |\n",
       "| Test set | 1.64246352 | 3.003210 | 2.462588 |  2.577913 | 3.975101 | 0.9045939 | 0.49579241 | 0.2129274 |\n",
       "\n"
      ],
      "text/plain": [
       "             ME         RMSE     MAE      MPE       MAPE     MASE     \n",
       "Training set 0.01611745 2.248029 1.694969 -0.769732 4.824727 0.6226207\n",
       "Test set     1.64246352 3.003210 2.462588  2.577913 3.975101 0.9045939\n",
       "             ACF1       Theil's U\n",
       "Training set 0.04017056        NA\n",
       "Test set     0.49579241 0.2129274"
      ]
     },
     "metadata": {},
     "output_type": "display_data"
    },
    {
     "data": {
      "text/html": [
       "<table>\n",
       "<caption>A matrix: 2 × 8 of type dbl</caption>\n",
       "<thead>\n",
       "\t<tr><th></th><th scope=col>ME</th><th scope=col>RMSE</th><th scope=col>MAE</th><th scope=col>MPE</th><th scope=col>MAPE</th><th scope=col>MASE</th><th scope=col>ACF1</th><th scope=col>Theil's U</th></tr>\n",
       "</thead>\n",
       "<tbody>\n",
       "\t<tr><th scope=row>Training set</th><td>0.01600417</td><td>2.248029</td><td>1.694974</td><td>-0.7700315</td><td>4.824783</td><td>0.6226225</td><td>0.04017263</td><td>       NA</td></tr>\n",
       "\t<tr><th scope=row>Test set</th><td>1.64223167</td><td>3.003009</td><td>2.462454</td><td> 2.5775210</td><td>3.974891</td><td>0.9045444</td><td>0.49578563</td><td>0.2129111</td></tr>\n",
       "</tbody>\n",
       "</table>\n"
      ],
      "text/latex": [
       "A matrix: 2 × 8 of type dbl\n",
       "\\begin{tabular}{r|llllllll}\n",
       "  & ME & RMSE & MAE & MPE & MAPE & MASE & ACF1 & Theil's U\\\\\n",
       "\\hline\n",
       "\tTraining set & 0.01600417 & 2.248029 & 1.694974 & -0.7700315 & 4.824783 & 0.6226225 & 0.04017263 &        NA\\\\\n",
       "\tTest set & 1.64223167 & 3.003009 & 2.462454 &  2.5775210 & 3.974891 & 0.9045444 & 0.49578563 & 0.2129111\\\\\n",
       "\\end{tabular}\n"
      ],
      "text/markdown": [
       "\n",
       "A matrix: 2 × 8 of type dbl\n",
       "\n",
       "| <!--/--> | ME | RMSE | MAE | MPE | MAPE | MASE | ACF1 | Theil's U |\n",
       "|---|---|---|---|---|---|---|---|---|\n",
       "| Training set | 0.01600417 | 2.248029 | 1.694974 | -0.7700315 | 4.824783 | 0.6226225 | 0.04017263 |        NA |\n",
       "| Test set | 1.64223167 | 3.003009 | 2.462454 |  2.5775210 | 3.974891 | 0.9045444 | 0.49578563 | 0.2129111 |\n",
       "\n"
      ],
      "text/plain": [
       "             ME         RMSE     MAE      MPE        MAPE     MASE     \n",
       "Training set 0.01600417 2.248029 1.694974 -0.7700315 4.824783 0.6226225\n",
       "Test set     1.64223167 3.003009 2.462454  2.5775210 3.974891 0.9045444\n",
       "             ACF1       Theil's U\n",
       "Training set 0.04017263        NA\n",
       "Test set     0.49578563 0.2129111"
      ]
     },
     "metadata": {},
     "output_type": "display_data"
    },
    {
     "data": {
      "text/html": [
       "<table>\n",
       "<caption>A matrix: 2 × 8 of type dbl</caption>\n",
       "<thead>\n",
       "\t<tr><th></th><th scope=col>ME</th><th scope=col>RMSE</th><th scope=col>MAE</th><th scope=col>MPE</th><th scope=col>MAPE</th><th scope=col>MASE</th><th scope=col>ACF1</th><th scope=col>Theil's U</th></tr>\n",
       "</thead>\n",
       "<tbody>\n",
       "\t<tr><th scope=row>Training set</th><td>-0.04120561</td><td>2.145898</td><td>1.551358</td><td>-0.8266727</td><td>4.440420</td><td>0.5698674</td><td>0.1093837</td><td>       NA</td></tr>\n",
       "\t<tr><th scope=row>Test set</th><td> 1.54112579</td><td>3.251422</td><td>2.583929</td><td> 2.6482491</td><td>4.246379</td><td>0.9491665</td><td>0.4227807</td><td>0.2140933</td></tr>\n",
       "</tbody>\n",
       "</table>\n"
      ],
      "text/latex": [
       "A matrix: 2 × 8 of type dbl\n",
       "\\begin{tabular}{r|llllllll}\n",
       "  & ME & RMSE & MAE & MPE & MAPE & MASE & ACF1 & Theil's U\\\\\n",
       "\\hline\n",
       "\tTraining set & -0.04120561 & 2.145898 & 1.551358 & -0.8266727 & 4.440420 & 0.5698674 & 0.1093837 &        NA\\\\\n",
       "\tTest set &  1.54112579 & 3.251422 & 2.583929 &  2.6482491 & 4.246379 & 0.9491665 & 0.4227807 & 0.2140933\\\\\n",
       "\\end{tabular}\n"
      ],
      "text/markdown": [
       "\n",
       "A matrix: 2 × 8 of type dbl\n",
       "\n",
       "| <!--/--> | ME | RMSE | MAE | MPE | MAPE | MASE | ACF1 | Theil's U |\n",
       "|---|---|---|---|---|---|---|---|---|\n",
       "| Training set | -0.04120561 | 2.145898 | 1.551358 | -0.8266727 | 4.440420 | 0.5698674 | 0.1093837 |        NA |\n",
       "| Test set |  1.54112579 | 3.251422 | 2.583929 |  2.6482491 | 4.246379 | 0.9491665 | 0.4227807 | 0.2140933 |\n",
       "\n"
      ],
      "text/plain": [
       "             ME          RMSE     MAE      MPE        MAPE     MASE     \n",
       "Training set -0.04120561 2.145898 1.551358 -0.8266727 4.440420 0.5698674\n",
       "Test set      1.54112579 3.251422 2.583929  2.6482491 4.246379 0.9491665\n",
       "             ACF1      Theil's U\n",
       "Training set 0.1093837        NA\n",
       "Test set     0.4227807 0.2140933"
      ]
     },
     "metadata": {},
     "output_type": "display_data"
    },
    {
     "data": {
      "image/png": "[encoded data removed]",
      "text/plain": [
       "Plot with title \"Forecasts from ETS(A,A,A)\""
      ]
     },
     "metadata": {
      "image/png": {
       "height": 420,
       "width": 420
      }
     },
     "output_type": "display_data"
    }
   ],
   "source": [
    "library(forecast)\n",
    "library(fpp2)\n",
    "\n",
    "# data for hw() vs ets()\n",
    "austourists_train_data <- window(austourists, start=c(2000,1), end=c(2013,4))\n",
    "austourists_test_data <- window(austourists, start=c(2014,1), end=c(2015,4))\n",
    "\n",
    "# fit hw_additive\n",
    "fit_hw_austourist_1 <- hw(austourists_train_data, seasonal=\"additive\")\n",
    "summary(fit_hw_austourist_1)\n",
    "\n",
    "# fit hw_multiplicative\n",
    "fit_hw_austourist_2 <- hw(austourists_train_data, seasonal=\"multiplicative\")\n",
    "summary(fit_hw_austourist_2)\n",
    "\n",
    "# forecast hw_additive\n",
    "fore_hw_austourist_1 <- forecast(fit_hw_austourist_1)\n",
    "plot(fore_hw_austourist_1)\n",
    "lines(fitted(fit_hw_austourist_1), type=\"o\", col=\"red\")\n",
    "\n",
    "# forecast hw_additive\n",
    "fore_hw_austourist_2 <- forecast(fit_hw_austourist_2)\n",
    "plot(fore_hw_austourist_2)\n",
    "lines(fitted(fit_hw_austourist_2), type=\"o\", col=\"red\")\n",
    "\n",
    "# fit ets\n",
    "fit_ets_austourist <- ets(austourists_train_data)\n",
    "summary(fit_ets_austourist)\n",
    "\n",
    "# forecast ets\n",
    "fore_ets_austourist <- forecast(fit_ets_austourist)\n",
    "plot(fore_ets_austourist)\n",
    "lines(fitted(fit_ets_austourist), type=\"o\", col=\"red\")\n",
    "\n",
    "\n",
    "# 평가\n",
    "accuracy(fore_ets_austourist,austourists_test_data)\n",
    "accuracy(fore_hw_austourist_1,austourists_test_data)\n",
    "accuracy(fore_hw_austourist_2,austourists_test_data)\n"
   ]
  },
  {
   "cell_type": "code",
   "execution_count": null,
   "metadata": {},
   "outputs": [],
   "source": []
  }
 ],
 "metadata": {
  "kernelspec": {
   "display_name": "R",
   "language": "R",
   "name": "ir"
  },
  "language_info": {
   "codemirror_mode": "r",
   "file_extension": ".r",
   "mimetype": "text/x-r-source",
   "name": "R",
   "pygments_lexer": "r",
   "version": "3.6.1"
  }
 },
 "nbformat": 4,
 "nbformat_minor": 4
}
