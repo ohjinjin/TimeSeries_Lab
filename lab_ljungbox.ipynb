{
 "cells": [
  {
   "cell_type": "markdown",
   "metadata": {},
   "source": [
    "# Ljung\\-Box 통계 검정\n",
    "\n",
    "수업에서는 잔차 검증을 위한 용도로 륭박스 검정을 사용하지만, 이번 실습에서는 잔차 말고 우선 원계열을 잔차 대신 사용한 실습을 진행하겠습니다.<br/>"
   ]
  },
  {
   "cell_type": "code",
   "execution_count": 1,
   "metadata": {},
   "outputs": [
    {
     "name": "stderr",
     "output_type": "stream",
     "text": [
      "Warning message:\n",
      "\"package 'forecast' was built under R version 3.6.3\"\n",
      "Registered S3 methods overwritten by 'ggplot2':\n",
      "  method         from \n",
      "  [.quosures     rlang\n",
      "  c.quosures     rlang\n",
      "  print.quosures rlang\n",
      "\n",
      "Registered S3 method overwritten by 'xts':\n",
      "  method     from\n",
      "  as.zoo.xts zoo \n",
      "\n",
      "Registered S3 method overwritten by 'quantmod':\n",
      "  method            from\n",
      "  as.zoo.data.frame zoo \n",
      "\n",
      "Warning message:\n",
      "\"package 'fpp2' was built under R version 3.6.3\"\n",
      "Loading required package: ggplot2\n",
      "\n",
      "Loading required package: fma\n",
      "\n",
      "Warning message:\n",
      "\"package 'fma' was built under R version 3.6.3\"\n",
      "Loading required package: expsmooth\n",
      "\n",
      "Warning message:\n",
      "\"package 'expsmooth' was built under R version 3.6.3\"\n"
     ]
    },
    {
     "data": {
      "text/plain": [
       "\n",
       "\tBox-Ljung test\n",
       "\n",
       "data:  goog200\n",
       "X-squared = 1425.4, df = 10, p-value < 2.2e-16\n"
      ]
     },
     "metadata": {},
     "output_type": "display_data"
    }
   ],
   "source": [
    "library(forecast)\n",
    "library(fpp2)\n",
    "\n",
    "# google data에 시차 10을 두고 륭박스 통계검정 시행\n",
    "Box.test(goog200,lag=10, type=\"Ljung-Box\")"
   ]
  },
  {
   "cell_type": "code",
   "execution_count": 2,
   "metadata": {},
   "outputs": [
    {
     "data": {
      "text/plain": [
       "\n",
       "\tBox-Ljung test\n",
       "\n",
       "data:  diff(goog200)\n",
       "X-squared = 11.031, df = 10, p-value = 0.3551\n"
      ]
     },
     "metadata": {},
     "output_type": "display_data"
    }
   ],
   "source": [
    "# google data를 차분한 데이터에 시차 10을 두고 륭박스 통계검정 시행\n",
    "Box.test(diff(goog200),lag=10, type=\"Ljung-Box\")"
   ]
  },
  {
   "cell_type": "code",
   "execution_count": 3,
   "metadata": {},
   "outputs": [
    {
     "data": {
      "text/plain": [
       "\n",
       "\tBox-Ljung test\n",
       "\n",
       "data:  whitenoise\n",
       "X-squared = 8.0551, df = 10, p-value = 0.6235\n"
      ]
     },
     "metadata": {},
     "output_type": "display_data"
    }
   ],
   "source": [
    "# 백색잡음 400개 데이터에 시차 10을 두고 륭박스 통계검정 시행\n",
    "set.seed(123)\n",
    "whitenoise <- ts(rnorm(400))\n",
    "\n",
    "Box.test(whitenoise,lag=10, type=\"Ljung-Box\")"
   ]
  },
  {
   "cell_type": "code",
   "execution_count": 4,
   "metadata": {},
   "outputs": [
    {
     "data": {
      "text/plain": [
       "\n",
       "\tBox-Ljung test\n",
       "\n",
       "data:  randomwalk\n",
       "X-squared = 3254.5, df = 10, p-value < 2.2e-16\n"
      ]
     },
     "metadata": {},
     "output_type": "display_data"
    }
   ],
   "source": [
    "# 랜덤워크 모형 400개 데이터에 시차 10을 두고 륭박스 통계검정 시행\n",
    "set.seed(123)\n",
    "randomwalk <- ts(rnorm(400))\n",
    "ts_rw <- randomwalk\n",
    "\n",
    "for (t in 2:400){\n",
    "    randomwalk[t] = randomwalk[t-1] + ts_rw[t] # random walk process\n",
    "}\n",
    "\n",
    "Box.test(randomwalk,lag=10, type=\"Ljung-Box\")"
   ]
  },
  {
   "cell_type": "code",
   "execution_count": 5,
   "metadata": {},
   "outputs": [
    {
     "data": {
      "text/plain": [
       "\n",
       "\tBox-Ljung test\n",
       "\n",
       "data:  randomwalk\n",
       "X-squared = 3748.9, df = 10, p-value < 2.2e-16\n"
      ]
     },
     "metadata": {},
     "output_type": "display_data"
    }
   ],
   "source": [
    "# 랜덤워크 모형 400개 추세 데이터에 시차 10을 두고 륭박스 통계검정 시행\n",
    "set.seed(123)\n",
    "randomwalk <- ts(rnorm(400))\n",
    "ts_rw <- randomwalk\n",
    "\n",
    "for (t in 2:400){\n",
    "    randomwalk[t] = 0.3 + randomwalk[t-1] + ts_rw[t] # random walk process with drift\n",
    "}\n",
    "\n",
    "Box.test(randomwalk,lag=10, type=\"Ljung-Box\")"
   ]
  }
 ],
 "metadata": {
  "kernelspec": {
   "display_name": "R",
   "language": "R",
   "name": "ir"
  },
  "language_info": {
   "codemirror_mode": "r",
   "file_extension": ".r",
   "mimetype": "text/x-r-source",
   "name": "R",
   "pygments_lexer": "r",
   "version": "3.6.1"
  }
 },
 "nbformat": 4,
 "nbformat_minor": 4
}
