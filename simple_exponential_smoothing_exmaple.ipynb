{
 "cells": [
  {
   "cell_type": "markdown",
   "metadata": {},
   "source": [
    "## LAB 1\n",
    "\n",
    "벡터 데이터를 만들어 alpha값은 0.2로, initial 값은 simple로 인수를 설정하여 단순지수평활법에 해당하는 forecast 패키지의 ses()함수를 실행해봅니다.<br/>\n",
    "\n",
    "이 때 initial 값을 simple로 설정하게되면 초기값을 그대로 사용한다는 의미이며, 설정한 alpha값은 초기 0.2부터 지수적으로 상쇄하게되어 과거의 데이터에는 아주 미미한 영향만을 받게됩니다.<br/>\n",
    "\n",
    "Error measures 부분도 한번 확인해보세요!<br/>"
   ]
  },
  {
   "cell_type": "code",
   "execution_count": 1,
   "metadata": {},
   "outputs": [
    {
     "name": "stderr",
     "output_type": "stream",
     "text": [
      "Warning message:\n",
      "\"package 'forecast' was built under R version 3.6.3\"\n",
      "Registered S3 methods overwritten by 'ggplot2':\n",
      "  method         from \n",
      "  [.quosures     rlang\n",
      "  c.quosures     rlang\n",
      "  print.quosures rlang\n",
      "\n",
      "Registered S3 method overwritten by 'xts':\n",
      "  method     from\n",
      "  as.zoo.xts zoo \n",
      "\n",
      "Registered S3 method overwritten by 'quantmod':\n",
      "  method            from\n",
      "  as.zoo.data.frame zoo \n",
      "\n"
     ]
    },
    {
     "data": {
      "text/html": [
       "A Time Series:<br><style>\n",
       ".list-inline {list-style: none; margin:0; padding: 0}\n",
       ".list-inline>li {display: inline-block}\n",
       ".list-inline>li:not(:last-child)::after {content: \"\\00b7\"; padding: 0 .5ex}\n",
       "</style>\n",
       "<ol class=list-inline><li>35</li><li>25</li><li>30</li><li>35</li><li>32</li></ol>\n"
      ],
      "text/latex": [
       "A Time Series:\\\\\\begin{enumerate*}\n",
       "\\item 35\n",
       "\\item 25\n",
       "\\item 30\n",
       "\\item 35\n",
       "\\item 32\n",
       "\\end{enumerate*}\n"
      ],
      "text/markdown": [
       "A Time Series:  \n",
       "1. 35\n",
       "2. 25\n",
       "3. 30\n",
       "4. 35\n",
       "5. 32\n",
       "\n",
       "\n"
      ],
      "text/plain": [
       "A Time Series:\n",
       "[1] 35 25 30 35 32"
      ]
     },
     "metadata": {},
     "output_type": "display_data"
    }
   ],
   "source": [
    "library(forecast)\n",
    "\n",
    "simple_ex.ts <- ts(c(35,25,30,35,32))\n",
    "simple_ex.ts"
   ]
  },
  {
   "cell_type": "code",
   "execution_count": 2,
   "metadata": {},
   "outputs": [
    {
     "data": {
      "text/html": [
       "A Time Series:<br><style>\n",
       ".list-inline {list-style: none; margin:0; padding: 0}\n",
       ".list-inline>li {display: inline-block}\n",
       ".list-inline>li:not(:last-child)::after {content: \"\\00b7\"; padding: 0 .5ex}\n",
       "</style>\n",
       "<ol class=list-inline><li>35</li><li>35</li><li>33</li><li>32.4</li><li>32.92</li></ol>\n"
      ],
      "text/latex": [
       "A Time Series:\\\\\\begin{enumerate*}\n",
       "\\item 35\n",
       "\\item 35\n",
       "\\item 33\n",
       "\\item 32.4\n",
       "\\item 32.92\n",
       "\\end{enumerate*}\n"
      ],
      "text/markdown": [
       "A Time Series:  \n",
       "1. 35\n",
       "2. 35\n",
       "3. 33\n",
       "4. 32.4\n",
       "5. 32.92\n",
       "\n",
       "\n"
      ],
      "text/plain": [
       "A Time Series:\n",
       "[1] 35.00 35.00 33.00 32.40 32.92"
      ]
     },
     "metadata": {},
     "output_type": "display_data"
    }
   ],
   "source": [
    "simple_ex_fit <- ses(simple_ex.ts, alpha = 0.2, initial = \"simple\")\n",
    "simple_ex_fit$fitted  # 적합된 데이터 값"
   ]
  },
  {
   "cell_type": "code",
   "execution_count": 3,
   "metadata": {},
   "outputs": [
    {
     "name": "stdout",
     "output_type": "stream",
     "text": [
      "\n",
      "Forecast method: Simple exponential smoothing\n",
      "\n",
      "Model Information:\n",
      "Simple exponential smoothing \n",
      "\n",
      "Call:\n",
      " ses(y = simple_ex.ts, initial = \"simple\", alpha = 0.2) \n",
      "\n",
      "  Smoothing parameters:\n",
      "    alpha = 0.2 \n",
      "\n",
      "  Initial states:\n",
      "    l = 35 \n",
      "\n",
      "  sigma:  4.8292\n",
      "Error measures:\n",
      "                 ME     RMSE   MAE       MPE     MAPE      MASE       ACF1\n",
      "Training set -2.264 4.829211 3.304 -9.089286 12.06071 0.5746087 -0.0974225\n",
      "\n",
      "Forecasts:\n",
      "   Point Forecast    Lo 80    Hi 80    Lo 95    Hi 95\n",
      " 6         32.736 26.54712 38.92488 23.27092 42.20108\n",
      " 7         32.736 26.42455 39.04745 23.08347 42.38853\n",
      " 8         32.736 26.30432 39.16768 22.89960 42.57240\n",
      " 9         32.736 26.18630 39.28570 22.71910 42.75290\n",
      "10         32.736 26.07037 39.40163 22.54180 42.93020\n",
      "11         32.736 25.95642 39.51558 22.36752 43.10448\n",
      "12         32.736 25.84435 39.62765 22.19613 43.27587\n",
      "13         32.736 25.73408 39.73792 22.02748 43.44452\n",
      "14         32.736 25.62551 39.84649 21.86145 43.61055\n",
      "15         32.736 25.51858 39.95342 21.69791 43.77409\n"
     ]
    }
   ],
   "source": [
    "summary(simple_ex_fit)"
   ]
  },
  {
   "cell_type": "code",
   "execution_count": null,
   "metadata": {},
   "outputs": [],
   "source": []
  },
  {
   "cell_type": "markdown",
   "metadata": {},
   "source": [
    "## LAB 2\n",
    "\n",
    "데이터를 불러들여 이번엔 optimal로 계산을 한번 해봅시다.<br/>\n",
    "초기값을 optimal로 하게되면 초기값하고 알파값도 optimal(최적)한 값으로 찾아서 알아서 해줍니다.<br/>\n",
    "\n",
    "파라미터로 h=3 으로 주게되면 미래값을 3개 예측해서 보여달라는 뜻이 됩니다.<br/>"
   ]
  },
  {
   "cell_type": "code",
   "execution_count": 4,
   "metadata": {},
   "outputs": [
    {
     "data": {
      "text/html": [
       "A Time Series:<br><style>\n",
       ".list-inline {list-style: none; margin:0; padding: 0}\n",
       ".list-inline>li {display: inline-block}\n",
       ".list-inline>li:not(:last-child)::after {content: \"\\00b7\"; padding: 0 .5ex}\n",
       "</style>\n",
       "<ol class=list-inline><li>312</li><li>381</li><li>317</li><li>337</li><li>399</li><li>387</li><li>375</li><li>349</li><li>386</li><li>358</li><li>389</li><li>343</li><li>328</li><li>388</li><li>412</li><li>334</li><li>422</li><li>348</li><li>399</li><li>398</li><li>434</li><li>362</li><li>454</li><li>365</li></ol>\n"
      ],
      "text/latex": [
       "A Time Series:\\\\\\begin{enumerate*}\n",
       "\\item 312\n",
       "\\item 381\n",
       "\\item 317\n",
       "\\item 337\n",
       "\\item 399\n",
       "\\item 387\n",
       "\\item 375\n",
       "\\item 349\n",
       "\\item 386\n",
       "\\item 358\n",
       "\\item 389\n",
       "\\item 343\n",
       "\\item 328\n",
       "\\item 388\n",
       "\\item 412\n",
       "\\item 334\n",
       "\\item 422\n",
       "\\item 348\n",
       "\\item 399\n",
       "\\item 398\n",
       "\\item 434\n",
       "\\item 362\n",
       "\\item 454\n",
       "\\item 365\n",
       "\\end{enumerate*}\n"
      ],
      "text/markdown": [
       "A Time Series:  \n",
       "1. 312\n",
       "2. 381\n",
       "3. 317\n",
       "4. 337\n",
       "5. 399\n",
       "6. 387\n",
       "7. 375\n",
       "8. 349\n",
       "9. 386\n",
       "10. 358\n",
       "11. 389\n",
       "12. 343\n",
       "13. 328\n",
       "14. 388\n",
       "15. 412\n",
       "16. 334\n",
       "17. 422\n",
       "18. 348\n",
       "19. 399\n",
       "20. 398\n",
       "21. 434\n",
       "22. 362\n",
       "23. 454\n",
       "24. 365\n",
       "\n",
       "\n"
      ],
      "text/plain": [
       "A Time Series:\n",
       " [1] 312 381 317 337 399 387 375 349 386 358 389 343 328 388 412 334 422 348 399\n",
       "[20] 398 434 362 454 365"
      ]
     },
     "metadata": {},
     "output_type": "display_data"
    }
   ],
   "source": [
    "ses_pra <- read.csv(\"ses_pra.csv\")\n",
    "ses_pra.ts <- ts(ses_pra$sales, start=1987)\n",
    "ses_pra.ts\n",
    "ses_pra_fit <- ses(ses_pra.ts, initial=\"optimal\", h=3)"
   ]
  },
  {
   "cell_type": "code",
   "execution_count": 5,
   "metadata": {},
   "outputs": [
    {
     "name": "stdout",
     "output_type": "stream",
     "text": [
      "\n",
      "Forecast method: Simple exponential smoothing\n",
      "\n",
      "Model Information:\n",
      "Simple exponential smoothing \n",
      "\n",
      "Call:\n",
      " ses(y = ses_pra.ts, h = 3, initial = \"optimal\") \n",
      "\n",
      "  Smoothing parameters:\n",
      "    alpha = 0.1381 \n",
      "\n",
      "  Initial states:\n",
      "    l = 359.4534 \n",
      "\n",
      "  sigma:  37.858\n",
      "\n",
      "     AIC     AICc      BIC \n",
      "254.6095 255.8095 258.1436 \n",
      "\n",
      "Error measures:\n",
      "                   ME    RMSE    MAE      MPE     MAPE      MASE       ACF1\n",
      "Training set 8.559516 36.2463 32.684 1.434134 8.642223 0.6915658 -0.4001672\n",
      "\n",
      "Forecasts:\n",
      "     Point Forecast    Lo 80    Hi 80    Lo 95    Hi 95\n",
      "2011       387.8327 339.3157 436.3497 313.6323 462.0331\n",
      "2012       387.8327 338.8549 436.8105 312.9277 462.7378\n",
      "2013       387.8327 338.3984 437.2670 312.2295 463.4359\n"
     ]
    },
    {
     "data": {
      "text/html": [
       "A Time Series:<br><style>\n",
       ".list-inline {list-style: none; margin:0; padding: 0}\n",
       ".list-inline>li {display: inline-block}\n",
       ".list-inline>li:not(:last-child)::after {content: \"\\00b7\"; padding: 0 .5ex}\n",
       "</style>\n",
       "<ol class=list-inline><li>359.453392315987</li><li>352.897847727517</li><li>356.780076231382</li><li>351.284577369445</li><li>349.311205618712</li><li>356.175564333992</li><li>360.433868167728</li><li>362.446135827585</li><li>360.588592274673</li><li>364.099102446209</li><li>363.256529637725</li><li>366.812913271967</li><li>363.523230340635</li><li>358.615802039749</li><li>362.675141330861</li><li>369.489223413178</li><li>364.586493067873</li><li>372.517997778173</li><li>369.130909525672</li><li>373.257235271103</li><li>376.675374407336</li><li>384.594600425735</li><li>381.473223779714</li><li>391.492581557217</li></ol>\n"
      ],
      "text/latex": [
       "A Time Series:\\\\\\begin{enumerate*}\n",
       "\\item 359.453392315987\n",
       "\\item 352.897847727517\n",
       "\\item 356.780076231382\n",
       "\\item 351.284577369445\n",
       "\\item 349.311205618712\n",
       "\\item 356.175564333992\n",
       "\\item 360.433868167728\n",
       "\\item 362.446135827585\n",
       "\\item 360.588592274673\n",
       "\\item 364.099102446209\n",
       "\\item 363.256529637725\n",
       "\\item 366.812913271967\n",
       "\\item 363.523230340635\n",
       "\\item 358.615802039749\n",
       "\\item 362.675141330861\n",
       "\\item 369.489223413178\n",
       "\\item 364.586493067873\n",
       "\\item 372.517997778173\n",
       "\\item 369.130909525672\n",
       "\\item 373.257235271103\n",
       "\\item 376.675374407336\n",
       "\\item 384.594600425735\n",
       "\\item 381.473223779714\n",
       "\\item 391.492581557217\n",
       "\\end{enumerate*}\n"
      ],
      "text/markdown": [
       "A Time Series:  \n",
       "1. 359.453392315987\n",
       "2. 352.897847727517\n",
       "3. 356.780076231382\n",
       "4. 351.284577369445\n",
       "5. 349.311205618712\n",
       "6. 356.175564333992\n",
       "7. 360.433868167728\n",
       "8. 362.446135827585\n",
       "9. 360.588592274673\n",
       "10. 364.099102446209\n",
       "11. 363.256529637725\n",
       "12. 366.812913271967\n",
       "13. 363.523230340635\n",
       "14. 358.615802039749\n",
       "15. 362.675141330861\n",
       "16. 369.489223413178\n",
       "17. 364.586493067873\n",
       "18. 372.517997778173\n",
       "19. 369.130909525672\n",
       "20. 373.257235271103\n",
       "21. 376.675374407336\n",
       "22. 384.594600425735\n",
       "23. 381.473223779714\n",
       "24. 391.492581557217\n",
       "\n",
       "\n"
      ],
      "text/plain": [
       "A Time Series:\n",
       " [1] 359.4534 352.8978 356.7801 351.2846 349.3112 356.1756 360.4339 362.4461\n",
       " [9] 360.5886 364.0991 363.2565 366.8129 363.5232 358.6158 362.6751 369.4892\n",
       "[17] 364.5865 372.5180 369.1309 373.2572 376.6754 384.5946 381.4732 391.4926"
      ]
     },
     "metadata": {},
     "output_type": "display_data"
    }
   ],
   "source": [
    "summary(ses_pra_fit)\n",
    "ses_pra_fit$fitted"
   ]
  },
  {
   "cell_type": "markdown",
   "metadata": {},
   "source": [
    "차트를 한번 그려보도록 합시다.<br/>"
   ]
  },
  {
   "cell_type": "code",
   "execution_count": 6,
   "metadata": {},
   "outputs": [
    {
     "data": {
      "image/png": "[encoded data removed]",
      "text/plain": [
       "Plot with title \"Forecasts from Simple exponential smoothing\""
      ]
     },
     "metadata": {
      "image/png": {
       "height": 420,
       "width": 420
      }
     },
     "output_type": "display_data"
    }
   ],
   "source": [
    "plot(ses_pra_fit)\n",
    "lines(fitted(ses_pra_fit), type=\"o\", col=\"red\")"
   ]
  },
  {
   "cell_type": "markdown",
   "metadata": {},
   "source": [
    "시계열자료가 갖는 변수는 들쑥날쑥하기도하며 변화하는 정도가 심한 경우가 보통입니다. 순환변동과 계절변동은 물론 불규칙변동까지 작용하기 때문이지요. 그래서 이러한 시계열 데이터를 정확하게 파악 및 예측하기란 쉽지 않은 일입니다. 변화 폭이 심한 시계열자료를 평탄하고 변화가 완만한 값으로 변환시키는 것으로부터 문제해결에 접근하는 예측방법을 평활 (smoothing) 이라고 부릅니다. 즉 평활이란 들쭉날쭉한 시계열자료 값을 평탄한 값으로 변환하는 것입니다.\n",
    "\n",
    "그 중에서도 단순지수평활법은 가중치의 개념을 이용하여 아주 잔잔하거나 추세나 계절성이 없는 데이터들에 적용하기에 적절한 분석법으로 도식화해서 확인해보니 잘 이해가 되시죠?\n",
    "\n",
    "그리고 참고로 오른쪽 띠에서 진한부분은 신뢰구간을 의미하며 (위 아래는 약간 희끄무리하잖아요? 저 부분은 기각역이라고 볼 수 있습니다.)"
   ]
  }
 ],
 "metadata": {
  "kernelspec": {
   "display_name": "R",
   "language": "R",
   "name": "ir"
  },
  "language_info": {
   "codemirror_mode": "r",
   "file_extension": ".r",
   "mimetype": "text/x-r-source",
   "name": "R",
   "pygments_lexer": "r",
   "version": "3.6.1"
  }
 },
 "nbformat": 4,
 "nbformat_minor": 4
}
